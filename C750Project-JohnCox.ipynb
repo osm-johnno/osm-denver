{
 "cells": [
  {
   "cell_type": "markdown",
   "metadata": {},
   "source": [
    "# Exploring Denver Colorado\n",
    "\n",
    "In this project I will be wrangling a dataset from Open Street Map for Denver Colorado. \n",
    "\n",
    "I will:\n",
    "- [Audit the data.](#audit)\n",
    "- [Clean the data.](#clean)\n",
    "- [Finally import and analyze the data in a SQL database.](#SQL)"
   ]
  },
  {
   "cell_type": "markdown",
   "metadata": {},
   "source": [
    "## Data Auditing <a id='audit'></a>\n",
    "To Audit the data I will follow these steps:\n",
    "1. [Establish and count the tags.](#tagcount)\n",
    "2. [Determine the structure.](#treestruct)\n",
    "3. [Convert tree structure to schema](#schema)\n",
    "4. [Discover which data may present a problem in upload.](#issues) "
   ]
  },
  {
   "cell_type": "markdown",
   "metadata": {},
   "source": [
    "### First I will import all of my tools."
   ]
  },
  {
   "cell_type": "code",
   "execution_count": 10,
   "metadata": {},
   "outputs": [],
   "source": [
    "import xml.etree.cElementTree as ET\n",
    "import pprint\n",
    "import csv\n",
    "import codecs\n",
    "import re\n",
    "import cerberus\n",
    "from itertools import chain\n",
    "from collections import defaultdict\n",
    "import schema"
   ]
  },
  {
   "cell_type": "markdown",
   "metadata": {},
   "source": [
    "### Next I will count the individual tags\n",
    "\n",
    "I will do this by defining a function to iteratively parse through the xml file and count the occurance of each unique tag."
   ]
  },
  {
   "cell_type": "code",
   "execution_count": 11,
   "metadata": {},
   "outputs": [],
   "source": [
    "Denver = './denver_colorado_osm.xml'\n",
    "\n",
    "def count_tags(xml):\n",
    "    tags = {}\n",
    "    for event, elem in ET.iterparse(xml):\n",
    "        if elem.tag in tags:\n",
    "            tags[elem.tag] += 1\n",
    "        else:\n",
    "            tags[elem.tag] = 1\n",
    "    return tags\n"
   ]
  },
  {
   "cell_type": "code",
   "execution_count": 3,
   "metadata": {},
   "outputs": [
    {
     "name": "stdout",
     "output_type": "stream",
     "text": [
      "{'note': 1, 'meta': 1, 'bounds': 1, 'node': 3132214, 'tag': 1842489, 'nd': 3526619, 'way': 396041, 'member': 44664, 'relation': 1725, 'osm': 1}\n"
     ]
    }
   ],
   "source": [
    "Tags = count_tags(Denver)\n",
    "print(Tags)"
   ]
  },
  {
   "cell_type": "markdown",
   "metadata": {},
   "source": [
    "### Tag Count <a id='tagcount'></a>\n",
    "There are 10 unique tag types that exist in the following amounts:\n",
    "1.  osm : 1\n",
    "2.  note : 1\n",
    "3.  meta : 1\n",
    "4.  bounds : 1\n",
    "5.  relation : 1,725 \n",
    "6.  member : 44,664\n",
    "7.  way : 396,041\n",
    "8.  tag : 1,842,489\n",
    "9.  node : 3,132,214\n",
    "10. nd : 3,526,619"
   ]
  },
  {
   "cell_type": "markdown",
   "metadata": {},
   "source": [
    "### Define Structure\n",
    "I will first identify the root using the .getroot function.  Knowing this I can explore the structure further by iterating through the children of each tag. "
   ]
  },
  {
   "cell_type": "code",
   "execution_count": 12,
   "metadata": {},
   "outputs": [
    {
     "name": "stdout",
     "output_type": "stream",
     "text": [
      "<Element 'osm' at 0x000001F8AEB06220>\n"
     ]
    }
   ],
   "source": [
    "dtree = ET.parse(Denver)\n",
    "droot = dtree.getroot()\n",
    "print(droot)"
   ]
  },
  {
   "cell_type": "code",
   "execution_count": 13,
   "metadata": {},
   "outputs": [
    {
     "name": "stdout",
     "output_type": "stream",
     "text": [
      "{'note': 1, 'meta': 1, 'bounds': 1, 'node': 3132214, 'way': 396041, 'relation': 1725}\n"
     ]
    }
   ],
   "source": [
    "def child_count(rname):\n",
    "    children = {}\n",
    "    for child in rname:\n",
    "        if child.tag in children:\n",
    "            children[child.tag] +=1\n",
    "        else:\n",
    "            children[child.tag] = 1\n",
    "    return children\n",
    "        \n",
    "print(child_count(droot))"
   ]
  },
  {
   "cell_type": "markdown",
   "metadata": {},
   "source": [
    "#### OSM Structure\n",
    "Below the root are 6 unique tag types in the following quantities:\n",
    "1. note : 1\n",
    "2. meta : 1\n",
    "3. bounds : 1\n",
    "4. node : 3,132,214\n",
    "5. way : 396,041\n",
    "6. relation : 1,725\n",
    "\n",
    "This accounts for all tags, of those types, found in the initial count. \n",
    "\n",
    "Because note has only one tag and was discovered first I will assume it is located at the 0 position of the root. I expect to find meta and bounds at 1 and 2 or as children of note. I will now explore these three."
   ]
  },
  {
   "cell_type": "code",
   "execution_count": 6,
   "metadata": {},
   "outputs": [
    {
     "name": "stdout",
     "output_type": "stream",
     "text": [
      "<Element 'note' at 0x000001A3B58855E0>\n",
      "{}\n",
      "<Element 'meta' at 0x000001A3B5885540>\n",
      "{}\n",
      "<Element 'bounds' at 0x000001A3B5885770>\n",
      "{}\n"
     ]
    }
   ],
   "source": [
    "#Examining note\n",
    "print(droot[0])\n",
    "print(child_count(droot[0]))\n",
    "\n",
    "#Examining meta\n",
    "print(droot[1])\n",
    "print(child_count(droot[1]))\n",
    "\n",
    "#Examining bounds\n",
    "print(droot[2])\n",
    "print(child_count(droot[2]))"
   ]
  },
  {
   "cell_type": "markdown",
   "metadata": {},
   "source": [
    "Note, meta, and bounds were found where they were expected and, unsurprisingly, contained no children.\n",
    "\n",
    "Because the node, way, and relation tags have significantly more entries I will need a new function to examine their children. "
   ]
  },
  {
   "cell_type": "code",
   "execution_count": 14,
   "metadata": {},
   "outputs": [
    {
     "name": "stdout",
     "output_type": "stream",
     "text": [
      "[{}, {'tag': 1}, {'tag': 3}, {'tag': 2}, {'tag': 11}, {'tag': 14}, {'tag': 12}, {'tag': 13}, {'tag': 21}, {'tag': 15}, {'tag': 4}, {'tag': 9}, {'tag': 8}, {'tag': 5}, {'tag': 7}, {'tag': 6}, {'tag': 17}, {'tag': 10}, {'tag': 16}, {'tag': 19}, {'tag': 24}, {'tag': 26}, {'tag': 18}, {'tag': 25}, {'tag': 30}]\n"
     ]
    }
   ],
   "source": [
    "def count_grandchildren(tname):\n",
    "    grandchildren = []\n",
    "    count = 0\n",
    "    for i in droot:\n",
    "        if i.tag == tname:\n",
    "            if child_count(droot[count]) not in grandchildren:\n",
    "                grandchildren.append(child_count(droot[count]))\n",
    "        count += 1\n",
    "    return grandchildren\n",
    "\n",
    "print(count_grandchildren('node'))"
   ]
  },
  {
   "cell_type": "markdown",
   "metadata": {},
   "source": [
    "#### Node Structure\n",
    "Node has exaclty one type of tag, the \"tag\" tag. Each node has between 0 and 30 tags of this type. \n",
    "\n",
    "I will now explore the ways tag in similar fashion."
   ]
  },
  {
   "cell_type": "code",
   "execution_count": 15,
   "metadata": {},
   "outputs": [
    {
     "name": "stdout",
     "output_type": "stream",
     "text": [
      "[{'nd': 11, 'tag': 11}, {'nd': 29, 'tag': 2}, {'nd': 45, 'tag': 2}, {'nd': 10, 'tag': 3}, {'nd': 8, 'tag': 3}, {'nd': 71, 'tag': 10}, {'nd': 13, 'tag': 10}, {'nd': 6, 'tag': 10}, {'nd': 2, 'tag': 5}, {'nd': 2, 'tag': 8}, {'nd': 2, 'tag': 9}, {'nd': 21, 'tag': 7}, {'nd': 17, 'tag': 1}, {'nd': 17, 'tag': 12}, {'nd': 2, 'tag': 11}, {'nd': 7, 'tag': 12}, {'nd': 7, 'tag': 7}, {'nd': 8, 'tag': 7}, {'nd': 16, 'tag': 7}, {'nd': 5, 'tag': 7}, {'nd': 20, 'tag': 7}, {'nd': 3, 'tag': 7}, {'nd': 9, 'tag': 7}, {'nd': 4, 'tag': 11}, {'nd': 11, 'tag': 8}, {'nd': 6, 'tag': 7}, {'nd': 33, 'tag': 10}, {'nd': 25, 'tag': 7}, {'nd': 2, 'tag': 7}, {'nd': 4, 'tag': 7}, {'nd': 23, 'tag': 7}, {'nd': 3, 'tag': 10}, {'nd': 14, 'tag': 7}, {'nd': 4, 'tag': 8}, {'nd': 5, 'tag': 8}, {'nd': 9, 'tag': 8}, {'nd': 13, 'tag': 8}, {'nd': 27, 'tag': 8}, {'nd': 3, 'tag': 11}, {'nd': 6, 'tag': 8}, {'nd': 17, 'tag': 7}, {'nd': 12, 'tag': 10}, {'nd': 2, 'tag': 10}, {'nd': 18, 'tag': 8}, {'nd': 18, 'tag': 7}, {'nd': 35, 'tag': 12}, {'nd': 19, 'tag': 8}, {'nd': 6, 'tag': 11}, {'nd': 10, 'tag': 11}, {'nd': 21, 'tag': 10}, {'nd': 8, 'tag': 9}, {'nd': 6, 'tag': 9}, {'nd': 8, 'tag': 8}, {'nd': 34, 'tag': 7}, {'nd': 8, 'tag': 6}, {'nd': 15, 'tag': 4}, {'nd': 2, 'tag': 4}, {'nd': 6, 'tag': 4}, {'nd': 18, 'tag': 3}, {'nd': 51, 'tag': 4}, {'nd': 14, 'tag': 8}, {'nd': 7, 'tag': 8}, {'nd': 17, 'tag': 6}, {'nd': 16, 'tag': 8}, {'nd': 15, 'tag': 7}, {'nd': 11, 'tag': 6}, {'nd': 13, 'tag': 7}, {'nd': 3, 'tag': 8}, {'nd': 10, 'tag': 7}, {'nd': 25, 'tag': 9}, {'nd': 12, 'tag': 7}, {'nd': 11, 'tag': 7}, {'nd': 44, 'tag': 7}, {'nd': 27, 'tag': 7}, {'nd': 15, 'tag': 8}, {'nd': 2, 'tag': 1}, {'nd': 16, 'tag': 6}, {'nd': 7, 'tag': 5}, {'nd': 3, 'tag': 4}, {'nd': 5, 'tag': 9}, {'nd': 23, 'tag': 5}, {'nd': 23, 'tag': 6}, {'nd': 43, 'tag': 5}, {'nd': 10, 'tag': 5}, {'nd': 42, 'tag': 4}, {'nd': 35, 'tag': 7}, {'nd': 26, 'tag': 7}, {'nd': 18, 'tag': 5}, {'nd': 8, 'tag': 5}, {'nd': 4, 'tag': 5}, {'nd': 11, 'tag': 4}, {'nd': 17, 'tag': 5}, {'nd': 5, 'tag': 5}, {'nd': 8, 'tag': 10}, {'nd': 16, 'tag': 10}, {'nd': 22, 'tag': 8}, {'nd': 29, 'tag': 11}, {'nd': 14, 'tag': 11}, {'nd': 12, 'tag': 8}, {'nd': 6, 'tag': 6}, {'nd': 29, 'tag': 8}, {'nd': 12, 'tag': 9}, {'nd': 20, 'tag': 5}, {'nd': 14, 'tag': 5}, {'nd': 3, 'tag': 5}, {'nd': 8, 'tag': 4}, {'nd': 4, 'tag': 4}, {'nd': 10, 'tag': 8}, {'nd': 82, 'tag': 4}, {'nd': 20, 'tag': 8}, {'nd': 24, 'tag': 8}, {'nd': 46, 'tag': 8}, {'nd': 34, 'tag': 9}, {'nd': 10, 'tag': 4}, {'nd': 17, 'tag': 9}, {'nd': 28, 'tag': 8}, {'nd': 24, 'tag': 7}, {'nd': 7, 'tag': 4}, {'nd': 2, 'tag': 6}, {'nd': 12, 'tag': 5}, {'nd': 16, 'tag': 5}, {'nd': 9, 'tag': 4}, {'nd': 20, 'tag': 6}, {'nd': 21, 'tag': 8}, {'nd': 22, 'tag': 9}, {'nd': 18, 'tag': 4}, {'nd': 6, 'tag': 5}, {'nd': 9, 'tag': 5}, {'nd': 19, 'tag': 9}, {'nd': 20, 'tag': 9}, {'nd': 5, 'tag': 4}, {'nd': 17, 'tag': 8}, {'nd': 9, 'tag': 11}, {'nd': 16, 'tag': 4}, {'nd': 25, 'tag': 10}, {'nd': 43, 'tag': 7}, {'nd': 9, 'tag': 6}, {'nd': 5, 'tag': 6}, {'nd': 13, 'tag': 5}, {'nd': 11, 'tag': 5}, {'nd': 15, 'tag': 6}, {'nd': 5, 'tag': 3}, {'nd': 26, 'tag': 4}, {'nd': 20, 'tag': 14}, {'nd': 28, 'tag': 9}, {'nd': 9, 'tag': 9}, {'nd': 13, 'tag': 9}, {'nd': 19, 'tag': 7}, {'nd': 34, 'tag': 8}, {'nd': 46, 'tag': 7}, {'nd': 7, 'tag': 6}, {'nd': 51, 'tag': 2}, {'nd': 80, 'tag': 9}, {'nd': 19, 'tag': 4}, {'nd': 10, 'tag': 6}, {'nd': 22, 'tag': 7}, {'nd': 44, 'tag': 6}, {'nd': 15, 'tag': 5}, {'nd': 7, 'tag': 9}, {'nd': 12, 'tag': 11}, {'nd': 12, 'tag': 4}, {'nd': 30, 'tag': 9}, {'nd': 4, 'tag': 9}, {'nd': 54, 'tag': 7}, {'nd': 14, 'tag': 6}, {'nd': 37, 'tag': 7}, {'nd': 14, 'tag': 4}, {'nd': 23, 'tag': 4}, {'nd': 25, 'tag': 4}, {'nd': 22, 'tag': 4}, {'nd': 31, 'tag': 7}, {'nd': 13, 'tag': 6}, {'nd': 3, 'tag': 6}, {'nd': 4, 'tag': 6}, {'nd': 41, 'tag': 5}, {'nd': 7, 'tag': 11}, {'nd': 52, 'tag': 10}, {'nd': 36, 'tag': 9}, {'nd': 10, 'tag': 9}, {'nd': 21, 'tag': 5}, {'nd': 40, 'tag': 9}, {'nd': 18, 'tag': 9}, {'nd': 19, 'tag': 5}, {'nd': 28, 'tag': 7}, {'nd': 68, 'tag': 5}, {'nd': 11, 'tag': 3}, {'nd': 25, 'tag': 8}, {'nd': 53, 'tag': 8}, {'nd': 38, 'tag': 7}, {'nd': 37, 'tag': 9}, {'nd': 5, 'tag': 2}, {'nd': 13, 'tag': 11}, {'nd': 12, 'tag': 6}, {'nd': 14, 'tag': 9}, {'nd': 31, 'tag': 11}, {'nd': 38, 'tag': 5}, {'nd': 28, 'tag': 4}, {'nd': 23, 'tag': 8}, {'nd': 37, 'tag': 4}, {'nd': 54, 'tag': 8}, {'nd': 3, 'tag': 2}, {'nd': 14, 'tag': 10}, {'nd': 6, 'tag': 2}, {'nd': 33, 'tag': 7}, {'nd': 21, 'tag': 4}, {'nd': 29, 'tag': 4}, {'nd': 15, 'tag': 11}, {'nd': 20, 'tag': 11}, {'nd': 2, 'tag': 2}, {'nd': 3, 'tag': 9}, {'nd': 5, 'tag': 10}, {'nd': 6, 'tag': 1}, {'nd': 50, 'tag': 7}, {'nd': 26, 'tag': 5}, {'nd': 22, 'tag': 3}, {'nd': 54, 'tag': 6}, {'nd': 59, 'tag': 6}, {'nd': 30, 'tag': 8}, {'nd': 40, 'tag': 8}, {'nd': 10, 'tag': 10}, {'nd': 9, 'tag': 10}, {'nd': 2, 'tag': 3}, {'nd': 20, 'tag': 10}, {'nd': 23, 'tag': 12}, {'nd': 11, 'tag': 9}, {'nd': 26, 'tag': 9}, {'nd': 39, 'tag': 7}, {'nd': 7, 'tag': 10}, {'nd': 7, 'tag': 13}, {'nd': 59, 'tag': 9}, {'nd': 26, 'tag': 10}, {'nd': 26, 'tag': 8}, {'nd': 21, 'tag': 9}, {'nd': 67, 'tag': 10}, {'nd': 4, 'tag': 10}, {'nd': 21, 'tag': 11}, {'nd': 22, 'tag': 14}, {'nd': 3, 'tag': 12}, {'nd': 8, 'tag': 16}, {'nd': 20, 'tag': 17}, {'nd': 10, 'tag': 16}, {'nd': 3, 'tag': 18}, {'nd': 32, 'tag': 8}, {'nd': 54, 'tag': 10}, {'nd': 8, 'tag': 11}, {'nd': 4, 'tag': 3}, {'nd': 38, 'tag': 8}, {'nd': 20, 'tag': 3}, {'nd': 52, 'tag': 7}, {'nd': 48, 'tag': 8}, {'nd': 60, 'tag': 7}, {'nd': 29, 'tag': 10}, {'nd': 13, 'tag': 13}, {'nd': 3, 'tag': 3}, {'nd': 21, 'tag': 3}, {'nd': 16, 'tag': 9}, {'nd': 50, 'tag': 11}, {'nd': 5, 'tag': 11}, {'nd': 31, 'tag': 8}, {'nd': 24, 'tag': 2}, {'nd': 15, 'tag': 10}, {'nd': 35, 'tag': 8}, {'nd': 27, 'tag': 10}, {'nd': 8, 'tag': 14}, {'nd': 57, 'tag': 7}, {'nd': 18, 'tag': 6}, {'nd': 16, 'tag': 2}, {'nd': 16, 'tag': 12}, {'nd': 42, 'tag': 8}, {'nd': 6, 'tag': 12}, {'nd': 25, 'tag': 15}, {'nd': 39, 'tag': 10}, {'nd': 60, 'tag': 9}, {'nd': 3, 'tag': 15}, {'nd': 76, 'tag': 7}, {'nd': 59, 'tag': 8}, {'nd': 2, 'tag': 12}, {'nd': 11, 'tag': 10}, {'nd': 30, 'tag': 10}, {'nd': 37, 'tag': 8}, {'nd': 24, 'tag': 9}, {'nd': 12, 'tag': 15}, {'nd': 4, 'tag': 12}, {'nd': 44, 'tag': 8}, {'nd': 40, 'tag': 5}, {'nd': 29, 'tag': 7}, {'nd': 65, 'tag': 7}, {'nd': 17, 'tag': 10}, {'nd': 53, 'tag': 7}, {'nd': 25, 'tag': 11}, {'nd': 36, 'tag': 7}, {'nd': 16, 'tag': 11}, {'nd': 2, 'tag': 13}, {'nd': 8, 'tag': 12}, {'nd': 17, 'tag': 3}, {'nd': 41, 'tag': 6}, {'nd': 56, 'tag': 10}, {'nd': 38, 'tag': 10}, {'nd': 45, 'tag': 7}, {'nd': 46, 'tag': 9}, {'nd': 6, 'tag': 3}, {'nd': 34, 'tag': 10}, {'nd': 35, 'tag': 10}, {'nd': 19, 'tag': 10}, {'nd': 30, 'tag': 7}, {'nd': 42, 'tag': 9}, {'nd': 24, 'tag': 10}, {'nd': 2, 'tag': 16}, {'nd': 2, 'tag': 15}, {'nd': 19, 'tag': 6}, {'nd': 43, 'tag': 8}, {'nd': 33, 'tag': 11}, {'nd': 68, 'tag': 11}, {'nd': 18, 'tag': 11}, {'nd': 40, 'tag': 7}, {'nd': 38, 'tag': 9}, {'nd': 27, 'tag': 3}, {'nd': 49, 'tag': 8}, {'nd': 31, 'tag': 10}, {'nd': 17, 'tag': 11}, {'nd': 14, 'tag': 14}, {'nd': 144, 'tag': 11}, {'nd': 32, 'tag': 7}, {'nd': 12, 'tag': 12}, {'nd': 10, 'tag': 12}, {'nd': 55, 'tag': 8}, {'nd': 15, 'tag': 12}, {'nd': 73, 'tag': 8}, {'nd': 23, 'tag': 10}, {'nd': 2, 'tag': 14}, {'nd': 33, 'tag': 9}, {'nd': 63, 'tag': 7}, {'nd': 40, 'tag': 10}, {'nd': 49, 'tag': 7}, {'nd': 114, 'tag': 7}, {'nd': 3, 'tag': 13}, {'nd': 15, 'tag': 9}, {'nd': 47, 'tag': 8}, {'nd': 15, 'tag': 18}, {'nd': 3, 'tag': 16}, {'nd': 2, 'tag': 19}, {'nd': 13, 'tag': 2}, {'nd': 22, 'tag': 15}, {'nd': 26, 'tag': 3}, {'nd': 28, 'tag': 10}, {'nd': 56, 'tag': 8}, {'nd': 53, 'tag': 5}, {'nd': 32, 'tag': 11}, {'nd': 32, 'tag': 13}, {'nd': 45, 'tag': 8}, {'nd': 16, 'tag': 3}, {'nd': 66, 'tag': 10}, {'nd': 43, 'tag': 11}, {'nd': 39, 'tag': 8}, {'nd': 32, 'tag': 6}, {'nd': 62, 'tag': 10}, {'nd': 28, 'tag': 12}, {'nd': 48, 'tag': 7}, {'nd': 57, 'tag': 9}, {'nd': 61, 'tag': 7}, {'nd': 23, 'tag': 11}, {'nd': 30, 'tag': 11}, {'nd': 9, 'tag': 14}, {'nd': 30, 'tag': 6}, {'nd': 30, 'tag': 3}, {'nd': 18, 'tag': 12}, {'nd': 20, 'tag': 12}, {'nd': 22, 'tag': 18}, {'nd': 27, 'tag': 14}, {'nd': 56, 'tag': 7}, {'nd': 42, 'tag': 7}, {'nd': 64, 'tag': 7}, {'nd': 18, 'tag': 10}, {'nd': 32, 'tag': 10}, {'nd': 30, 'tag': 5}, {'nd': 5, 'tag': 14}, {'nd': 9, 'tag': 12}, {'nd': 5, 'tag': 12}, {'nd': 49, 'tag': 10}, {'nd': 4, 'tag': 13}, {'nd': 7, 'tag': 3}, {'nd': 49, 'tag': 3}, {'nd': 55, 'tag': 7}, {'nd': 41, 'tag': 7}, {'nd': 32, 'tag': 3}, {'nd': 3, 'tag': 14}, {'nd': 31, 'tag': 12}, {'nd': 50, 'tag': 12}, {'nd': 67, 'tag': 7}, {'nd': 29, 'tag': 9}, {'nd': 27, 'tag': 11}, {'nd': 13, 'tag': 3}, {'nd': 47, 'tag': 9}, {'nd': 59, 'tag': 7}, {'nd': 75, 'tag': 6}, {'nd': 18, 'tag': 14}, {'nd': 36, 'tag': 10}, {'nd': 7, 'tag': 15}, {'nd': 56, 'tag': 6}, {'nd': 51, 'tag': 6}, {'nd': 24, 'tag': 5}, {'nd': 61, 'tag': 10}, {'nd': 71, 'tag': 7}, {'nd': 34, 'tag': 11}, {'nd': 25, 'tag': 3}, {'nd': 38, 'tag': 11}, {'nd': 62, 'tag': 7}, {'nd': 27, 'tag': 9}, {'nd': 93, 'tag': 11}, {'nd': 63, 'tag': 8}, {'nd': 26, 'tag': 16}, {'nd': 21, 'tag': 12}, {'nd': 102, 'tag': 7}, {'nd': 50, 'tag': 8}, {'nd': 65, 'tag': 9}, {'nd': 9, 'tag': 15}, {'nd': 22, 'tag': 10}, {'nd': 35, 'tag': 11}, {'nd': 89, 'tag': 8}, {'nd': 19, 'tag': 11}, {'nd': 42, 'tag': 11}, {'nd': 67, 'tag': 5}, {'nd': 51, 'tag': 8}, {'nd': 28, 'tag': 6}, {'nd': 22, 'tag': 11}, {'nd': 104, 'tag': 7}, {'nd': 15, 'tag': 3}, {'nd': 22, 'tag': 12}, {'nd': 35, 'tag': 9}, {'nd': 16, 'tag': 13}, {'nd': 7, 'tag': 14}, {'nd': 75, 'tag': 11}, {'nd': 35, 'tag': 5}, {'nd': 27, 'tag': 6}, {'nd': 118, 'tag': 9}, {'nd': 113, 'tag': 9}, {'nd': 19, 'tag': 1}, {'nd': 33, 'tag': 3}, {'nd': 11, 'tag': 2}, {'nd': 41, 'tag': 8}, {'nd': 63, 'tag': 10}, {'nd': 57, 'tag': 8}, {'nd': 11, 'tag': 12}, {'nd': 33, 'tag': 8}, {'nd': 45, 'tag': 11}, {'nd': 66, 'tag': 7}, {'nd': 25, 'tag': 6}, {'nd': 69, 'tag': 6}, {'nd': 72, 'tag': 7}, {'nd': 93, 'tag': 8}, {'nd': 16, 'tag': 14}, {'nd': 52, 'tag': 8}, {'nd': 58, 'tag': 10}, {'nd': 6, 'tag': 14}, {'nd': 82, 'tag': 10}, {'nd': 49, 'tag': 11}, {'nd': 19, 'tag': 2}, {'nd': 52, 'tag': 13}, {'nd': 47, 'tag': 7}, {'nd': 26, 'tag': 11}, {'nd': 32, 'tag': 9}, {'nd': 5, 'tag': 13}, {'nd': 6, 'tag': 13}, {'nd': 43, 'tag': 10}, {'nd': 4, 'tag': 2}, {'nd': 21, 'tag': 6}, {'nd': 8, 'tag': 19}, {'nd': 12, 'tag': 13}, {'nd': 61, 'tag': 11}, {'nd': 35, 'tag': 6}, {'nd': 31, 'tag': 5}, {'nd': 51, 'tag': 7}, {'nd': 13, 'tag': 12}, {'nd': 68, 'tag': 8}, {'nd': 24, 'tag': 6}, {'nd': 53, 'tag': 11}, {'nd': 39, 'tag': 14}, {'nd': 33, 'tag': 5}, {'nd': 12, 'tag': 2}, {'nd': 29, 'tag': 5}, {'nd': 94, 'tag': 5}, {'nd': 43, 'tag': 6}, {'nd': 108, 'tag': 7}, {'nd': 11, 'tag': 13}, {'nd': 37, 'tag': 10}, {'nd': 36, 'tag': 8}, {'nd': 59, 'tag': 5}, {'nd': 5, 'tag': 15}, {'nd': 14, 'tag': 2}, {'nd': 80, 'tag': 10}, {'nd': 22, 'tag': 6}, {'nd': 95, 'tag': 10}, {'nd': 35, 'tag': 4}, {'nd': 46, 'tag': 5}, {'nd': 36, 'tag': 11}, {'nd': 9, 'tag': 3}, {'nd': 43, 'tag': 2}, {'nd': 40, 'tag': 6}, {'nd': 8, 'tag': 13}, {'nd': 29, 'tag': 6}, {'nd': 12, 'tag': 14}, {'nd': 23, 'tag': 2}, {'nd': 18, 'tag': 2}, {'nd': 49, 'tag': 18}, {'nd': 32, 'tag': 4}, {'nd': 26, 'tag': 6}, {'nd': 15, 'tag': 2}, {'nd': 28, 'tag': 2}, {'nd': 48, 'tag': 11}, {'nd': 51, 'tag': 5}, {'nd': 44, 'tag': 10}, {'nd': 20, 'tag': 13}, {'nd': 10, 'tag': 2}, {'nd': 12, 'tag': 3}, {'nd': 7, 'tag': 2}, {'nd': 30, 'tag': 2}, {'nd': 22, 'tag': 5}, {'nd': 10, 'tag': 13}, {'nd': 11, 'tag': 15}, {'nd': 50, 'tag': 16}, {'nd': 9, 'tag': 13}, {'nd': 23, 'tag': 9}, {'nd': 32, 'tag': 5}, {'nd': 45, 'tag': 10}, {'nd': 34, 'tag': 2}, {'nd': 64, 'tag': 8}, {'nd': 9, 'tag': 2}, {'nd': 52, 'tag': 12}, {'nd': 55, 'tag': 9}, {'nd': 55, 'tag': 11}, {'nd': 96, 'tag': 9}, {'nd': 48, 'tag': 5}, {'nd': 25, 'tag': 12}, {'nd': 76, 'tag': 12}, {'nd': 45, 'tag': 9}, {'nd': 4, 'tag': 15}, {'nd': 16, 'tag': 20}, {'nd': 45, 'tag': 12}, {'nd': 46, 'tag': 10}, {'nd': 27, 'tag': 5}, {'nd': 33, 'tag': 12}, {'nd': 62, 'tag': 11}, {'nd': 19, 'tag': 12}, {'nd': 29, 'tag': 12}, {'nd': 42, 'tag': 6}, {'nd': 5, 'tag': 16}, {'nd': 60, 'tag': 6}, {'nd': 14, 'tag': 3}, {'nd': 58, 'tag': 9}, {'nd': 44, 'tag': 9}, {'nd': 67, 'tag': 8}, {'nd': 39, 'tag': 11}, {'nd': 47, 'tag': 5}, {'nd': 36, 'tag': 12}, {'nd': 102, 'tag': 11}, {'nd': 4, 'tag': 14}, {'nd': 60, 'tag': 8}, {'nd': 24, 'tag': 11}, {'nd': 17, 'tag': 15}, {'nd': 47, 'tag': 10}, {'nd': 52, 'tag': 15}, {'nd': 34, 'tag': 6}, {'nd': 49, 'tag': 9}, {'nd': 48, 'tag': 10}, {'nd': 36, 'tag': 5}, {'nd': 52, 'tag': 6}, {'nd': 6, 'tag': 15}, {'nd': 6, 'tag': 16}, {'nd': 31, 'tag': 9}, {'nd': 36, 'tag': 15}, {'nd': 12, 'tag': 18}, {'nd': 41, 'tag': 14}, {'nd': 25, 'tag': 5}, {'nd': 13, 'tag': 22}, {'nd': 9, 'tag': 16}, {'nd': 19, 'tag': 13}, {'nd': 34, 'tag': 5}, {'nd': 11, 'tag': 14}, {'nd': 28, 'tag': 11}, {'nd': 21, 'tag': 13}, {'nd': 14, 'tag': 15}, {'nd': 33, 'tag': 6}, {'nd': 19, 'tag': 3}, {'nd': 41, 'tag': 10}, {'nd': 39, 'tag': 9}, {'nd': 36, 'tag': 6}, {'nd': 30, 'tag': 12}, {'nd': 33, 'tag': 13}, {'nd': 24, 'tag': 14}, {'nd': 42, 'tag': 10}, {'nd': 37, 'tag': 11}, {'nd': 30, 'tag': 13}, {'nd': 56, 'tag': 9}, {'nd': 69, 'tag': 8}, {'nd': 60, 'tag': 12}, {'nd': 39, 'tag': 6}, {'nd': 41, 'tag': 9}, {'nd': 17, 'tag': 4}, {'nd': 14, 'tag': 1}, {'nd': 39, 'tag': 5}, {'nd': 15, 'tag': 14}, {'nd': 31, 'tag': 6}, {'nd': 44, 'tag': 11}, {'nd': 37, 'tag': 5}, {'nd': 41, 'tag': 11}, {'nd': 28, 'tag': 5}, {'nd': 31, 'tag': 4}, {'nd': 27, 'tag': 12}, {'nd': 50, 'tag': 9}, {'nd': 8, 'tag': 18}, {'nd': 87, 'tag': 8}, {'nd': 38, 'tag': 12}, {'nd': 25, 'tag': 13}, {'nd': 13, 'tag': 15}, {'nd': 29, 'tag': 13}, {'nd': 65, 'tag': 6}, {'nd': 30, 'tag': 14}, {'nd': 8, 'tag': 15}, {'nd': 69, 'tag': 5}, {'nd': 86, 'tag': 6}, {'nd': 63, 'tag': 6}, {'nd': 101, 'tag': 6}, {'nd': 48, 'tag': 6}, {'nd': 57, 'tag': 5}, {'nd': 68, 'tag': 7}, {'nd': 53, 'tag': 10}, {'nd': 9, 'tag': 18}, {'nd': 14, 'tag': 12}, {'nd': 85, 'tag': 8}, {'nd': 26, 'tag': 2}, {'nd': 81, 'tag': 5}, {'nd': 99, 'tag': 7}, {'nd': 73, 'tag': 15}, {'nd': 37, 'tag': 6}, {'nd': 51, 'tag': 11}, {'nd': 45, 'tag': 13}, {'nd': 55, 'tag': 13}, {'nd': 14, 'tag': 13}, {'nd': 17, 'tag': 13}, {'nd': 66, 'tag': 11}, {'nd': 75, 'tag': 5}, {'nd': 32, 'tag': 12}, {'nd': 5, 'tag': 17}, {'nd': 72, 'tag': 8}, {'nd': 78, 'tag': 6}, {'nd': 49, 'tag': 13}, {'nd': 46, 'tag': 11}, {'nd': 39, 'tag': 12}, {'nd': 80, 'tag': 8}, {'nd': 84, 'tag': 8}, {'nd': 69, 'tag': 10}, {'nd': 39, 'tag': 17}, {'nd': 61, 'tag': 8}, {'nd': 37, 'tag': 13}, {'nd': 52, 'tag': 11}, {'nd': 89, 'tag': 5}, {'nd': 45, 'tag': 5}, {'nd': 26, 'tag': 13}, {'nd': 47, 'tag': 11}, {'nd': 122, 'tag': 7}, {'nd': 89, 'tag': 6}, {'nd': 54, 'tag': 11}, {'nd': 101, 'tag': 11}, {'nd': 3, 'tag': 21}, {'nd': 79, 'tag': 8}, {'nd': 64, 'tag': 14}, {'nd': 25, 'tag': 22}, {'nd': 50, 'tag': 6}, {'nd': 38, 'tag': 6}, {'nd': 17, 'tag': 17}, {'nd': 40, 'tag': 11}, {'nd': 57, 'tag': 11}, {'nd': 91, 'tag': 15}, {'nd': 118, 'tag': 6}, {'nd': 63, 'tag': 15}, {'nd': 36, 'tag': 4}, {'nd': 50, 'tag': 10}, {'nd': 73, 'tag': 11}, {'nd': 36, 'tag': 13}, {'nd': 2, 'tag': 23}, {'nd': 2, 'tag': 18}, {'nd': 15, 'tag': 15}, {'nd': 140, 'tag': 5}, {'nd': 10, 'tag': 14}, {'nd': 106, 'tag': 10}, {'nd': 61, 'tag': 9}, {'nd': 74, 'tag': 5}, {'nd': 58, 'tag': 5}, {'nd': 3, 'tag': 17}, {'nd': 69, 'tag': 11}, {'nd': 13, 'tag': 18}, {'nd': 70, 'tag': 10}, {'nd': 7, 'tag': 18}, {'nd': 6, 'tag': 18}, {'nd': 58, 'tag': 11}, {'nd': 15, 'tag': 13}, {'nd': 57, 'tag': 6}, {'nd': 62, 'tag': 8}, {'nd': 26, 'tag': 14}, {'nd': 31, 'tag': 13}, {'nd': 29, 'tag': 14}, {'nd': 22, 'tag': 13}, {'nd': 120, 'tag': 7}, {'nd': 74, 'tag': 10}, {'nd': 65, 'tag': 5}, {'nd': 37, 'tag': 3}, {'nd': 48, 'tag': 1}, {'nd': 10, 'tag': 1}, {'nd': 34, 'tag': 3}, {'nd': 5, 'tag': 1}, {'nd': 3, 'tag': 1}, {'nd': 81, 'tag': 7}, {'nd': 12, 'tag': 1}, {'nd': 82, 'tag': 9}, {'nd': 13, 'tag': 4}, {'nd': 9, 'tag': 1}, {'nd': 97, 'tag': 5}, {'nd': 101, 'tag': 9}, {'nd': 45, 'tag': 6}, {'nd': 22, 'tag': 1}, {'nd': 76, 'tag': 6}, {'nd': 272, 'tag': 8}, {'nd': 24, 'tag': 4}, {'nd': 35, 'tag': 13}, {'nd': 28, 'tag': 14}, {'nd': 31, 'tag': 15}, {'nd': 72, 'tag': 10}, {'nd': 67, 'tag': 14}, {'nd': 43, 'tag': 9}, {'nd': 18, 'tag': 1}, {'nd': 19, 'tag': 16}, {'nd': 13, 'tag': 14}, {'nd': 23, 'tag': 13}, {'nd': 124, 'tag': 11}, {'nd': 63, 'tag': 14}, {'nd': 119, 'tag': 7}, {'nd': 59, 'tag': 4}, {'nd': 59, 'tag': 13}, {'nd': 75, 'tag': 8}, {'nd': 87, 'tag': 7}, {'nd': 48, 'tag': 2}, {'nd': 34, 'tag': 12}, {'nd': 60, 'tag': 11}, {'nd': 29, 'tag': 16}, {'nd': 85, 'tag': 9}, {'nd': 130, 'tag': 14}, {'nd': 4, 'tag': 16}, {'nd': 24, 'tag': 12}, {'nd': 81, 'tag': 12}, {'nd': 105, 'tag': 7}, {'nd': 8, 'tag': 1}, {'nd': 54, 'tag': 12}, {'nd': 59, 'tag': 10}, {'nd': 62, 'tag': 9}, {'nd': 97, 'tag': 8}, {'nd': 77, 'tag': 6}, {'nd': 20, 'tag': 4}, {'nd': 101, 'tag': 7}, {'nd': 70, 'tag': 8}, {'nd': 74, 'tag': 8}, {'nd': 43, 'tag': 13}, {'nd': 19, 'tag': 17}, {'nd': 18, 'tag': 13}, {'nd': 2, 'tag': 17}, {'nd': 57, 'tag': 14}, {'nd': 18, 'tag': 17}, {'nd': 2, 'tag': 21}, {'nd': 65, 'tag': 10}, {'nd': 25, 'tag': 14}, {'nd': 37, 'tag': 15}, {'nd': 155, 'tag': 8}, {'nd': 38, 'tag': 13}, {'nd': 80, 'tag': 7}, {'nd': 79, 'tag': 11}, {'nd': 91, 'tag': 7}, {'nd': 31, 'tag': 2}, {'nd': 13, 'tag': 1}, {'nd': 23, 'tag': 3}, {'nd': 7, 'tag': 1}, {'nd': 15, 'tag': 1}, {'nd': 16, 'tag': 1}, {'nd': 42, 'tag': 3}, {'nd': 22, 'tag': 2}, {'nd': 17, 'tag': 2}, {'nd': 171, 'tag': 2}, {'nd': 120, 'tag': 2}, {'nd': 41, 'tag': 3}, {'nd': 46, 'tag': 12}, {'nd': 66, 'tag': 18}, {'nd': 34, 'tag': 13}, {'nd': 102}, {'nd': 8, 'tag': 2}, {'nd': 44, 'tag': 2}, {'nd': 173}, {'nd': 89, 'tag': 2}, {'nd': 33, 'tag': 2}, {'nd': 27, 'tag': 4}, {'nd': 61}, {'nd': 35, 'tag': 3}, {'nd': 24, 'tag': 3}, {'nd': 77, 'tag': 3}, {'nd': 68, 'tag': 3}, {'nd': 75, 'tag': 2}, {'nd': 49, 'tag': 1}, {'nd': 58, 'tag': 1}, {'nd': 61, 'tag': 3}, {'nd': 97}, {'nd': 82}, {'nd': 74}, {'nd': 21, 'tag': 1}, {'nd': 16, 'tag': 15}, {'nd': 20, 'tag': 2}, {'nd': 47, 'tag': 2}, {'nd': 53}, {'nd': 39, 'tag': 4}, {'nd': 118, 'tag': 4}, {'nd': 110, 'tag': 4}, {'nd': 52, 'tag': 4}, {'nd': 123, 'tag': 8}, {'nd': 57, 'tag': 4}, {'nd': 83, 'tag': 8}, {'nd': 87, 'tag': 4}, {'nd': 4, 'tag': 1}, {'nd': 79, 'tag': 10}, {'nd': 71, 'tag': 9}, {'nd': 21, 'tag': 20}, {'nd': 157, 'tag': 15}, {'nd': 14}, {'nd': 5}, {'nd': 6}, {'nd': 10, 'tag': 15}, {'nd': 2, 'tag': 22}, {'nd': 5, 'tag': 20}, {'nd': 53, 'tag': 9}, {'nd': 32, 'tag': 2}, {'nd': 26, 'tag': 15}, {'nd': 66, 'tag': 6}, {'nd': 215, 'tag': 27}, {'nd': 252, 'tag': 27}, {'nd': 637, 'tag': 26}, {'nd': 10}, {'nd': 7}, {'nd': 23}, {'nd': 13}, {'nd': 11}, {'nd': 28, 'tag': 1}, {'nd': 24, 'tag': 1}, {'nd': 58}, {'nd': 67, 'tag': 1}, {'nd': 45, 'tag': 1}, {'nd': 68}, {'nd': 74, 'tag': 29}, {'nd': 14, 'tag': 28}, {'nd': 657, 'tag': 27}, {'nd': 54, 'tag': 27}, {'nd': 77, 'tag': 26}, {'nd': 227, 'tag': 4}, {'nd': 9}, {'nd': 8}, {'nd': 18}, {'nd': 20}, {'nd': 21}, {'nd': 22}, {'nd': 24}, {'nd': 28}, {'nd': 48}, {'nd': 73}, {'nd': 101, 'tag': 2}, {'nd': 103}, {'nd': 110, 'tag': 5}, {'nd': 15}, {'nd': 27, 'tag': 2}, {'nd': 35}, {'nd': 17}, {'nd': 44, 'tag': 1}, {'nd': 83, 'tag': 3}, {'nd': 62, 'tag': 2}, {'nd': 42, 'tag': 2}, {'nd': 8, 'tag': 24}, {'nd': 32, 'tag': 26}, {'nd': 39, 'tag': 26}, {'nd': 35, 'tag': 26}, {'nd': 23, 'tag': 26}, {'nd': 21, 'tag': 26}, {'nd': 9, 'tag': 26}, {'nd': 13, 'tag': 26}, {'nd': 7, 'tag': 26}, {'nd': 16, 'tag': 26}, {'nd': 5, 'tag': 26}, {'nd': 8, 'tag': 26}, {'nd': 6, 'tag': 26}, {'nd': 256, 'tag': 1}, {'nd': 15, 'tag': 17}, {'nd': 138, 'tag': 4}, {'nd': 705, 'tag': 1}, {'nd': 46}, {'nd': 10, 'tag': 18}, {'nd': 104, 'tag': 18}, {'nd': 21, 'tag': 18}, {'nd': 26, 'tag': 19}, {'nd': 24, 'tag': 18}, {'nd': 5, 'tag': 18}, {'nd': 27, 'tag': 26}, {'nd': 12}, {'nd': 19}, {'nd': 42}, {'nd': 29}, {'nd': 27}, {'nd': 69}, {'nd': 9, 'tag': 27}, {'nd': 14, 'tag': 27}, {'nd': 8, 'tag': 28}, {'nd': 16}, {'nd': 193, 'tag': 28}, {'nd': 165, 'tag': 3}, {'nd': 130, 'tag': 4}, {'nd': 93, 'tag': 21}, {'nd': 19, 'tag': 19}, {'nd': 14, 'tag': 19}, {'nd': 13, 'tag': 19}, {'nd': 4, 'tag': 28}, {'nd': 38}, {'nd': 67, 'tag': 28}, {'nd': 51, 'tag': 27}, {'nd': 1529, 'tag': 28}, {'nd': 5, 'tag': 28}, {'nd': 452, 'tag': 24}, {'nd': 12, 'tag': 24}, {'nd': 21, 'tag': 24}, {'nd': 7, 'tag': 24}, {'nd': 5, 'tag': 24}, {'nd': 51, 'tag': 26}, {'nd': 182, 'tag': 26}, {'nd': 418, 'tag': 26}, {'nd': 242, 'tag': 26}, {'nd': 47, 'tag': 26}, {'nd': 11, 'tag': 26}, {'nd': 205, 'tag': 1}, {'nd': 314, 'tag': 26}, {'nd': 31}, {'nd': 67, 'tag': 26}, {'nd': 59, 'tag': 26}, {'nd': 37, 'tag': 26}, {'nd': 115, 'tag': 26}, {'nd': 227, 'tag': 3}, {'nd': 322, 'tag': 1}, {'nd': 269, 'tag': 26}, {'nd': 124, 'tag': 3}, {'nd': 563, 'tag': 4}, {'nd': 61, 'tag': 2}, {'nd': 54, 'tag': 9}, {'nd': 52, 'tag': 9}, {'nd': 20, 'tag': 1}, {'nd': 141, 'tag': 6}, {'nd': 40, 'tag': 2}, {'nd': 21, 'tag': 2}, {'nd': 30, 'tag': 4}, {'nd': 120, 'tag': 13}, {'nd': 33}, {'nd': 25, 'tag': 1}, {'nd': 88, 'tag': 10}, {'nd': 48, 'tag': 4}, {'nd': 39, 'tag': 3}, {'nd': 50, 'tag': 2}, {'nd': 196, 'tag': 8}, {'nd': 48, 'tag': 15}, {'nd': 4}, {'nd': 11, 'tag': 1}, {'nd': 96, 'tag': 11}, {'nd': 152, 'tag': 7}, {'nd': 218, 'tag': 7}, {'nd': 46, 'tag': 15}, {'nd': 72, 'tag': 13}, {'nd': 10, 'tag': 17}, {'nd': 69, 'tag': 4}, {'nd': 41, 'tag': 12}, {'nd': 2, 'tag': 20}, {'nd': 43, 'tag': 3}, {'nd': 71}, {'nd': 21, 'tag': 17}, {'nd': 41, 'tag': 2}, {'nd': 215, 'tag': 3}, {'nd': 38, 'tag': 3}, {'nd': 55, 'tag': 3}, {'nd': 51, 'tag': 3}, {'nd': 235, 'tag': 3}, {'nd': 134, 'tag': 6}, {'nd': 155, 'tag': 6}, {'nd': 45, 'tag': 3}, {'nd': 52, 'tag': 2}, {'nd': 222, 'tag': 6}, {'nd': 7, 'tag': 17}, {'nd': 8, 'tag': 17}, {'nd': 32}, {'nd': 30, 'tag': 1}, {'nd': 59, 'tag': 3}, {'nd': 52, 'tag': 3}, {'nd': 79, 'tag': 3}, {'nd': 50, 'tag': 5}, {'nd': 43, 'tag': 4}, {'nd': 46, 'tag': 3}, {'nd': 53, 'tag': 3}, {'nd': 285}, {'nd': 68, 'tag': 9}, {'nd': 31, 'tag': 14}, {'nd': 69, 'tag': 12}, {'nd': 89, 'tag': 13}, {'nd': 53, 'tag': 12}, {'nd': 58, 'tag': 3}, {'nd': 6, 'tag': 20}, {'nd': 7, 'tag': 20}, {'nd': 4, 'tag': 19}, {'nd': 61, 'tag': 15}, {'nd': 7, 'tag': 16}, {'nd': 173, 'tag': 4}, {'nd': 3, 'tag': 20}, {'nd': 37, 'tag': 2}, {'nd': 17, 'tag': 20}, {'nd': 71, 'tag': 2}, {'nd': 7, 'tag': 19}, {'nd': 6, 'tag': 17}, {'nd': 42, 'tag': 5}, {'nd': 106, 'tag': 12}, {'nd': 9, 'tag': 17}, {'nd': 11, 'tag': 18}, {'nd': 5, 'tag': 21}, {'nd': 139, 'tag': 17}, {'nd': 47, 'tag': 4}, {'nd': 13, 'tag': 17}, {'nd': 68, 'tag': 15}, {'nd': 4, 'tag': 18}, {'nd': 67, 'tag': 12}, {'nd': 76, 'tag': 3}, {'nd': 217, 'tag': 3}, {'nd': 3, 'tag': 19}, {'nd': 36, 'tag': 3}, {'nd': 44, 'tag': 5}, {'nd': 33, 'tag': 4}, {'nd': 51, 'tag': 12}, {'nd': 324, 'tag': 3}, {'nd': 69, 'tag': 13}, {'nd': 33, 'tag': 20}, {'nd': 74, 'tag': 9}, {'nd': 19, 'tag': 15}, {'nd': 9, 'tag': 20}, {'nd': 97, 'tag': 6}, {'nd': 7, 'tag': 22}, {'nd': 36, 'tag': 2}, {'nd': 123, 'tag': 4}, {'nd': 35, 'tag': 2}, {'nd': 79, 'tag': 1}, {'nd': 54, 'tag': 2}, {'nd': 25, 'tag': 2}, {'nd': 4, 'tag': 17}, {'nd': 70, 'tag': 7}, {'nd': 40, 'tag': 13}, {'nd': 38, 'tag': 4}, {'nd': 64, 'tag': 10}, {'nd': 64, 'tag': 4}, {'nd': 101, 'tag': 12}, {'nd': 55, 'tag': 17}, {'nd': 30, 'tag': 16}, {'nd': 28, 'tag': 15}, {'nd': 31, 'tag': 17}, {'nd': 11, 'tag': 17}, {'nd': 38, 'tag': 18}, {'nd': 43, 'tag': 12}, {'nd': 58, 'tag': 12}, {'nd': 59, 'tag': 16}, {'nd': 51, 'tag': 13}, {'nd': 94, 'tag': 3}, {'nd': 133, 'tag': 2}, {'nd': 86, 'tag': 2}, {'nd': 58, 'tag': 2}, {'nd': 26, 'tag': 12}, {'nd': 29, 'tag': 3}, {'nd': 117, 'tag': 3}, {'nd': 88, 'tag': 7}, {'nd': 66, 'tag': 8}, {'nd': 69, 'tag': 3}, {'nd': 202, 'tag': 4}, {'nd': 103, 'tag': 8}, {'nd': 240, 'tag': 7}, {'nd': 73, 'tag': 4}, {'nd': 71, 'tag': 12}, {'nd': 69, 'tag': 9}, {'nd': 297, 'tag': 14}, {'nd': 31, 'tag': 1}, {'nd': 38, 'tag': 1}, {'nd': 70, 'tag': 3}, {'nd': 39, 'tag': 1}, {'nd': 43, 'tag': 1}, {'nd': 40, 'tag': 1}, {'nd': 66, 'tag': 4}, {'nd': 33, 'tag': 1}, {'nd': 706, 'tag': 2}, {'nd': 78, 'tag': 3}, {'nd': 114, 'tag': 9}, {'nd': 36, 'tag': 1}, {'nd': 14, 'tag': 18}, {'nd': 15, 'tag': 19}, {'nd': 156, 'tag': 7}, {'nd': 70, 'tag': 6}, {'nd': 23, 'tag': 1}, {'nd': 90, 'tag': 2}, {'nd': 51, 'tag': 1}, {'nd': 75, 'tag': 1}, {'nd': 26, 'tag': 1}, {'nd': 99, 'tag': 1}, {'nd': 50, 'tag': 1}, {'nd': 27, 'tag': 1}, {'nd': 107, 'tag': 1}, {'nd': 55, 'tag': 2}, {'nd': 103, 'tag': 2}, {'nd': 158, 'tag': 2}, {'nd': 37, 'tag': 1}, {'nd': 34, 'tag': 1}, {'nd': 29, 'tag': 1}, {'nd': 68, 'tag': 1}, {'nd': 88, 'tag': 3}, {'nd': 377, 'tag': 6}, {'nd': 91, 'tag': 2}, {'nd': 82, 'tag': 2}, {'nd': 78, 'tag': 2}, {'nd': 104, 'tag': 1}, {'nd': 199, 'tag': 1}, {'nd': 147, 'tag': 2}, {'nd': 105, 'tag': 2}, {'nd': 296, 'tag': 2}, {'nd': 146, 'tag': 3}, {'nd': 69, 'tag': 2}, {'nd': 61, 'tag': 12}, {'nd': 34, 'tag': 4}, {'nd': 38, 'tag': 2}, {'nd': 98, 'tag': 6}, {'nd': 72, 'tag': 4}, {'nd': 62, 'tag': 4}, {'nd': 73, 'tag': 5}, {'nd': 67, 'tag': 3}, {'nd': 66, 'tag': 5}, {'nd': 42, 'tag': 1}, {'nd': 76, 'tag': 1}, {'nd': 53, 'tag': 1}, {'nd': 47, 'tag': 1}, {'nd': 31, 'tag': 3}, {'nd': 60, 'tag': 3}, {'nd': 63, 'tag': 2}, {'nd': 112}, {'nd': 119, 'tag': 6}, {'nd': 32, 'tag': 1}, {'nd': 40, 'tag': 4}, {'nd': 137, 'tag': 5}, {'nd': 45, 'tag': 4}, {'nd': 75, 'tag': 4}, {'nd': 49, 'tag': 5}, {'nd': 86, 'tag': 8}, {'nd': 188, 'tag': 1}, {'nd': 46, 'tag': 1}, {'nd': 35, 'tag': 1}, {'nd': 109, 'tag': 10}, {'nd': 140, 'tag': 4}, {'nd': 172, 'tag': 4}, {'nd': 92, 'tag': 3}, {'nd': 62, 'tag': 3}, {'nd': 82, 'tag': 3}, {'nd': 60, 'tag': 4}, {'nd': 28, 'tag': 3}, {'nd': 46, 'tag': 2}, {'nd': 61, 'tag': 5}, {'nd': 93, 'tag': 4}, {'nd': 78, 'tag': 4}, {'nd': 59, 'tag': 2}, {'nd': 147, 'tag': 4}, {'nd': 87, 'tag': 2}, {'nd': 90, 'tag': 5}, {'nd': 83, 'tag': 2}, {'nd': 44, 'tag': 4}, {'nd': 73, 'tag': 1}, {'nd': 64, 'tag': 1}, {'nd': 183, 'tag': 4}, {'nd': 50, 'tag': 4}, {'nd': 55, 'tag': 4}, {'nd': 63, 'tag': 4}, {'nd': 57, 'tag': 3}, {'nd': 57}, {'nd': 67}, {'nd': 44, 'tag': 3}, {'nd': 86, 'tag': 3}, {'nd': 117, 'tag': 2}, {'nd': 66, 'tag': 3}, {'nd': 54, 'tag': 15}, {'nd': 264, 'tag': 2}, {'nd': 102, 'tag': 2}, {'nd': 181, 'tag': 2}, {'nd': 56, 'tag': 3}, {'nd': 156, 'tag': 2}, {'nd': 74, 'tag': 1}, {'nd': 49, 'tag': 2}, {'nd': 41}, {'nd': 70, 'tag': 2}, {'nd': 76, 'tag': 2}, {'nd': 56, 'tag': 2}, {'nd': 456, 'tag': 3}, {'nd': 65, 'tag': 4}, {'nd': 39, 'tag': 2}, {'nd': 192}, {'nd': 40, 'tag': 3}, {'nd': 73, 'tag': 2}, {'nd': 71, 'tag': 4}, {'nd': 64, 'tag': 2}, {'nd': 288, 'tag': 2}, {'nd': 197, 'tag': 2}, {'nd': 52, 'tag': 1}, {'nd': 31, 'tag': 16}, {'nd': 11, 'tag': 16}, {'nd': 72, 'tag': 3}, {'nd': 73, 'tag': 3}, {'nd': 108, 'tag': 1}, {'nd': 124, 'tag': 2}, {'nd': 65, 'tag': 2}, {'nd': 71, 'tag': 8}, {'nd': 92, 'tag': 11}, {'nd': 536, 'tag': 4}, {'nd': 95, 'tag': 2}, {'nd': 150, 'tag': 3}, {'nd': 48, 'tag': 9}, {'nd': 130, 'tag': 5}, {'nd': 112, 'tag': 2}, {'nd': 125, 'tag': 4}, {'nd': 54, 'tag': 4}, {'nd': 54, 'tag': 3}, {'nd': 70, 'tag': 1}, {'nd': 55}, {'nd': 93, 'tag': 2}, {'nd': 111, 'tag': 2}, {'nd': 85, 'tag': 7}, {'nd': 141, 'tag': 4}, {'nd': 148, 'tag': 2}, {'nd': 74, 'tag': 12}, {'nd': 49, 'tag': 4}, {'nd': 182, 'tag': 2}, {'nd': 41, 'tag': 1}, {'nd': 80, 'tag': 3}, {'nd': 162, 'tag': 3}, {'nd': 77, 'tag': 9}, {'nd': 47, 'tag': 3}, {'nd': 96, 'tag': 3}, {'nd': 122, 'tag': 3}, {'nd': 46, 'tag': 6}, {'nd': 107, 'tag': 2}, {'nd': 71, 'tag': 1}, {'nd': 89, 'tag': 4}, {'nd': 121, 'tag': 3}, {'nd': 111}, {'nd': 39}, {'nd': 50, 'tag': 3}, {'nd': 143, 'tag': 3}, {'nd': 71, 'tag': 11}, {'nd': 60, 'tag': 5}, {'nd': 253, 'tag': 2}, {'nd': 70, 'tag': 4}, {'nd': 40}, {'nd': 119, 'tag': 3}, {'nd': 47, 'tag': 6}, {'nd': 14, 'tag': 16}, {'nd': 15, 'tag': 16}, {'nd': 19, 'tag': 14}, {'nd': 24, 'tag': 13}, {'nd': 90, 'tag': 7}, {'nd': 60, 'tag': 2}, {'nd': 65, 'tag': 12}, {'nd': 98, 'tag': 2}, {'nd': 95, 'tag': 1}, {'nd': 79, 'tag': 5}, {'nd': 53, 'tag': 2}, {'nd': 145, 'tag': 9}, {'nd': 129, 'tag': 3}, {'nd': 46, 'tag': 4}, {'nd': 93}, {'nd': 52, 'tag': 19}, {'nd': 99, 'tag': 2}, {'nd': 66, 'tag': 2}, {'nd': 53, 'tag': 6}, {'nd': 63, 'tag': 1}, {'nd': 196, 'tag': 4}, {'nd': 835, 'tag': 2}, {'nd': 505, 'tag': 5}, {'nd': 148, 'tag': 4}, {'nd': 137, 'tag': 4}, {'nd': 137, 'tag': 2}, {'nd': 114, 'tag': 1}, {'nd': 54, 'tag': 1}, {'nd': 87, 'tag': 1}, {'nd': 154, 'tag': 7}, {'nd': 193, 'tag': 3}, {'nd': 101, 'tag': 10}, {'nd': 57, 'tag': 1}, {'nd': 67, 'tag': 4}, {'nd': 157, 'tag': 9}, {'nd': 57, 'tag': 2}, {'nd': 62, 'tag': 1}, {'nd': 138, 'tag': 1}, {'nd': 41, 'tag': 4}, {'nd': 53, 'tag': 13}, {'nd': 40, 'tag': 12}, {'nd': 6, 'tag': 19}, {'nd': 125, 'tag': 2}, {'nd': 22, 'tag': 16}, {'nd': 118, 'tag': 2}, {'nd': 139, 'tag': 4}, {'nd': 80, 'tag': 13}, {'nd': 56, 'tag': 1}, {'nd': 50, 'tag': 13}, {'nd': 94, 'tag': 6}, {'nd': 77, 'tag': 1}, {'nd': 99, 'tag': 4}, {'nd': 77, 'tag': 2}, {'nd': 81, 'tag': 2}, {'nd': 72, 'tag': 1}, {'nd': 60, 'tag': 1}, {'nd': 93, 'tag': 1}, {'nd': 107}, {'nd': 59, 'tag': 1}, {'nd': 205, 'tag': 8}, {'nd': 66, 'tag': 1}, {'nd': 72, 'tag': 5}, {'nd': 81, 'tag': 1}, {'nd': 362, 'tag': 5}, {'nd': 61, 'tag': 1}, {'nd': 20, 'tag': 15}, {'nd': 21, 'tag': 14}, {'nd': 96, 'tag': 4}, {'nd': 84, 'tag': 1}, {'nd': 85, 'tag': 2}, {'nd': 71, 'tag': 5}, {'nd': 53, 'tag': 4}, {'nd': 74, 'tag': 2}, {'nd': 200, 'tag': 7}, {'nd': 90, 'tag': 9}, {'nd': 94, 'tag': 1}, {'nd': 34}, {'nd': 56, 'tag': 5}, {'nd': 62, 'tag': 6}, {'nd': 26}, {'nd': 169, 'tag': 11}, {'nd': 177, 'tag': 2}, {'nd': 92, 'tag': 5}, {'nd': 106, 'tag': 4}, {'nd': 93, 'tag': 3}, {'nd': 48, 'tag': 3}, {'nd': 85, 'tag': 1}, {'nd': 134, 'tag': 2}, {'nd': 3}, {'nd': 18, 'tag': 15}, {'nd': 118, 'tag': 3}, {'nd': 98, 'tag': 4}, {'nd': 218, 'tag': 8}, {'nd': 55, 'tag': 10}, {'nd': 110, 'tag': 2}, {'nd': 54, 'tag': 5}, {'nd': 124, 'tag': 1}, {'nd': 157, 'tag': 1}, {'nd': 80, 'tag': 1}, {'nd': 45}, {'nd': 64}, {'nd': 119, 'tag': 2}, {'nd': 90, 'tag': 13}, {'nd': 77, 'tag': 5}, {'nd': 81, 'tag': 6}, {'nd': 144, 'tag': 6}, {'nd': 72, 'tag': 12}, {'nd': 66, 'tag': 12}, {'nd': 230, 'tag': 9}, {'nd': 58, 'tag': 4}, {'nd': 122, 'tag': 4}, {'nd': 171, 'tag': 4}, {'nd': 113, 'tag': 5}, {'nd': 91, 'tag': 6}, {'nd': 57, 'tag': 12}, {'nd': 296, 'tag': 8}, {'nd': 97, 'tag': 2}, {'nd': 67, 'tag': 9}, {'nd': 113, 'tag': 1}, {'nd': 22, 'tag': 17}, {'nd': 369, 'tag': 2}, {'nd': 79, 'tag': 2}, {'nd': 48, 'tag': 12}, {'nd': 109, 'tag': 11}, {'nd': 143, 'tag': 10}, {'nd': 78, 'tag': 9}, {'nd': 97, 'tag': 3}, {'nd': 178, 'tag': 2}, {'nd': 176, 'tag': 2}, {'nd': 237, 'tag': 2}, {'nd': 60, 'tag': 10}, {'nd': 193, 'tag': 1}, {'nd': 100, 'tag': 3}, {'nd': 111, 'tag': 3}, {'nd': 125, 'tag': 3}, {'nd': 68, 'tag': 2}, {'nd': 169, 'tag': 3}, {'nd': 144, 'tag': 3}, {'nd': 131, 'tag': 3}, {'nd': 153, 'tag': 3}, {'nd': 125, 'tag': 1}, {'nd': 106, 'tag': 2}, {'nd': 122, 'tag': 11}, {'nd': 128, 'tag': 2}, {'nd': 100, 'tag': 2}, {'nd': 243, 'tag': 3}, {'nd': 131, 'tag': 2}, {'nd': 99, 'tag': 6}, {'nd': 4, 'tag': 20}, {'nd': 61, 'tag': 13}, {'nd': 127, 'tag': 4}, {'nd': 288, 'tag': 3}, {'nd': 62, 'tag': 5}, {'nd': 116, 'tag': 16}, {'nd': 66, 'tag': 17}, {'nd': 5, 'tag': 19}, {'nd': 17, 'tag': 16}, {'nd': 42, 'tag': 12}, {'nd': 46, 'tag': 18}, {'nd': 6, 'tag': 21}, {'nd': 173, 'tag': 7}, {'nd': 577, 'tag': 3}, {'nd': 181, 'tag': 3}, {'nd': 120, 'tag': 6}, {'nd': 64, 'tag': 6}, {'nd': 91, 'tag': 5}, {'nd': 95, 'tag': 6}, {'nd': 134, 'tag': 8}, {'nd': 97, 'tag': 4}, {'nd': 557, 'tag': 9}, {'nd': 61, 'tag': 6}, {'nd': 44}, {'nd': 52, 'tag': 5}, {'nd': 116, 'tag': 3}, {'nd': 73, 'tag': 10}, {'nd': 65, 'tag': 13}, {'nd': 105, 'tag': 5}, {'nd': 56, 'tag': 4}, {'nd': 76, 'tag': 4}, {'nd': 185, 'tag': 3}, {'nd': 32, 'tag': 16}, {'nd': 12, 'tag': 17}, {'nd': 14, 'tag': 17}, {'nd': 23, 'tag': 14}, {'nd': 27, 'tag': 18}, {'nd': 12, 'tag': 16}, {'nd': 75, 'tag': 9}, {'nd': 103, 'tag': 10}, {'nd': 286, 'tag': 2}, {'nd': 55, 'tag': 1}, {'nd': 101, 'tag': 1}, {'nd': 120, 'tag': 3}, {'nd': 84, 'tag': 5}, {'nd': 127, 'tag': 2}, {'nd': 76, 'tag': 10}, {'nd': 21, 'tag': 16}, {'nd': 88, 'tag': 13}, {'nd': 18, 'tag': 16}, {'nd': 37, 'tag': 12}, {'nd': 25, 'tag': 16}, {'nd': 140, 'tag': 1}, {'nd': 129, 'tag': 4}, {'nd': 131, 'tag': 1}, {'nd': 77, 'tag': 11}, {'nd': 69, 'tag': 1}, {'nd': 102, 'tag': 1}, {'nd': 76, 'tag': 8}, {'nd': 88, 'tag': 2}, {'nd': 166}, {'nd': 70, 'tag': 5}, {'nd': 120, 'tag': 1}, {'nd': 104, 'tag': 2}, {'nd': 996}, {'nd': 1072}, {'nd': 742}, {'nd': 526, 'tag': 1}, {'nd': 71, 'tag': 13}, {'nd': 302, 'tag': 3}, {'nd': 74, 'tag': 4}, {'nd': 89, 'tag': 1}, {'nd': 88, 'tag': 8}, {'nd': 786}, {'nd': 107, 'tag': 4}, {'nd': 10, 'tag': 21}, {'nd': 28, 'tag': 16}, {'nd': 4, 'tag': 22}, {'nd': 28, 'tag': 20}, {'nd': 98, 'tag': 8}, {'nd': 62, 'tag': 12}, {'nd': 70, 'tag': 11}, {'nd': 798}, {'nd': 37}, {'nd': 599}, {'nd': 785}, {'nd': 9, 'tag': 19}, {'nd': 130, 'tag': 2}, {'nd': 33, 'tag': 16}, {'nd': 141, 'tag': 1}, {'nd': 91, 'tag': 1}, {'nd': 38, 'tag': 14}, {'nd': 64, 'tag': 9}, {'nd': 13, 'tag': 16}, {'nd': 134, 'tag': 11}, {'nd': 271, 'tag': 2}, {'nd': 20, 'tag': 16}, {'nd': 46, 'tag': 13}, {'nd': 27, 'tag': 13}, {'nd': 72, 'tag': 9}, {'nd': 196, 'tag': 3}, {'nd': 108, 'tag': 2}, {'nd': 79, 'tag': 4}, {'nd': 83, 'tag': 4}, {'nd': 236, 'tag': 2}, {'nd': 51, 'tag': 9}, {'nd': 27, 'tag': 16}, {'nd': 166, 'tag': 8}, {'nd': 134, 'tag': 1}, {'nd': 275, 'tag': 1}, {'nd': 121, 'tag': 2}, {'nd': 105, 'tag': 4}, {'nd': 257, 'tag': 2}, {'nd': 8, 'tag': 21}, {'nd': 104, 'tag': 9}, {'nd': 23, 'tag': 15}, {'nd': 67, 'tag': 15}, {'nd': 303, 'tag': 9}, {'nd': 58, 'tag': 13}, {'nd': 67, 'tag': 6}, {'nd': 124, 'tag': 6}, {'nd': 87, 'tag': 6}, {'nd': 49, 'tag': 16}, {'nd': 55, 'tag': 12}, {'nd': 49, 'tag': 6}, {'nd': 64, 'tag': 3}, {'nd': 78, 'tag': 5}, {'nd': 28, 'tag': 13}, {'nd': 28, 'tag': 17}, {'nd': 54}, {'nd': 19, 'tag': 18}, {'nd': 77, 'tag': 8}, {'nd': 106, 'tag': 1}, {'nd': 25}, {'nd': 338, 'tag': 5}, {'nd': 527, 'tag': 6}, {'nd': 143, 'tag': 6}, {'nd': 114, 'tag': 11}, {'nd': 205, 'tag': 9}, {'nd': 241, 'tag': 9}, {'nd': 100, 'tag': 1}, {'nd': 71, 'tag': 3}, {'nd': 123, 'tag': 3}, {'nd': 33, 'tag': 14}, {'nd': 63, 'tag': 3}, {'nd': 110, 'tag': 3}, {'nd': 63, 'tag': 9}, {'nd': 83, 'tag': 6}, {'nd': 78, 'tag': 11}, {'nd': 55, 'tag': 6}, {'nd': 187, 'tag': 2}, {'nd': 80, 'tag': 5}, {'nd': 68, 'tag': 4}, {'nd': 127, 'tag': 6}, {'nd': 74, 'tag': 6}, {'nd': 68, 'tag': 6}, {'nd': 143, 'tag': 2}, {'nd': 497, 'tag': 2}, {'nd': 19, 'tag': 22}, {'nd': 109, 'tag': 4}, {'nd': 61, 'tag': 4}, {'nd': 23, 'tag': 16}, {'nd': 101, 'tag': 4}, {'nd': 84, 'tag': 4}, {'nd': 126, 'tag': 4}, {'nd': 104, 'tag': 4}, {'nd': 218, 'tag': 3}, {'nd': 44, 'tag': 12}, {'nd': 95, 'tag': 8}, {'nd': 130, 'tag': 8}, {'nd': 117, 'tag': 8}, {'nd': 109, 'tag': 6}, {'nd': 93, 'tag': 6}, {'nd': 117, 'tag': 6}, {'nd': 198, 'tag': 6}, {'nd': 121, 'tag': 6}, {'nd': 167, 'tag': 1}, {'nd': 110, 'tag': 6}, {'nd': 177, 'tag': 6}, {'nd': 200, 'tag': 6}, {'nd': 129, 'tag': 6}, {'nd': 185, 'tag': 6}, {'nd': 159, 'tag': 6}, {'nd': 134, 'tag': 3}, {'nd': 119}, {'nd': 442, 'tag': 3}, {'nd': 203, 'tag': 3}, {'nd': 194, 'tag': 3}, {'nd': 99, 'tag': 3}, {'nd': 198, 'tag': 3}, {'nd': 191, 'tag': 3}, {'nd': 155, 'tag': 3}, {'nd': 215, 'tag': 2}, {'nd': 179, 'tag': 3}, {'nd': 30, 'tag': 15}, {'nd': 41, 'tag': 21}, {'nd': 17, 'tag': 18}, {'nd': 41, 'tag': 18}, {'nd': 13, 'tag': 23}, {'nd': 115, 'tag': 3}, {'nd': 167, 'tag': 3}, {'nd': 65, 'tag': 1}, {'nd': 182, 'tag': 3}, {'nd': 72, 'tag': 2}, {'nd': 80, 'tag': 2}, {'nd': 17, 'tag': 14}, {'nd': 84, 'tag': 2}, {'nd': 29, 'tag': 15}, {'nd': 65, 'tag': 3}, {'nd': 85, 'tag': 3}, {'nd': 5, 'tag': 23}, {'nd': 63, 'tag': 11}, {'nd': 5, 'tag': 25}, {'nd': 42, 'tag': 19}, {'nd': 361, 'tag': 25}, {'nd': 41, 'tag': 19}, {'nd': 7, 'tag': 27}, {'nd': 208, 'tag': 27}, {'nd': 11, 'tag': 19}, {'nd': 39, 'tag': 19}, {'nd': 106, 'tag': 19}, {'nd': 29, 'tag': 27}, {'nd': 2, 'tag': 27}, {'nd': 326, 'tag': 27}, {'nd': 32, 'tag': 18}, {'nd': 32, 'tag': 28}, {'nd': 30, 'tag': 18}, {'nd': 514, 'tag': 18}, {'nd': 45, 'tag': 28}, {'nd': 130, 'tag': 28}, {'nd': 26, 'tag': 28}, {'nd': 68, 'tag': 18}, {'nd': 209, 'tag': 28}, {'nd': 100, 'tag': 28}, {'nd': 30, 'tag': 17}, {'nd': 132, 'tag': 3}, {'nd': 79, 'tag': 17}, {'nd': 52, 'tag': 17}, {'nd': 46, 'tag': 19}, {'nd': 711, 'tag': 18}, {'nd': 75, 'tag': 3}, {'nd': 252, 'tag': 3}, {'nd': 83, 'tag': 7}, {'nd': 90, 'tag': 8}, {'nd': 65, 'tag': 18}, {'nd': 386, 'tag': 2}, {'nd': 83}, {'nd': 172}, {'nd': 118, 'tag': 11}, {'nd': 98, 'tag': 9}, {'nd': 30}, {'nd': 78, 'tag': 1}, {'nd': 592, 'tag': 9}, {'nd': 82, 'tag': 7}, {'nd': 79, 'tag': 7}, {'nd': 84, 'tag': 7}, {'nd': 55, 'tag': 5}, {'nd': 104, 'tag': 5}, {'nd': 184, 'tag': 4}, {'nd': 24, 'tag': 15}, {'nd': 118, 'tag': 8}, {'nd': 167, 'tag': 8}, {'nd': 96, 'tag': 8}, {'nd': 58, 'tag': 8}, {'nd': 88, 'tag': 9}, {'nd': 239}, {'nd': 96, 'tag': 2}, {'nd': 206, 'tag': 2}, {'nd': 80, 'tag': 6}, {'nd': 192, 'tag': 3}, {'nd': 67, 'tag': 2}, {'nd': 206, 'tag': 4}, {'nd': 174, 'tag': 2}, {'nd': 174, 'tag': 5}, {'nd': 319, 'tag': 3}, {'nd': 112, 'tag': 3}, {'nd': 151, 'tag': 4}, {'nd': 106, 'tag': 3}, {'nd': 119, 'tag': 4}, {'nd': 73, 'tag': 7}, {'nd': 151, 'tag': 3}, {'nd': 142, 'tag': 2}, {'nd': 180, 'tag': 2}, {'nd': 336, 'tag': 2}, {'nd': 99, 'tag': 9}, {'nd': 95, 'tag': 9}, {'nd': 126, 'tag': 2}, {'nd': 596, 'tag': 2}, {'nd': 87, 'tag': 5}, {'nd': 64, 'tag': 5}, {'nd': 92, 'tag': 2}, {'nd': 152, 'tag': 2}, {'nd': 139, 'tag': 2}, {'nd': 605, 'tag': 2}, {'nd': 192, 'tag': 2}, {'nd': 42, 'tag': 15}, {'nd': 47, 'tag': 12}, {'nd': 106, 'tag': 5}, {'nd': 217, 'tag': 2}, {'nd': 138, 'tag': 2}, {'nd': 460, 'tag': 2}, {'nd': 115, 'tag': 2}, {'nd': 89, 'tag': 11}, {'nd': 54, 'tag': 20}, {'nd': 160, 'tag': 2}, {'nd': 881, 'tag': 3}, {'nd': 606, 'tag': 4}, {'nd': 177, 'tag': 4}, {'nd': 163, 'tag': 8}, {'nd': 136, 'tag': 2}, {'nd': 139, 'tag': 8}, {'nd': 138, 'tag': 8}, {'nd': 168, 'tag': 2}, {'nd': 109, 'tag': 8}, {'nd': 114, 'tag': 8}, {'nd': 91, 'tag': 3}, {'nd': 194, 'tag': 6}, {'nd': 163, 'tag': 3}, {'nd': 591, 'tag': 2}, {'nd': 153, 'tag': 2}, {'nd': 141, 'tag': 5}, {'nd': 45, 'tag': 16}, {'nd': 30, 'tag': 21}, {'nd': 77, 'tag': 4}, {'nd': 149, 'tag': 2}, {'nd': 186, 'tag': 2}, {'nd': 94, 'tag': 2}, {'nd': 279, 'tag': 3}, {'nd': 77, 'tag': 7}, {'nd': 58, 'tag': 7}, {'nd': 97, 'tag': 7}, {'nd': 138, 'tag': 7}, {'nd': 124, 'tag': 7}, {'nd': 96, 'tag': 7}, {'nd': 147, 'tag': 1}, {'nd': 85, 'tag': 5}, {'nd': 89, 'tag': 7}, {'nd': 74, 'tag': 7}, {'nd': 249, 'tag': 3}, {'nd': 177, 'tag': 1}, {'nd': 317, 'tag': 1}, {'nd': 125, 'tag': 15}, {'nd': 39, 'tag': 16}, {'nd': 50}, {'nd': 62, 'tag': 28}, {'nd': 91, 'tag': 27}, {'nd': 41, 'tag': 27}, {'nd': 1474, 'tag': 25}, {'nd': 13, 'tag': 27}, {'nd': 14, 'tag': 24}, {'nd': 2}, {'nd': 711, 'tag': 5}, {'nd': 9, 'tag': 24}, {'nd': 70, 'tag': 18}, {'nd': 76, 'tag': 18}, {'nd': 154, 'tag': 3}, {'nd': 3, 'tag': 22}, {'nd': 54, 'tag': 13}, {'nd': 13, 'tag': 20}, {'nd': 14, 'tag': 20}, {'nd': 48, 'tag': 13}, {'nd': 15, 'tag': 20}, {'nd': 270, 'tag': 7}, {'nd': 419, 'tag': 2}, {'nd': 22, 'tag': 23}, {'nd': 74, 'tag': 11}, {'nd': 123, 'tag': 2}, {'nd': 2, 'tag': 26}, {'nd': 120, 'tag': 26}, {'nd': 19, 'tag': 26}, {'nd': 150, 'tag': 5}, {'nd': 175, 'tag': 2}, {'nd': 114, 'tag': 4}, {'nd': 85, 'tag': 4}, {'nd': 188}, {'nd': 163, 'tag': 11}, {'nd': 129}, {'nd': 90, 'tag': 3}, {'nd': 96, 'tag': 14}, {'nd': 156, 'tag': 27}, {'nd': 56, 'tag': 14}, {'nd': 173, 'tag': 3}, {'nd': 135, 'tag': 2}, {'nd': 249, 'tag': 10}, {'nd': 95, 'tag': 7}, {'nd': 221, 'tag': 2}, {'nd': 428, 'tag': 7}, {'nd': 114, 'tag': 2}, {'nd': 273, 'tag': 3}, {'nd': 226, 'tag': 3}, {'nd': 344, 'tag': 3}, {'nd': 98, 'tag': 1}, {'nd': 129, 'tag': 1}, {'nd': 132, 'tag': 1}, {'nd': 143, 'tag': 1}, {'nd': 145, 'tag': 2}, {'nd': 39, 'tag': 13}, {'nd': 21, 'tag': 15}, {'nd': 8, 'tag': 20}, {'nd': 3, 'tag': 23}, {'nd': 56, 'tag': 11}, {'nd': 84, 'tag': 6}, {'nd': 41, 'tag': 15}, {'nd': 43}, {'nd': 42, 'tag': 14}, {'nd': 55, 'tag': 21}, {'nd': 16, 'tag': 21}, {'nd': 49, 'tag': 21}, {'nd': 31, 'tag': 21}, {'nd': 57, 'tag': 15}, {'nd': 120, 'tag': 9}, {'nd': 15, 'tag': 21}, {'nd': 192, 'tag': 8}, {'nd': 46, 'tag': 14}, {'nd': 44, 'tag': 15}, {'nd': 116, 'tag': 2}, {'nd': 51, 'tag': 10}, {'nd': 164, 'tag': 2}, {'nd': 136, 'tag': 1}, {'nd': 64, 'tag': 18}, {'nd': 339, 'tag': 3}, {'nd': 114, 'tag': 6}, {'nd': 96, 'tag': 6}, {'nd': 211, 'tag': 2}, {'nd': 98, 'tag': 10}, {'nd': 105, 'tag': 3}, {'nd': 40, 'tag': 18}, {'nd': 152, 'tag': 6}, {'nd': 125, 'tag': 6}, {'nd': 115, 'tag': 6}, {'nd': 58, 'tag': 6}, {'nd': 97, 'tag': 12}, {'nd': 105, 'tag': 6}, {'nd': 85, 'tag': 6}, {'nd': 104, 'tag': 6}, {'nd': 210, 'tag': 6}, {'nd': 137, 'tag': 6}, {'nd': 79, 'tag': 6}, {'nd': 102, 'tag': 6}, {'nd': 115, 'tag': 1}, {'nd': 84, 'tag': 13}, {'nd': 103, 'tag': 5}, {'nd': 173, 'tag': 1}, {'nd': 84, 'tag': 11}, {'nd': 109, 'tag': 7}, {'nd': 92, 'tag': 7}, {'nd': 111, 'tag': 7}, {'nd': 94, 'tag': 7}, {'nd': 75, 'tag': 7}, {'nd': 134, 'tag': 5}, {'nd': 132, 'tag': 7}, {'nd': 123, 'tag': 1}, {'nd': 146, 'tag': 1}, {'nd': 222, 'tag': 7}, {'nd': 117, 'tag': 1}, {'nd': 148, 'tag': 1}, {'nd': 92, 'tag': 1}, {'nd': 174, 'tag': 3}, {'nd': 72, 'tag': 6}, {'nd': 71, 'tag': 6}, {'nd': 130, 'tag': 11}, {'nd': 359, 'tag': 2}, {'nd': 198, 'tag': 8}, {'nd': 109, 'tag': 9}, {'nd': 75, 'tag': 10}, {'nd': 63, 'tag': 5}, {'nd': 199, 'tag': 2}, {'nd': 67, 'tag': 13}, {'nd': 132, 'tag': 2}, {'nd': 91, 'tag': 9}, {'nd': 123, 'tag': 10}, {'nd': 128, 'tag': 1}, {'nd': 56, 'tag': 12}, {'nd': 47}, {'nd': 62}, {'nd': 85, 'tag': 11}, {'nd': 36}, {'nd': 59}, {'nd': 103, 'tag': 1}, {'nd': 78}, {'nd': 46, 'tag': 16}, {'nd': 116, 'tag': 1}, {'nd': 83, 'tag': 5}, {'nd': 99, 'tag': 5}, {'nd': 94, 'tag': 4}, {'nd': 11, 'tag': 20}, {'nd': 155}, {'nd': 183}, {'nd': 40, 'tag': 14}, {'nd': 12, 'tag': 19}, {'nd': 62, 'tag': 26}, {'nd': 80, 'tag': 14}, {'nd': 107, 'tag': 13}, {'nd': 117, 'tag': 13}, {'nd': 142}, {'nd': 81, 'tag': 10}, {'nd': 79}, {'nd': 49}, {'nd': 107, 'tag': 12}, {'nd': 75}, {'nd': 60}, {'nd': 99}, {'nd': 71, 'tag': 28}, {'nd': 64, 'tag': 12}, {'nd': 93, 'tag': 5}, {'nd': 130, 'tag': 1}, {'nd': 127}, {'nd': 188, 'tag': 8}, {'nd': 59, 'tag': 11}, {'nd': 92, 'tag': 14}, {'nd': 67, 'tag': 11}, {'nd': 172, 'tag': 11}, {'nd': 49, 'tag': 12}, {'nd': 102, 'tag': 3}, {'nd': 10, 'tag': 19}, {'nd': 53, 'tag': 15}, {'nd': 237, 'tag': 1}, {'nd': 90, 'tag': 1}, {'nd': 97, 'tag': 1}, {'nd': 16, 'tag': 16}, {'nd': 168, 'tag': 1}, {'nd': 22, 'tag': 19}, {'nd': 4, 'tag': 21}, {'nd': 193, 'tag': 7}, {'nd': 139, 'tag': 10}, {'nd': 145, 'tag': 10}, {'nd': 78, 'tag': 10}, {'nd': 109, 'tag': 1}, {'nd': 88, 'tag': 6}, {'nd': 61, 'tag': 16}, {'nd': 84, 'tag': 9}, {'nd': 104, 'tag': 10}, {'nd': 78, 'tag': 7}, {'nd': 65, 'tag': 8}, {'nd': 37, 'tag': 17}, {'nd': 108}, {'nd': 117, 'tag': 7}, {'nd': 35, 'tag': 14}, {'nd': 51}, {'nd': 12, 'tag': 20}, {'nd': 64, 'tag': 13}, {'nd': 242, 'tag': 4}, {'nd': 112, 'tag': 5}, {'nd': 78, 'tag': 12}, {'nd': 107, 'tag': 3}, {'nd': 114}, {'nd': 126, 'tag': 1}, {'nd': 36, 'tag': 21}, {'nd': 83, 'tag': 1}, {'nd': 92, 'tag': 12}, {'nd': 192, 'tag': 7}, {'nd': 69, 'tag': 7}, {'nd': 375, 'tag': 3}, {'nd': 223, 'tag': 2}, {'nd': 66}, {'nd': 78, 'tag': 8}, {'nd': 23, 'tag': 20}, {'nd': 24, 'tag': 20}, {'nd': 89, 'tag': 3}, {'nd': 122, 'tag': 2}, {'nd': 26, 'tag': 17}, {'nd': 56, 'tag': 15}, {'nd': 48, 'tag': 14}, {'nd': 212, 'tag': 2}, {'nd': 21, 'tag': 19}, {'nd': 80, 'tag': 16}, {'nd': 166, 'tag': 4}, {'nd': 11, 'tag': 21}, {'nd': 99, 'tag': 12}, {'nd': 129, 'tag': 2}, {'nd': 93, 'tag': 7}, {'nd': 413, 'tag': 2}, {'nd': 33, 'tag': 18}, {'nd': 74, 'tag': 3}, {'nd': 66, 'tag': 14}, {'nd': 214, 'tag': 1}, {'nd': 203, 'tag': 5}, {'nd': 166, 'tag': 2}, {'nd': 128, 'tag': 7}, {'nd': 234, 'tag': 3}, {'nd': 80, 'tag': 17}, {'nd': 107, 'tag': 9}, {'nd': 119, 'tag': 1}, {'nd': 183, 'tag': 2}, {'nd': 173, 'tag': 2}, {'nd': 253, 'tag': 4}, {'nd': 113, 'tag': 6}, {'nd': 38, 'tag': 15}, {'nd': 84, 'tag': 3}, {'nd': 109, 'tag': 2}, {'nd': 24, 'tag': 17}, {'nd': 498, 'tag': 2}, {'nd': 81, 'tag': 3}, {'nd': 112, 'tag': 6}, {'nd': 96, 'tag': 1}, {'nd': 218}, {'nd': 80, 'tag': 4}, {'nd': 91, 'tag': 4}, {'nd': 103, 'tag': 3}, {'nd': 84}, {'nd': 90}, {'nd': 212, 'tag': 26}, {'nd': 226, 'tag': 4}, {'nd': 384, 'tag': 2}, {'nd': 449, 'tag': 3}, {'nd': 287, 'tag': 3}, {'nd': 3, 'tag': 26}, {'nd': 4, 'tag': 26}, {'nd': 56}, {'nd': 169, 'tag': 7}, {'nd': 104}, {'nd': 163, 'tag': 10}, {'nd': 122, 'tag': 9}, {'nd': 66, 'tag': 9}, {'nd': 1208, 'tag': 2}, {'nd': 1135, 'tag': 2}, {'nd': 302, 'tag': 2}, {'nd': 835, 'tag': 1}, {'nd': 140, 'tag': 3}, {'nd': 17, 'tag': 21}, {'nd': 2, 'tag': 25}, {'nd': 34, 'tag': 21}, {'nd': 16, 'tag': 17}, {'nd': 23, 'tag': 17}, {'nd': 10, 'tag': 20}, {'nd': 24, 'tag': 19}, {'nd': 7, 'tag': 21}, {'nd': 210, 'tag': 1}, {'nd': 33, 'tag': 15}, {'nd': 159, 'tag': 1}, {'nd': 18, 'tag': 18}, {'nd': 81, 'tag': 13}, {'nd': 276}, {'nd': 88, 'tag': 1}, {'nd': 154, 'tag': 5}, {'nd': 92, 'tag': 4}, {'nd': 262, 'tag': 2}, {'nd': 2, 'tag': 28}, {'nd': 33, 'tag': 28}, {'nd': 6, 'tag': 28}, {'nd': 112, 'tag': 4}, {'nd': 140, 'tag': 2}, {'nd': 230, 'tag': 3}, {'nd': 154, 'tag': 2}, {'nd': 127, 'tag': 1}, {'nd': 44, 'tag': 13}, {'nd': 204, 'tag': 3}, {'nd': 328, 'tag': 1}, {'nd': 378, 'tag': 1}, {'nd': 160, 'tag': 1}, {'nd': 313, 'tag': 1}, {'nd': 82, 'tag': 8}, {'nd': 25, 'tag': 18}, {'nd': 118, 'tag': 1}, {'nd': 150, 'tag': 1}, {'nd': 43, 'tag': 14}, {'nd': 127, 'tag': 9}, {'nd': 268, 'tag': 2}, {'nd': 95, 'tag': 11}, {'nd': 367, 'tag': 2}, {'nd': 244, 'tag': 1}, {'nd': 219, 'tag': 10}, {'nd': 196}, {'nd': 539, 'tag': 2}, {'nd': 171}, {'nd': 113, 'tag': 7}, {'nd': 245, 'tag': 3}, {'nd': 155, 'tag': 2}, {'nd': 20, 'tag': 18}, {'nd': 162, 'tag': 2}, {'nd': 82, 'tag': 5}, {'nd': 89, 'tag': 10}, {'nd': 64, 'tag': 11}, {'nd': 73, 'tag': 9}, {'nd': 87, 'tag': 9}, {'nd': 426, 'tag': 1}, {'nd': 158, 'tag': 3}, {'nd': 83, 'tag': 9}, {'nd': 105, 'tag': 9}, {'nd': 57, 'tag': 10}, {'nd': 77, 'tag': 12}, {'nd': 159, 'tag': 4}, {'nd': 32, 'tag': 17}, {'nd': 27, 'tag': 15}, {'nd': 33, 'tag': 17}, {'nd': 809, 'tag': 3}, {'nd': 93, 'tag': 9}, {'nd': 105, 'tag': 1}, {'nd': 227, 'tag': 2}, {'nd': 81, 'tag': 11}, {'nd': 81, 'tag': 15}, {'nd': 192, 'tag': 4}, {'nd': 197, 'tag': 4}, {'nd': 147, 'tag': 7}, {'nd': 114, 'tag': 5}, {'nd': 163, 'tag': 4}, {'nd': 32, 'tag': 15}, {'nd': 168, 'tag': 28}, {'nd': 77, 'tag': 10}, {'nd': 113, 'tag': 3}, {'nd': 101, 'tag': 3}, {'nd': 108, 'tag': 14}, {'nd': 252, 'tag': 2}, {'nd': 79, 'tag': 9}, {'nd': 290, 'tag': 3}, {'nd': 40, 'tag': 16}, {'nd': 34, 'tag': 15}, {'nd': 43, 'tag': 16}, {'nd': 116, 'tag': 7}, {'nd': 162}, {'nd': 91, 'tag': 14}, {'nd': 23, 'tag': 18}, {'nd': 83, 'tag': 11}, {'nd': 68, 'tag': 10}, {'nd': 136, 'tag': 3}, {'nd': 50, 'tag': 15}, {'nd': 36, 'tag': 14}, {'nd': 306, 'tag': 2}, {'nd': 60, 'tag': 15}, {'nd': 34, 'tag': 14}, {'nd': 109, 'tag': 3}, {'nd': 122, 'tag': 5}, {'nd': 131, 'tag': 11}, {'nd': 147, 'tag': 10}, {'nd': 92, 'tag': 6}, {'nd': 124, 'tag': 4}, {'nd': 70, 'tag': 9}, {'nd': 60, 'tag': 13}, {'nd': 155, 'tag': 9}, {'nd': 150, 'tag': 11}, {'nd': 121, 'tag': 15}, {'nd': 87, 'tag': 10}, {'nd': 82, 'tag': 6}, {'nd': 158, 'tag': 8}, {'nd': 44, 'tag': 28}, {'nd': 29, 'tag': 28}, {'nd': 391, 'tag': 25}, {'nd': 180, 'tag': 3}, {'nd': 37, 'tag': 14}, {'nd': 135, 'tag': 5}, {'nd': 85, 'tag': 13}, {'nd': 78, 'tag': 13}, {'nd': 93, 'tag': 12}, {'nd': 90, 'tag': 4}, {'nd': 129, 'tag': 8}, {'nd': 42, 'tag': 13}, {'nd': 19, 'tag': 21}]\n"
     ]
    }
   ],
   "source": [
    "ways = count_grandchildren('way')\n",
    "print(ways)\n"
   ]
  },
  {
   "cell_type": "markdown",
   "metadata": {},
   "source": [
    "#### Ways Structure\n",
    "From the above list it appears we have two types of unique tags as children to way: nd and tag. But the number of tag combinations makes it difficult to read exactly what is going on. I'll make a couple of new functions to help make this more readable."
   ]
  },
  {
   "cell_type": "code",
   "execution_count": 16,
   "metadata": {},
   "outputs": [
    {
     "name": "stdout",
     "output_type": "stream",
     "text": [
      "['tag', 'nd']\n"
     ]
    }
   ],
   "source": [
    "def uniquetags(dlist):\n",
    "    # uses chain from itertools to find unique keys in a list of dictionaries\n",
    "    tlist = list(set(chain.from_iterable(sub.keys() for sub in dlist)))\n",
    "    return str(tlist)\n",
    "\n",
    "print(uniquetags(ways))"
   ]
  },
  {
   "cell_type": "code",
   "execution_count": 17,
   "metadata": {},
   "outputs": [
    {
     "name": "stdout",
     "output_type": "stream",
     "text": [
      "way>nd:\n",
      "(2, 1529)\n",
      "\n",
      "way>tag:\n",
      "(0, 29)\n"
     ]
    }
   ],
   "source": [
    "def tag_range(dlist,tname):\n",
    "    # iterates through a list of dictionaries to find the highest and lowest value of a given key returns (0,0) if key doesn't exist\n",
    "    mtag = 0\n",
    "    for dict in dlist:\n",
    "        if dict.get(tname) is not None:\n",
    "            if dict[tname] > mtag:\n",
    "                mtag = dict[tname]\n",
    "    mintag = mtag\n",
    "    for dict in dlist:\n",
    "        if dict.get(tname) is not None:\n",
    "            if dict[tname] < mintag:\n",
    "                mintag = dict[tname]\n",
    "        else:\n",
    "            # returns (0,mtag) if key is missing from at least one dictionary in list\n",
    "            mintag = 0\n",
    "    return(mintag, mtag)\n",
    "\n",
    "\n",
    "\n",
    "print('way>nd:')\n",
    "print(tag_range(ways,'nd'))\n",
    "print()\n",
    "print('way>tag:')\n",
    "print(tag_range(ways,'tag'))"
   ]
  },
  {
   "cell_type": "markdown",
   "metadata": {},
   "source": [
    "I found that \"way\" does have exactly two child tags \"nd\" and \"tag\". There are between 2 and 1,529 nd tags for each way tag. There are between 0 and 29 tag tags. "
   ]
  },
  {
   "cell_type": "markdown",
   "metadata": {},
   "source": [
    "#### Relation Structure\n",
    "Using the same process and functions I will explore the structure of the relation tab. "
   ]
  },
  {
   "cell_type": "code",
   "execution_count": 11,
   "metadata": {},
   "outputs": [
    {
     "name": "stdout",
     "output_type": "stream",
     "text": [
      "['member', 'tag']\n"
     ]
    }
   ],
   "source": [
    "relations = count_grandchildren('relation')\n",
    "\n",
    "print(uniquetags(relations))"
   ]
  },
  {
   "cell_type": "code",
   "execution_count": 12,
   "metadata": {},
   "outputs": [
    {
     "name": "stdout",
     "output_type": "stream",
     "text": [
      "relation>member:\n",
      "(1, 2640)\n",
      "\n",
      "relation>tag:\n",
      "(0, 280)\n"
     ]
    }
   ],
   "source": [
    "print('relation>member:')\n",
    "print(tag_range(relations,'member'))\n",
    "print()\n",
    "print('relation>tag:')\n",
    "print(tag_range(relations,'tag'))"
   ]
  },
  {
   "cell_type": "markdown",
   "metadata": {},
   "source": [
    "I found that \"relation\" also has exactly two child tags \"member\" and \"tag\". There are between 1 and 2,640 member tags for each relation tag. There are between 0 and 280 tag tags."
   ]
  },
  {
   "cell_type": "markdown",
   "metadata": {},
   "source": [
    "### Tree Structure <a id='treestruct'></a>\n",
    "From my probing I was able to find that the xml datatree is structured something as follows:\n",
    "\n",
    "I. osm\n",
    "\n",
    "    1. note\n",
    "\n",
    "    2. meta\n",
    "\n",
    "    3. bounds\n",
    "\n",
    "    4. node\n",
    "\n",
    "        a. tag (0-30)\n",
    "\n",
    "    5. way\n",
    "\n",
    "        a. nd (2-1,529)\n",
    "\n",
    "        b. tag (0-29)\n",
    "\n",
    "    6. relation\n",
    "\n",
    "        a. member (1-2,640)\n",
    "\n",
    "        b. tag (0-280)\n",
    "        \n",
    "Next I will explore the attributes of each tag."
   ]
  },
  {
   "cell_type": "code",
   "execution_count": 13,
   "metadata": {},
   "outputs": [
    {
     "name": "stdout",
     "output_type": "stream",
     "text": [
      "osm\n",
      "{'version': '0.6', 'generator': 'Overpass API 0.7.54.13 ff15392f'}\n",
      "\n",
      "\n",
      "\n",
      "note\n",
      "{}\n",
      "The data included in this document is from www.openstreetmap.org. The data is made available under ODbL.\n",
      "\n",
      "meta\n",
      "{'osm_base': '2018-04-24T23:50:02Z'}\n",
      "None\n",
      "\n",
      "bounds\n",
      "{'minlat': '39.5956000', 'minlon': '-105.2298000', 'maxlat': '39.9329000', 'maxlon': '-104.4800000'}\n",
      "None\n"
     ]
    }
   ],
   "source": [
    "print('osm')\n",
    "print(droot.attrib)\n",
    "print(droot.text)\n",
    "print()\n",
    "print('note')\n",
    "print(droot[0].attrib)\n",
    "print(droot[0].text)\n",
    "print()\n",
    "print('meta')\n",
    "print(droot[1].attrib)\n",
    "print(droot[1].text)\n",
    "print()\n",
    "print('bounds')\n",
    "print(droot[2].attrib)\n",
    "print(droot[2].text)\n"
   ]
  },
  {
   "cell_type": "markdown",
   "metadata": {},
   "source": [
    "To determine the attributes/text of the other tags I will need a new function."
   ]
  },
  {
   "cell_type": "code",
   "execution_count": 14,
   "metadata": {},
   "outputs": [
    {
     "name": "stdout",
     "output_type": "stream",
     "text": [
      "[dict_keys(['id', 'lat', 'lon', 'version', 'timestamp', 'changeset', 'uid', 'user'])]\n"
     ]
    }
   ],
   "source": [
    "def attrib_compile(file, tname, gname):\n",
    "    #iterates through a given file (file), to find attribute keys for a given tag (tname) and it's child (gname)\n",
    "    attributes = []\n",
    "    for event, elem in ET.iterparse(file, events=(\"start\",)):\n",
    "        if elem.tag == tname:\n",
    "            if gname == 0:\n",
    "                # if the third argument is set to 0 function instead returns attribute keys for a given tag.\n",
    "                if elem.attrib.keys() not in attributes:\n",
    "                    attributes.append(elem.attrib.keys())\n",
    "            else:\n",
    "                for t in elem.iter(gname):\n",
    "                    if t.attrib.keys() not in attributes:\n",
    "                        attributes.append(t.attrib.keys())\n",
    "    return attributes\n",
    "attribnode = attrib_compile(Denver, 'node', 0)\n",
    "print(attribnode)"
   ]
  },
  {
   "cell_type": "markdown",
   "metadata": {},
   "source": [
    "The node tag has the following attributes: 'id', 'lat', 'lon', 'version', 'timestamp', 'changeset', 'uid', 'user'"
   ]
  },
  {
   "cell_type": "code",
   "execution_count": 15,
   "metadata": {
    "scrolled": true
   },
   "outputs": [
    {
     "name": "stdout",
     "output_type": "stream",
     "text": [
      "[dict_keys(['k', 'v'])]\n"
     ]
    }
   ],
   "source": [
    "attribnodetag = attrib_compile(Denver, 'node', 'tag')\n",
    "print(attribnodetag)"
   ]
  },
  {
   "cell_type": "markdown",
   "metadata": {},
   "source": [
    "The tag tag under the node tag has the following attributes: 'k', 'v'"
   ]
  },
  {
   "cell_type": "code",
   "execution_count": 134,
   "metadata": {
    "scrolled": true
   },
   "outputs": [
    {
     "name": "stdout",
     "output_type": "stream",
     "text": [
      "[dict_keys(['id', 'version', 'timestamp', 'changeset', 'uid', 'user'])]\n"
     ]
    }
   ],
   "source": [
    "attribway = attrib_compile(Denver, 'way', 0)\n",
    "print(attribway)"
   ]
  },
  {
   "cell_type": "markdown",
   "metadata": {},
   "source": [
    "The way tag has the following attributes: 'id', 'version', 'timestamp', 'changeset', 'uid', 'user'"
   ]
  },
  {
   "cell_type": "code",
   "execution_count": 135,
   "metadata": {
    "scrolled": true
   },
   "outputs": [
    {
     "name": "stdout",
     "output_type": "stream",
     "text": [
      "[dict_keys(['k', 'v'])]\n"
     ]
    }
   ],
   "source": [
    "attribwaytag = attrib_compile(Denver, 'way', 'tag')\n",
    "print(attribwaytag)"
   ]
  },
  {
   "cell_type": "markdown",
   "metadata": {},
   "source": [
    "The tag tag under the way tag has the following attributes: 'k', 'v'"
   ]
  },
  {
   "cell_type": "code",
   "execution_count": 136,
   "metadata": {
    "scrolled": true
   },
   "outputs": [
    {
     "name": "stdout",
     "output_type": "stream",
     "text": [
      "[dict_keys(['ref'])]\n"
     ]
    }
   ],
   "source": [
    "attribwaynd = attrib_compile(Denver, 'way', 'nd')\n",
    "print(attribwaynd)"
   ]
  },
  {
   "cell_type": "markdown",
   "metadata": {},
   "source": [
    "The nd tag under the way tag has the following attribute: 'ref'"
   ]
  },
  {
   "cell_type": "code",
   "execution_count": 137,
   "metadata": {
    "scrolled": true
   },
   "outputs": [
    {
     "name": "stdout",
     "output_type": "stream",
     "text": [
      "[dict_keys(['id', 'version', 'timestamp', 'changeset', 'uid', 'user'])]\n"
     ]
    }
   ],
   "source": [
    "attribrelation = attrib_compile(Denver, 'relation', 0)\n",
    "print(attribrelation)"
   ]
  },
  {
   "cell_type": "markdown",
   "metadata": {},
   "source": [
    "The relation tag has the following attributes: 'id', 'version', 'timestamp', 'changeset', 'uid', 'user'"
   ]
  },
  {
   "cell_type": "code",
   "execution_count": 138,
   "metadata": {
    "scrolled": true
   },
   "outputs": [
    {
     "name": "stdout",
     "output_type": "stream",
     "text": [
      "[dict_keys(['k', 'v'])]\n"
     ]
    }
   ],
   "source": [
    "attribrelationtag = attrib_compile(Denver, 'relation', 'tag')\n",
    "print(attribrelationtag)"
   ]
  },
  {
   "cell_type": "markdown",
   "metadata": {},
   "source": [
    "The tag tag under the relation tag has the following attributes: 'k', 'v'"
   ]
  },
  {
   "cell_type": "code",
   "execution_count": 139,
   "metadata": {
    "scrolled": true
   },
   "outputs": [
    {
     "name": "stdout",
     "output_type": "stream",
     "text": [
      "[dict_keys(['type', 'ref', 'role'])]\n"
     ]
    }
   ],
   "source": [
    "attribrelationmember = attrib_compile(Denver, 'relation', 'member')\n",
    "print(attribrelationmember)"
   ]
  },
  {
   "cell_type": "markdown",
   "metadata": {},
   "source": [
    "The member tag under the relation tag has the following attributes: 'type', 'ref', 'role'"
   ]
  },
  {
   "cell_type": "markdown",
   "metadata": {},
   "source": [
    "### Table Structure <a id='schema'></a>\n",
    "Now that I know what attributes each tag has I can begin structuring my schema.\n",
    "\n",
    "#### Tablename: nodes \n",
    "\n",
    "    id INTEGER PRIMARY KEY NOT NULL\n",
    "\n",
    "    lat REAL\n",
    "    \n",
    "    lon REAL\n",
    "    \n",
    "    user TEXT\n",
    "    \n",
    "    uid INTEGER\n",
    "    \n",
    "    version INTEGER\n",
    "    \n",
    "    changeset INTEGER\n",
    "    \n",
    "    timestamp TEXT\n",
    "    \n",
    "#### Tablename: nodes_tags \n",
    "    \n",
    "    nid INTEGER\n",
    "    \n",
    "    key TEXT\n",
    "    \n",
    "    value TEXT\n",
    "    \n",
    "    type TEXT\n",
    "    \n",
    "FOREIGN KEY (nid) REFERENCES nodes(id)\n",
    "    \n",
    "#### Tablename: ways\n",
    "    \n",
    "    id INTEGER PRIMARY KEY NOT NULL\n",
    "    \n",
    "    user TEXT\n",
    "    \n",
    "    uid INTEGER\n",
    "    \n",
    "    version TEXT\n",
    "    \n",
    "    changeset INTEGER\n",
    "    \n",
    "    timestamp TEXT\n",
    "    \n",
    "#### Tablename: ways_tags \n",
    "    \n",
    "    wid INTEGER NOT NULL\n",
    "    \n",
    "    key TEXT NOT NULL\n",
    "    \n",
    "    value TEXT NOT NULL\n",
    "    \n",
    "    type TEXT\n",
    "    \n",
    "FOREIGN KEY (wid) REFERENCES ways(id)\n",
    "    \n",
    "#### Tablename: ways_nodes\n",
    "    \n",
    "    wid INTEGER NOT NULL\n",
    "    \n",
    "    nid INTEGER NOT NULL\n",
    "    \n",
    "    position INTEGER NOT NULL\n",
    "    \n",
    "FOREIGN KEY (wid) REFERENCES ways(id)\n",
    "    \n",
    "FOREIGN KEY (nid) REFERENCES nodes(id)"
   ]
  },
  {
   "cell_type": "markdown",
   "metadata": {},
   "source": [
    "### Looking Closer\n",
    "Whether a child of node or way the tag tag has the same attributes 'k' and 'v.'\n",
    "\n",
    "This appears to be a key and value pair. I will write a function to see what keys ('k' value) exist in the tag tags."
   ]
  },
  {
   "cell_type": "code",
   "execution_count": 166,
   "metadata": {
    "scrolled": true
   },
   "outputs": [
    {
     "name": "stdout",
     "output_type": "stream",
     "text": [
      "['NHS', 'bicycle', 'hgv', 'hgv:national_network', 'highway', 'lanes', 'maxspeed', 'name', 'oneway', 'ref', 'source:hgv:national_network', 'service', 'surface', 'electrified', 'gauge', 'old_railway_operator', 'operator', 'railway', 'tiger:cfcc', 'tiger:county', 'tiger:name_base', 'usage', 'bridge', 'layer', 'toll', 'foot', 'horse', 'motor_vehicle', 'access', 'minspeed', 'tiger:name_direction_prefix', 'tiger:name_type', 'tiger:reviewed', 'source', 'tracktype', 'lit', 'maxspeed:type', 'alt_name', 'tiger:separated', 'tiger:source', 'tiger:tlid', 'parking:lane:both', 'tiger:upload_uuid', 'destination', 'destination:ref', 'CDOT_route', 'maxspeed:advisory', 'note', 'destination:ref:to', 'destination:street', 'cycleway', 'name_1', 'tiger:name_base_1', 'tiger:name_type_1', 'bus', 'turn:lanes', 'sidewalk', 'junction', 'old_name', 'lanes:backward', 'lanes:both_ways', 'lanes:forward', 'placement:both_ways', 'turn:lanes:both_ways', 'tiger:name_direction_prefix_1', 'tiger:name_base_2', 'tiger:name_base_3', 'tiger:name_direction_suffix', 'name_2', 'tiger:name_direction_prefix_2', 'tiger:name_type_2', 'source:maxspeed', 'turn:lanes:backward', 'level', 'lcn', 'nat_ref', 'hov', 'note:lanes', 'tiger:zip_right', 'old_ref', 'FIXME', 'unsigned_ref', 'tiger:name_type_3', 'name:es', 'turn:lanes:forward', 'cycleway:right', 'noname', 'parking:lane:right', 'source:name', 'construction', 'tiger:name_direction_suffix_1', 'name:en', 'cycleway:left', 'segregated', 'footway', 'bicycle:conditional', 'name:etymology:wikidata', 'created_by', 'cables', 'power', 'voltage', 'man_made', 'unsigned', 'cycleway:both', 'cycleway:both:segregated', 'tiger:zip_right_2', 'tiger:zip_right_3', 'proposed', 'description', 'planned:highway', 'name_3', 'tiger:name_direction_prefix_3', 'note:name', 'tiger:name_base_4', 'name_4', 'tiger:name_direction_prefix_4', 'tiger:name_type_4', 'abandoned:highway', 'CODT_route', 'sidewalk:right', 'amenity', 'waterway', 'tracks', 'historic', 'note:cycleway:lane', 'history', 'hiu', 'note:bus', 'aeroway', 'length', 'width', 'addr:city', 'addr:housenumber', 'addr:postcode', 'addr:state', 'addr:street', 'building', 'ele', 'gnis:feature_id', 'height', 'leisure', 'name:uk', 'sport', 'start_date', 'wheelchair', 'wikidata', 'wikipedia', 'building:colour', 'building:material', 'roof:colour', 'tourism', 'year_of_construction', 'building:height', 'building:levels', 'boat', 'natural', 'shop', 'phone', 'parking', 'gnis:county_id', 'gnis:created', 'gnis:state_id', 'water', 'landuse', 'website', 'seperate', 'fee', 'note:segregated:no', 'note:access', 'frequency', 'line', 'sac_scale', 'dogs', 'hikers', 'physical', 'singletrack', 'terrain', 'key', 'is_in:city', 'is_in:state', 'admin_level', 'border_type', 'boundary', 'is_in', 'is_in:country', 'is_in:country_code', 'is_in:iso_3166_2', 'is_in:state_code', 'tiger:CLASSFP', 'tiger:CPI', 'tiger:FUNCSTAT', 'tiger:LSAD', 'tiger:MTFCC', 'tiger:NAME', 'tiger:NAMELSAD', 'tiger:PCICBSA', 'tiger:PCINECTA', 'tiger:PLACEFP', 'tiger:PLACENS', 'tiger:PLCIDFP', 'tiger:STATEFP', 'designation', 'place', 'name:ru', 'place_name', 'barrier', 'lcn_ref', 'separated', 'FIXME:bicycle', 'gnis:county_name', 'gnis:import_uuid', 'building:part', 'address', 'tunnel', 'building:roof:colour', 'maxstay', 'religion', 'services', 'Use', 'cost', 'capacity', 'levels', 'Cost', 'roof:shape', 'roof:orientation', 'cutting', 'embankment', 'building:roof:shape', 'mtb:scale', 'mtb:scale:imba', 'trail_visibility', 'crossing', 'smoothness', 'park_ride', 'atm', 'maxspeed:backward', 'maxspeed:forward', 'parking:lane:left', 'addr:housename', 'undefined', 'gwv', 'destination:lanes:backward', 'destination:ref:lanes:backward', 'crosswalk', 'dangerous', 'area', 'addr:country', 'opening_hours', 'ref:walmart', 'restriction', 'cycleway:right:buffer', 'cuisine', 'wifi', 'automated', 'self_service', 'placement', 'automatic', 'internet_access', 'internet_access:fee', 'intermittent', 'note:building', 'fax', 'rooms', 'smoking', 'stars', 'office', 'note:destination', 'capacity:disabled', 'hoops', 'oneway:bus', 'supervised', 'drive_through', 'emergency', 'healthcare', 'takeaway', 'contact:email', 'contact:fax', 'contact:phone', 'contact:website', 'outdoor_seating', 'contact:facebook', 'owner', 'ref:store_number', 'gnis:edited', 'gnis:state', 'isced:level', 'parking:condition:area', 'parking:condition:area:customers', 'motorcar', 'delivery', 'food', 'restaurant', 'label', 'fuel:diesel', 'fuel:e85', 'fuel:octane_85', 'fuel:octane_87', 'fuel:octane_91', 'denomination', 'social_facility', 'second_hand', 'contact:google_plus', 'happy_hours', 'addr:full', 'name:tr', 'covered', 'location', 'substation', 'clothes', 'name:2', 'landuse_1', 'leisure_1', 'leisure_2', 'shelter_type', 'unisex', 'email', 'restrictions', 'residential', 'roof:material', 'type', 'incline', 'healthcare:speciality', 'rental', 'handicap', 'museum', 'image', 'wires', 'fixme', 'direction', 'route', 'vehicle', 'zoo', 'attraction', 'circuits', 'attribution', 'pipeline', 'outdoor', 'theatre:type', 'building_1', 'disused', 'role', 'courts', 'loc_name', 'addr:unit', 'phone:alternate', 'destination:backward', 'destination:ref:backward', 'school', 'artist_name', 'artwork_type', 'url', 'motorcycle', 'source_ref', 'cycleway:left:buffer', 'tenant_1', 'tenant_2', 'tenant_3', 'tenant_4', 'cycleway_1', 'overtaking', 'material', 'craft', 'church', 'roof:levels', 'generator:method', 'generator:output:electricity', 'generator:source', 'phone:toll-free', 'phone:tollfree', 'step_count', 'golf', 'grass', 'blue', 'handicap_ladies', 'handicap_men', 'par', 'white', 'red', 'par_ladies', 'par_men', 'tenant_10', 'tenant_11', 'tenant_12', 'tenant_13', 'tenant_14', 'tenant_15', 'tenant_5', 'tenant_6', 'tenant_7', 'tenant_8', 'tenant_9', 'opening_hours:happy_hour', 'drive_thru', 'opening_hours:drive_thru', 'opening_hours:lobby', 'tee', 'gold', 'black', 'tee_2', 'fut_ref', 'tenant_02', 'tenant_03', 'tenant_04', 'older_name', 'phone:reservations', 'dispensing', 'tiger:linearid', 'tiger:mtfcc', 'end_date', 'aircraft:type', 'manufacturer', 'phone:parts', 'phone:sales', 'phone:service', 'microbrewery', 'source:contact:phone', 'phone:pharmacy', 'note:cuisine', 'note:shop', 'pier', 'public_transport', 'collection_times', 'noexit', 'payment:bitcoin', 'payment:litecoin', 'dog', 'mtb:difficulty', 'green', 'blck', 'fence_type', 'int_name', 'paths', 'colour', 'TTY', 'note:cycleway', 'cycleway:right:segregated', 'psv:lanes', 'brand', 'toilets:disposal', 'building:cladding', 'building:roof', 'beauty', 'name:zh', 'take_out', 'yards', 'yards_2', 'tee_3', 'yards_3', 'tee_1', 'tee_4', 'yards_1', 'yards_4', 'bic', 'public', 'note:oneway', 'note:building:levels', 'toilets', 'brand:wikidata', 'brand:wikipedia', 'addr:source', 'feet', 'survey:date', 'disused:aeroway', 'faa', 'plant:output:electricity', 'recycling_type', 'animal_shelter', 'goods', 'capacity:parent', 'capacity:women', 'maxheight:physical', 'agricultural', 'social_facility:for', 'basin', 'tower:type', 'architect', 'water_1', 'reservoir_type', 'opening_hours:office', 'note:amenity', 'note:landuse', 'note:phone', 'alt_website', 'note:sport', 'beds', 'heritage', 'heritage:operator', 'ref:nrhp', 'yardage', 'course', 'r16', 'yardage_black', 'yardage_green', 'urgent_care', 'generator:type', 'amenity_1', 'phone:attendance', 'phone:school', 'handicap_women', 'phone_UCHTC', 'website_UCHTC', 'short_name', 'distillery', 'change:lanes', 'change:lanes:backward', 'change:lanes:forward', 'roof:height', 'building:level', 'theatre:genre', 'min_height', 'structure', 'lanes:psv', 'disc_golf', 'range_feet', 'note:capacity', 'addr:flats', 'units', 'abandoned', 'highway_1', 'building:min_level', 'opening_hours:gate', 'ref:rtd', 'indoor', 'note:apartments', 'roof:colour_1', 'fuel', 'private', 'entrance', 'bench', 'note:source', 'propane', 'wetland', 'phone:leasing', 'opening_hours:concierge', 'website:alternate', 'tactile_paving', 'note:bicycle', 'rooftop', 'phone:maintenance', 'recycling:cans', 'recycling:glass', 'recycling:paper', 'population', 'phone:howell', 'website:howell', 'military', 'website:building_map', 'note:addr', 'picnic', 'baseball', 'amenity_2', 'parking:spaces', 'parking:spaces:disabled', 'content', 'artist', 'pets', 'shop_1', 'bicycle_parking', 'ford', 'telescope:type', 'addr:county', 'FIXME:access', 'information', 'ramp:wheelchair', 'aerialway', 'access:emergency', 'closest_town', 'gnis:feature_type', 'iata', 'icao', 'destination:lanes', 'quantity', 'basketball', 'footw', 'crop', 'developer', 'power:plant:output', 'old_phone', 'parking_meters', 'animal', 'placement:backward', 'allotments', 'road', 'power_source', 'phone:nurse', 'fuel:octane_89', 'fuel:gasoline', 'service:vehicle:carwash', 'service:vehicle:oil_change', 'opening_hours:leasing_office', 'addr:suite', 'abandoned:building', 'floating', 'bridge:name', 'ref:csrhp', 'bridge:structure', 'traffic_calming', 'parking_space', 'phone:pro-desk', 'phone:toll_and_truck_rental', 'drainage', 'kerb', 'CITY_BUILD', 'Shape_Area', 'Shape_Leng', 'mtb:scale:uphill', 'wall', 'contact', 'bollard', 'swimming_pool', 'room', 'playground', 'network', 'pitching_machine', 'tower:construction', 'maxheight', 'cycleway:both:buffer', 'other', 'runway', 'fenced', 'path', 'neighborhood', 'conveying', 'apartments', 'barrier_1', 'contact:person', 'min:height', 'roof:direction', 'unit', 'handrail', 'brewery', 'heated', 'placement:end', 'placement:start', 'capacity:disabled:top_deck', 'capacity:top_deck', 'opening_hours:access', 'note:housenumber', 'updated', 'website:developer_1', 'website:developer_2', 'website:facebook', 'cycleway:lane', 'note:pitch', 'addr:interpolation', 'capacity:top_level', 'capacity:disabled:top_level', 'inner', 'inscription', 'opening_date', 'tenants', 'old_tenant', 'tenant', 'industrial', 'amenity_3', 'landuse_2', 'bin', 'disused:amenity', 'disused:name', 'phone:ProServices_Desk', '(new tag)', 'parking:lane:forward', 'vacant', 'note:turn:lanes', 'old_addr:housename', 'drawn', 'note:levels']\n"
     ]
    }
   ],
   "source": [
    "def keytypes(file, tname):\n",
    "    # creates a list of values assigned to attribute k for a tag tag that is a child of a given tag (tname)\n",
    "    keylist = []\n",
    "    for event, elem in ET.iterparse(file, events=(\"start\",)):\n",
    "        if elem.tag == tname:\n",
    "            for t in elem.iter('tag'):\n",
    "                if t.attrib['k'] not in keylist:\n",
    "                    keylist.append(t.attrib['k'])\n",
    "    return keylist\n",
    "                                \n",
    "waykey = keytypes(Denver, 'way')\n",
    "print(waykey)"
   ]
  },
  {
   "cell_type": "markdown",
   "metadata": {},
   "source": [
    "Examining the generated list of 'k' values from the tag tags under the way tag a couple of values stand out to me. \n",
    "\n",
    "1. addr:street In my experiance street addresses in databases often lack consistency indicating one area that may be in need of standardization. \n",
    "\n",
    "2. phone There are several tags with a variation on 'phone' if I were to write a function that cleaned that data, I could clean a large and varied amount of data with that singular effort"
   ]
  },
  {
   "cell_type": "code",
   "execution_count": 167,
   "metadata": {},
   "outputs": [
    {
     "name": "stdout",
     "output_type": "stream",
     "text": [
      "['highway', 'created_by', 'old_ref', 'ref', 'amenity', 'note:ref', 'ele', 'gnis:Class', 'gnis:County', 'gnis:County_num', 'gnis:ST_alpha', 'gnis:ST_num', 'gnis:id', 'import_uuid', 'is_in', 'name', 'place', 'census:population', 'population', 'wikidata', 'wikipedia', 'capital', 'is_in:continent', 'is_in:country', 'is_in:country_code', 'name:en', 'name:eo', 'name:ja', 'name:oc', 'name:pl', 'name:ru', 'name:ta', 'name:uk', 'source:name:oc', 'state_capital', 'railway', 'source', 'traffic_signals', 'noexit', 'direction', 'access', 'barrier', 'man_made', 'surveillance:type', 'noref', 'ref:left', 'ref:right', 'note', 'bicycle', 'crossing', 'traffic_calming', 'surface', 'stop', 'junction', 'addr:city', 'addr:housenumber', 'addr:postcode', 'addr:state', 'addr:street', 'leisure', 'operator', 'website', 'foot', 'horse', 'motor_vehicle', 'tactile_paving', 'crossing_ref', 'supervised', 'traffic_signals:direction', 'gnis:county_id', 'gnis:created', 'gnis:feature_id', 'gnis:state_id', 'power', 'access:icy', 'access:windy', 'capacity:disabled', 'parking', 'crossing:barrier', 'crossing:bell', 'crossing:light', 'lanes', 'atm', 'cuisine', 'description', 'food', 'microbrewery', 'opening_hours', 'outdoor_seating', 'phone', 'wheelchair', 'tourism', 'addr:housename', 'shop', 'natural', 'landuse', 'religion', 'denomination', 'gnis:edited', 'emergency', 'fax', 'phone:attendance', 'old_name', 'disused:amenity', 'historic', 'note:name', 'alt_name', 'building', 'waterway', 'tower:type', 'service_times', 'email', 'old_website', 'lutheran', 'addr:unit', 'gnis:county_name', 'gnis:import_uuid', 'office', 'private', 'phone:emergency', 'sport', 'gnis:feature_type', 'aeroway', 'source_ref', 'closed', 'aerodrome', 'closest_town', 'faa', 'iata', 'icao', 'name_1', 'destination', 'admin_level', 'border_type', 'boundary', 'route_ref', 'shelter', 'local_ref', 'park_ride', 'cuisine_1', 'destination:ref', 'line', 'internet_access', 'capacity', 'addr:country', 'addr:full', 'ref:walmart', 'dispensing', 'designation', 'level', 'takeaway', 'material', 'bench', 'telephone', 'phone:guest_support', 'catering', 'wifi', 'brand', 'contact:website', 'monitoring_station', 'radar', 'source:pkey', 'entrance', 'fuel:electricity', 'fuel:octane_100', 'fuel:octane_91', 'fuel:octane_95', 'fuel:octane_98', 'theatre:genre', 'drive_in', 'smoking', 'contact:email', 'services', 'type', 'odbl', 'layer', 'activity', 'covered', 'fee', 'stars', 'bicycle_parking', 'location:transition', 'motorcar', 'motorcycle', 'delivery', 'drive_through', 'opening_hours:url', 'undefined', 'internet_access:fee', 'opening_hours:dinner', 'opening_hours:lunch', 'phone:catering', 'wpt_symbol', 'attraction', 'animal', 'dog', 'beauty', 'recycling_type', 'diet:vegetarian', 'amenity:restaurant', 'FIXME:ref', 'fuel:diesel', 'fuel:octane_85', 'fuel:octane_87', 'automated', 'self_service', 'toilets:wheelchair', 'highway_1', 'generator:output:electricity', 'generator:source', 'historic:power', 'public_transport', 'stop_id', 'geological', 'artwork_type', 'addr:suite', 'healthcare', 'craft', 'tower', 'access:opening_hours', 'day_off', 'day_on', 'hour_off', 'hour_on', 'contact:phone', 'happy_hours', 'recycling:batteries', 'recycling:books', 'recycling:cans', 'recycling:cardboard', 'recycling:cartons', 'recycling:clothes', 'recycling:electrical_appliances', 'recycling:glass', 'recycling:glass_bottles', 'recycling:green_waste', 'recycling:magazines', 'recycling:newspaper', 'recycling:paper', 'recycling:paper_packaging', 'recycling:plastic', 'recycling:plastic_bottles', 'recycling:plastic_packaging', 'recycling:scrap_metal', 'recycling:small_appliances', 'recycling:waste', 'recycling:wood', 'fuel:HGV_diesel', 'shelter_type', 'fuel:GTL_diesel', 'fuel:biodiesel', 'fuel:biogas', 'fuel:cng', 'fuel:e10', 'fuel:e85', 'fuel:lpg', 'website:orders', 'wheelchair:description', 'payment:bitcoin', 'organic', 'addr:source', 'contact:fax', 'cost:coffee', 'collection_times', 'url', 'fuel:1_25', 'fuel:1_50', 'backrest', 'addr:door', 'phone:mobile', 'phone:tollfree', 'female', 'male', 'car_wash', 'information', 'artist:wikidata', 'artist_name', 'subject:wikidata', 'vending', 'naptan:Bearing', 'diet:vegan', 'payment:coins', 'payment:credit_cards', 'payment:debit_cards', 'payment:notes', 'naptan:AtcoCode', 'crossing:lights', 'ref:store_number', 'station', 'int_name', 'club', 'subway', 'locked', 'clothes', 'brewery', 'fire_hydrant:type', 'barrier_2', 'drive_thru', 'toilets:disposal', 'payment:litecoin', 'social_facility', 'social_facility:for', 'traffic_sign', 'maxspeed', 'opening_hours:summer', 'opening_hours:winter', 'design', 'payment:american_express', 'payment:cash', 'payment:discover_card', 'payment:mastercard', 'payment:paypal', 'payment:square_wallet', 'payment:visa', 'support', 'opening_hours:drive_thru', 'note:cuisine', 'alt_phone', 'alt_website', 'note:shop', 'artist', 'building:levels', 'phone:alternate', 'bus', 'network', 'healthcare:speciality', 'opening_hours:drive-up', 'opening_hours:lobby', 'structure', 'maxstay', 'culture', 'pastry_shop', 'second_hand', 'note:line', 'survey:date', 'short_name', 'shop_1', 'lines', 'platforms', 'board_type', 'voltage-high', 'voltage-low', 'studio', 'service:bicycle:chain_tool', 'country', 'diplomatic', 'exit', 'construction', 'phone:english', 'phone:espanol', 'waste', 'voltage', 'opening_hours:gate', 'note:shop:doityourself', 'opening_hours:gym', 'opening_hours:kids_club', 'opening_hours:school_year', 'opening_hours:carryout', 'opening_hours:delivery', 'opening_hours:access', 'opening_hours:office', 'height', 'note:local_ref', 'note:shelter', 'service', 'lamp_type', 'socket:type1', 'socket:nema_5_20', 'socket:chademo', 'socket:type1_combo', 'name:zh', 'socket:tesla_supercharger', 'leaf_type', 'transformer', 'crossing:activation', 'contact:name', 'leaf_cycle', 'recycling:shoes', 'opening_hours:pharmacy', 'opening_hours:store', 'service:bicycle:pump', 'camera:mount', 'denotation', 'amenity_1', 'recycling:computers', 'amenity_2', 'indoor', 'post_box:type', 'fuel:dyed_diesel', 'payment:checks', 'seasonal', 'street_lamp:type', 'traffic_signals:sound', 'latitude', 'longitude', 'contact:google_plus', 'contact:yelp', 'contact:youtube', 'charge', 'train', 'military', 'currency:USD', 'light_rail', 'bin', 'rooms', 'distillery', 'reuse:books', 'charging_station:plug', 'telescope:type', 'advertising', 'addr:postbox', 'service:bicycle:repair', 'suite', 'levels', 'binoculars', 'payment', 'service:vehicle:Transmission_Repair', 'payments', 'fuel:gasoline', 'website:reservations', 'instagram', 'side', 'traffic_sign:forward', 'service:vehicle:Sale', 'service:vehicle:car_parts', 'service:vehicle:car_repair', 'unisex', 'fire_hydrant:position', 'lit', 'generator:method', 'opening_hours:breakfast', 'area', 'bollard', 'industrial', 'colour', 'min_height', 'opening_hours:brunch', 'payment:cheque', 'lamps', 'addr:flats', 'opening_hours:KatieDid', 'phone:KatieDid', 'website:KatieDid', 'financial_advice:investment_advisor', 'phone:appointments', 'opening_hours:fall', 'contact', 'phone:booking', 'website:contact', 'opening_hours:happy_hour', 'opening_hours:sunday_brunch', 'phone:customer_service', 'opening_hours:hotpot', 'door', 'kerb', 'website:alternate', 'manager', 'start_date', 'facebook', 'email:operator', 'phone:operator:mobile', 'fountain', 'calming', 'service:bicycle:tools', 'dine_in', 'opening_hours:pickup', 'restriction', 'opening_hours:grooming', 'comments', 'web', 'phone:toll-free', 'water', 'artwork_type_1', 'artwork_type_2', 'amenity_3', 'building_1', 'status', 'government', 'playground', 'opening_hours:car_repair', 'year', 'date', 'toilet', 'apartments', 'FIXME']\n"
     ]
    }
   ],
   "source": [
    "nodekey = keytypes(Denver, 'node')\n",
    "print(nodekey)"
   ]
  },
  {
   "cell_type": "markdown",
   "metadata": {},
   "source": [
    "## Data Cleaning <a id='clean'></a>\n",
    "\n",
    "I have identified two areas where data may need to be cleaned: addr:street, and phone. I will proceed with the following steps:\n",
    "1. Audit street types to discover any outliers\n",
    "2. Create a function to clean and standardize street types\n",
    "3. Audit phone numbers to discover any issues\n",
    "4. Create a function to cleand and standardize phone numbers."
   ]
  },
  {
   "cell_type": "code",
   "execution_count": 4,
   "metadata": {},
   "outputs": [
    {
     "name": "stdout",
     "output_type": "stream",
     "text": [
      "defaultdict(<class 'set'>, {'Mall': {'Lawrence Street Mall'}, '73': {'County Highway 73'}, 'Ave': {'West Quincy Ave', 'W 96th Ave', 'w 67th Ave', 'East Hampden Ave', 'W 92nd Ave', 'W 86th Ave'}, 'Pl': {'W 88th Pl'}, 'West': {'Park Avenue West', 'Ulster Circle West'}, 'North': {'Central Court North', 'East Speer Boulevard North'}, '287': {'US 287', 'US Highway 287'}, '93': {'State Highway 93'}, '380': {'South Colorado Boulevard #380'}, '8': {'CO 8'}, '2': {'State Highway 2'}, 'MUP': {'128th Ave MUP'}, 'Blvd': {'Federal Blvd', 'Sheridan Blvd'}, 'St': {'S Delaware St'}, '128': {'CO 128'}, '36': {'US Highway 36'}, 'East': {'Ulster Circle East'}, '72': {'West Highway 72'}, '80237': {'80237'}})\n"
     ]
    }
   ],
   "source": [
    "street_type_re = re.compile(r'\\b\\S+\\.?$', re.IGNORECASE)\n",
    "street_types = defaultdict(set)\n",
    "\n",
    "expected_street = ['Street', 'Broadway', 'Crescent', 'Row', 'Center', 'Loop', 'Terrace', 'Avenue', 'Boulevard', 'Drive', 'Court', 'Place','Square','Circle', 'Way', 'Commons', 'Parkway', 'Road', 'Lane','Trail', 'Bypass']\n",
    "\n",
    "def audit_street_type(street_types, street_name):\n",
    "    m = street_type_re.search(street_name)\n",
    "    if m:\n",
    "        street_type = m.group()\n",
    "        if street_type not in expected_street:\n",
    "            street_types[street_type].add(street_name)\n",
    "def is_street_name(elem):\n",
    "    return (elem.attrib['k'] == 'addr:street')\n",
    "\n",
    "def streetaudit():\n",
    "    for event, elem in ET.iterparse(Denver, events=('start',)):\n",
    "        if elem.tag == 'way':\n",
    "            for tag in elem.iter('tag'):\n",
    "                if is_street_name(tag):\n",
    "                    audit_street_type(street_types, tag.attrib['v'])\n",
    "    print(street_types)\n",
    "\n",
    "streetaudit()"
   ]
  },
  {
   "cell_type": "markdown",
   "metadata": {},
   "source": [
    "#### Street errors\n",
    "Street types that need correcting: Ave, Pl, Blvd, St"
   ]
  },
  {
   "cell_type": "code",
   "execution_count": 5,
   "metadata": {},
   "outputs": [],
   "source": [
    "street_mapping = { \"St\": \"Street\",\n",
    "            \"St.\": \"Street\",\n",
    "            \"Ave\": \"Avenue\",\n",
    "            \"Pl\": \"Place\",\n",
    "            \"Blvd\": \"Boulevard\",\n",
    "            \"Rd\" : \"Road\",\n",
    "            \"Rd.\": \"Road\"\n",
    "            }\n",
    "\n",
    "def update_name(name, mapping):\n",
    "    m = street_type_re.search(name)\n",
    "    if m:\n",
    "        street_type = m.group()\n",
    "        if street_type not in expected_street:\n",
    "            for key,value in mapping.items():\n",
    "                if street_type == key:\n",
    "                    name = name.replace(key,value)\n",
    "\n",
    "    return name"
   ]
  },
  {
   "cell_type": "code",
   "execution_count": 6,
   "metadata": {},
   "outputs": [
    {
     "name": "stdout",
     "output_type": "stream",
     "text": [
      "defaultdict(<class 'set'>, {'3032972700': {'3032972700'}, '+1 303 424 4445': {'+1 303 424 4445'}, '(303) 744-1069': {'(303) 744-1069'}, '(720) 424-5380': {'(720) 424-5380'}, '(303) 333-8275': {'(303) 333-8275'}, '(303) 900-2027': {'(303) 900-2027'}, '+1 303 320 5871': {'+1 303 320 5871'}, '+1 303-364-8715': {'+1 303-364-8715'}, '(720) 865-0955': {'(720) 865-0955'}, '(303) 239-4500': {'(303) 239-4500'}, '911': {'911'}, '(303) 239-4300': {'(303) 239-4300'}, '3036320805': {'3036320805'}, '(303) 455-9991': {'(303) 455-9991'}, '3037337448': {'3037337448'}, '(720) 612-7698': {'(720) 612-7698'}, '3032925767': {'3032925767'}, '3036239600': {'3036239600'}, '+1-303-979-2064': {'+1-303-979-2064'}, '3037770707': {'3037770707'}, '+1 303 534 9505': {'+1 303 534 9505'}, '(303) 297-1229': {'(303) 297-1229'}, '303 428 6500': {'303 428 6500'}, '(303) 574-1200': {'(303) 574-1200'}, '(303) 371-4114': {'(303) 371-4114'}, '(888) 592-7753': {'(888) 592-7753'}, '(720) 374-7220': {'(720) 374-7220'}, '(303) 307-1234': {'(303) 307-1234'}, '(303) 307-1119': {'(303) 307-1119'}, '(303) 373-9000': {'(303) 373-9000'}, '(303) 373-1133': {'(303) 373-1133'}, '(303) 576-6633': {'(303) 576-6633'}, '(303) 371-1555': {'(303) 371-1555'}, '(720) 974-7315': {'(720) 974-7315'}, '(303) 302-8500': {'(303) 302-8500'}, '(303) 220-1404': {'(303) 220-1404'}, '(303) 988-5885': {'(303) 988-5885'}, '(720) 488-1891': {'(720) 488-1891'}, '(303) 804-0988': {'(303) 804-0988'}, '(303) 741-3474': {'(303) 741-3474'}, '(720) 259-4441': {'(720) 259-4441'}, '(303) 290-6666': {'(303) 290-6666'}, '(303) 721-6655': {'(303) 721-6655'}, '(303) 244-5260': {'(303) 244-5260'}, '(303) 793-9080': {'(303) 793-9080'}, '3035347543': {'3035347543'}, '3036155818': {'3036155818'}, '+1-303-788-0882': {'+1-303-788-0882'}, '3037813947': {'3037813947'}, '+13037224121': {'+13037224121'}, '3032916992': {'3032916992'}, '(303) 825-1990': {'(303) 825-1990'}, '(303) 572-0667': {'(303) 572-0667'}, '3032969460': {'3032969460'}, '+1 (303) 342-4166': {'+1 (303) 342-4166'}, '+1 (303) 342-4165': {'+1 (303) 342-4165'}, '+1-303-410-5000': {'+1-303-410-5000'}, '303.777.7352': {'303.777.7352'}, '+1 (303) 989-5877': {'+1 (303) 989-5877'}, '(303) 777-0500': {'(303) 777-0500'}, '3032821446': {'3032821446'}, '+13033558197': {'+13033558197'}, '(303) 722-8686': {'(303) 722-8686'}, '3037534848': {'3037534848'}, '3037222129': {'3037222129'}, '(303) 221-4660': {'(303) 221-4660'}, '3037777708': {'3037777708'}, '(303) 292-2374': {'(303) 292-2374'}, '3033336674': {'3033336674'}, '3037774665': {'3037774665'}, '3037331110': {'3037331110'}, '3036358025': {'3036358025'}, '3038257256': {'3038257256'}, '(303) 321-1511': {'(303) 321-1511'}, '3036980582': {'3036980582'}, '(303) 320-7783': {'(303) 320-7783'}, '(303) 388-0299': {'(303) 388-0299'}, '7205700974': {'7205700974'}, '3038631559': {'3038631559'}, '3038710800': {'3038710800'}, '(303) 698-0777': {'(303) 698-0777'}, '7205705039': {'7205705039'}, '+1 303 940 2517': {'+1 303 940 2517'}, '3038316443': {'3038316443'}, '3039555580': {'3039555580'}, '3033990092': {'3033990092'}, '3033885561': {'3033885561'}, '3034034494': {'3034034494'}, '(303) 433-1990': {'(303) 433-1990'}, '(720) 887-2991': {'(720) 887-2991'}, '(303) 777-5699': {'(303) 777-5699'}, '(303) 733-5267': {'(303) 733-5267'}, '(303) 433-7001': {'(303) 433-7001'}, '(303) 292-0805': {'(303) 292-0805'}, '3035731450': {'3035731450'}, '3032711191': {'3032711191'}, '(303) 296-1970': {'(303) 296-1970'}, '(303) 292-2229': {'(303) 292-2229'}, '(303) 486-4000': {'(303) 486-4000'}, '+1 303 758 9608': {'+1 303 758 9608'}, '(303) 623-0060': {'(303) 623-0060'}, '(303) 623-7687': {'(303) 623-7687'}, '(303) 573-0234': {'(303) 573-0234'}, '(303) 298-7625': {'(303) 298-7625'}, '(720) 974-1880': {'(720) 974-1880'}, '(303) 534-0956': {'(303) 534-0956'}, '(303) 798-5981': {'(303) 798-5981'}, '(303) 274-4244': {'(303) 274-4244'}, '7209048226': {'7209048226'}, '3036235200': {'3036235200'}, '3038253232': {'3038253232'}, '(303) 797-2992': {'(303) 797-2992'}, '(303) 794-5921': {'(303) 794-5921'}, '(303) 892-8700': {'(303) 892-8700'}, '(303) 446-3000': {'(303) 446-3000'}, '(720) 904-1376': {'(720) 904-1376'}, '+1 303 296 2273': {'+1 303 296 2273'}, '3038038000': {'3038038000'}, '(303) 398-2665': {'(303) 398-2665'}, '+1-303-573-6828': {'+1-303-573-6828'}, '(303) 980-6676': {'(303) 980-6676'}, '(303) 935-8966': {'(303) 935-8966'}, '(303) 934-1552': {'(303) 934-1552'}, '(303) 222-0296': {'(303) 222-0296'}, '(720) 221-7126': {'(720) 221-7126'}, '(303) 741-4469': {'(303) 741-4469'}, '(303) 455-5483': {'(303) 455-5483'}, '+1-303-477-3556': {'+1-303-477-3556'}, '+1-303-427-4882': {'+1-303-427-4882'}, '+1-303-371-1566': {'+1-303-371-1566'}, '+1-303-286-7337': {'+1-303-286-7337'}, '303.455.7545': {'303.455.7545'}, '(303) 543-1153': {'(303) 543-1153'}, '3037770808': {'3037770808'}, '(720) 200-9339': {'(720) 200-9339'}, '+1 (303) 804-9900': {'+1 (303) 804-9900'}, '+1-720-226-9269': {'+1-720-226-9269'}, '+1 303 8614544': {'+1 303 8614544'}, '+1 720 9328787': {'+1 720 9328787'}, '(303) 750-0477': {'(303) 750-0477'}, '(303) 369-1998': {'(303) 369-1998'}, '(662) 616-0126': {'(662) 616-0126'}, '+1 (720) 277-3788': {'+1 (720) 277-3788'}, '+1 (866) 277-3788': {'+1 (866) 277-3788'}, '(303) 743-9079': {'(303) 743-9079'}, '(303) 368-5134': {'(303) 368-5134'}, '(303) 481-2291': {'(303) 481-2291'}, '(303) 337-1112': {'(303) 337-1112'}, '(303) 369-1156': {'(303) 369-1156'}, '(303) 752-7900': {'(303) 752-7900'}, '3033775313': {'3033775313'}, '(303) 477-5406': {'(303) 477-5406'}, '(303) 467-2218': {'(303) 467-2218'}, '+1 (303) 342-7275': {'+1 (303) 342-7275'}, '+1 303 420 5438': {'+1 303 420 5438'}, '+1 303 285 0075': {'+1 303 285 0075'}, '+1 303 422 7333': {'+1 303 422 7333'}, '+1-303-487-1412': {'+1-303-487-1412'}, '3037777371': {'3037777371'}, '(303) 779-6444': {'(303) 779-6444'}, '303 467 2644': {'303 467 2644'}, '303.469.7273': {'303.469.7273'}, '+1-303-238-7539': {'+1-303-238-7539'}, '+1-303-436-1704': {'+1-303-436-1704'}, '(303) 221-1672': {'(303) 221-1672'}, '(303) 694-4898': {'(303) 694-4898'}, '(303) 244-4001': {'(303) 244-4001'}, '+1 303-759-1515': {'+1 303-759-1515'}, '+1 303-757-8665': {'+1 303-757-8665'}, '(303) 369-8514': {'(303) 369-8514'}, '303.932.0600': {'303.932.0600'}, '303.467.3236': {'303.467.3236'}, '303.499.9107': {'303.499.9107'}, '(303) 469-8000': {'(303) 469-8000'}, '+1-303-202-6744': {'+1-303-202-6744'}, '+1-303-237-6200': {'+1-303-237-6200'}, '+1-303-202-2880': {'+1-303-202-2880'}, '+1-303-237-0356': {'+1-303-237-0356'}, '+1-303-238-4833': {'+1-303-238-4833'}, '+1-303-232-3295': {'+1-303-232-3295'}, '+1-303-233-1889': {'+1-303-233-1889'}, '+1-303-232-2569': {'+1-303-232-2569'}, '+1-303-274-4401': {'+1-303-274-4401'}, '+1-303-239-6289': {'+1-303-239-6289'}, '+1-303-233-4280': {'+1-303-233-4280'}, '+1-303-233-1900': {'+1-303-233-1900'}, '+1-303-232-1321': {'+1-303-232-1321'}, '+1-303-233-1210': {'+1-303-233-1210'}, '+1-303-233-1227': {'+1-303-233-1227'}, '(303) 364-3107': {'(303) 364-3107'}, '(303) 364-2200': {'(303) 364-2200'}, '303.657.3424': {'303.657.3424'}, '7206275104': {'7206275104'}, '+1 888-312-1616': {'+1 888-312-1616'}, '(303) 759-3400': {'(303) 759-3400'}, '(720) 789-8926': {'(720) 789-8926'}, '(303) 232-2700': {'(303) 232-2700'}, '(303) 237-7373': {'(303) 237-7373'}, '(303) 232-1100': {'(303) 232-1100'}, '(303) 369-3450': {'(303) 369-3450'}, '(303) 202-0669': {'(303) 202-0669'}, '+1-303-955-5228': {'+1-303-955-5228'}, '+1 303-227-4930': {'+1 303-227-4930'}, '+1 303 655 8184': {'+1 303 655 8184'}, '+1 303 286 1475': {'+1 303 286 1475'}, '+1 303 288 1535': {'+1 303 288 1535'}, '(303) 376-4732': {'(303) 376-4732'}, '+1-303-466-8330': {'+1-303-466-8330'}, '+1 303 288 3500': {'+1 303 288 3500'}, '+1 303 578 6363': {'+1 303 578 6363'}, '+1 303 993 3120': {'+1 303 993 3120'}, '7208652356': {'7208652356'}, '(720) 420-7939': {'(720) 420-7939'}, '+1 303 288 8975': {'+1 303 288 8975'}, '+1 303 288 4052': {'+1 303 288 4052'}, '(303) 756-3044': {'(303) 756-3044'}, '(303) 758-3675': {'(303) 758-3675'}, '+1 720 324 5000': {'+1 720 324 5000'}, '(303) 691-1515': {'(303) 691-1515'}, '(303) 758-9924': {'(303) 758-9924'}, '(303) 300-1529': {'(303) 300-1529'}, '+1 303 753 6722': {'+1 303 753 6722'}, '+1 303 504 0289': {'+1 303 504 0289'}, '(303) 298-1939': {'(303) 298-1939'}, '(303) 744-3457': {'(303) 744-3457'}, '(303) 778-8923': {'(303) 778-8923'}, '+1 303 233-1511': {'+1 303 233-1511'}, '+1 303 462-0401': {'+1 303 462-0401'}, '+1 303 286 0027': {'+1 303 286 0027'}, '+1 303 289 7333': {'+1 303 289 7333'}, '+1 303 928 7838': {'+1 303 928 7838'}, '+1-303-573-8378': {'+1-303-573-8378'}, '+1 303 294-5207': {'+1 303 294-5207'}, '(303)237-1235': {'(303)237-1235'}, '(303) 464-7477': {'(303) 464-7477'}, '(303)452-0202': {'(303)452-0202'}, '3032800100': {'3032800100'}, '+1 303 597 3666': {'+1 303 597 3666'}, '(303) 399-6262': {'(303) 399-6262'}, '(303) 745-2679': {'(303) 745-2679'}, '(303) 369-3333': {'(303) 369-3333'}, '(303) 368-8954': {'(303) 368-8954'}, '(303) 755-5658': {'(303) 755-5658'}, '(303) 564-9741': {'(303) 564-9741'}, '(303) 353-9684': {'(303) 353-9684'}, '(303) 752-6606': {'(303) 752-6606'}, '(303) 671-6707': {'(303) 671-6707'}, '+1 720 644-6677': {'+1 720 644-6677'}, '(720) 220-9800': {'(720) 220-9800'}, '(303) 752-1900': {'(303) 752-1900'}, '(720) 748-1260': {'(720) 748-1260'}, '(303) 755-1995': {'(303) 755-1995'}, '(303) 537-7973': {'(303) 537-7973'}, '(303) 671-7100': {'(303) 671-7100'}, '(303) 750-1200': {'(303) 750-1200'}, '(303) 481-2279': {'(303) 481-2279'}, '(303) 843-6080': {'(303) 843-6080'}, '(303) 337-2733': {'(303) 337-2733'}, '(303) 750-0138': {'(303) 750-0138'}, '(303) 322-8384': {'(303) 322-8384'}, '(303) 320-7814': {'(303) 320-7814'}, '(720) 424-8380': {'(720) 424-8380'}, '(303) 713-0224': {'(303) 713-0224'}, '(303) 220-1411': {'(303) 220-1411'}, '(303) 221-4900': {'(303) 221-4900'}, '(303) 758-7575': {'(303) 758-7575'}, '(303) 740-9556': {'(303) 740-9556'}, '(303) 773-3441': {'(303) 773-3441'}, '(303) 779-1743': {'(303) 779-1743'}, '(303) 221-3176': {'(303) 221-3176'}, '(303) 694-0959': {'(303) 694-0959'}, '(303) 694-0601': {'(303) 694-0601'}, '(303) 220-5310': {'(303) 220-5310'}, '(303) 779-1811': {'(303) 779-1811'}, '(303) 689-9444': {'(303) 689-9444'}, '(303) 741-8980': {'(303) 741-8980'}, '(720) 974-0295': {'(720) 974-0295'}, '(303) 329-9552': {'(303) 329-9552'}, '(303) 333-4347': {'(303) 333-4347'}, '(720) 275-0623': {'(720) 275-0623'}, '(303)320-9640': {'(303)320-9640'}, '(303) 322-4200': {'(303) 322-4200'}, '(720) 454-5083': {'(720) 454-5083'}, '(303) 399-3969': {'(303) 399-3969'}, '(303) 394-4053': {'(303) 394-4053'}, '(303) 759-1668': {'(303) 759-1668'}, '+1-720-374-0278': {'+1-720-374-0278'}, '(720) 424-9531': {'(720) 424-9531'}, '303.366.0513': {'303.366.0513'}, '303 623 0316': {'303 623 0316'}, '(303) 322-1867': {'(303) 322-1867'}, '(855) 433-7133': {'(855) 433-7133'}, '+1-303-368-1115': {'+1-303-368-1115'}, '+1 303 974 6261': {'+1 303 974 6261'}, '303.477.3312': {'303.477.3312'}, '(303) 337-6010': {'(303) 337-6010'}, '(303) 542-7279': {'(303) 542-7279'}, '+1 800-935-9935': {'+1 800-935-9935'}, '(720) 870-6228': {'(720) 870-6228'}, '3035473270': {'3035473270'}, '+1 303 724 6638': {'+1 303 724 6638'}, '+1 303 7242665': {'+1 303 7242665'}, '720 253 0092': {'720 253 0092'}, '(303) 340-3064': {'(303) 340-3064'}, '303-373-1444 x302': {'303-373-1444 x302'}, '(303) 333-3800': {'(303) 333-3800'}, '(303) 722-9880': {'(303) 722-9880'}, '+1 (303) 465-9964': {'+1 (303) 465-9964'}, '+1 (303) 466-9268': {'+1 (303) 466-9268'}, '+1-303-477-6328': {'+1-303-477-6328'}, '+1 303-953-8720': {'+1 303-953-8720'}, '+1-720-328-3594': {'+1-720-328-3594'}, '+1 303 477 9463': {'+1 303 477 9463'}, '+1 720 421 1100': {'+1 720 421 1100'}, '+1-303-862-6908': {'+1-303-862-6908'}, '303 477 2899': {'303 477 2899'}, '+1 303 455 1880': {'+1 303 455 1880'}, '+1 303 455 4389': {'+1 303 455 4389'}, '(303) 295-7837': {'(303) 295-7837'}, '(720) 389-9544': {'(720) 389-9544'}, '(877) 654-4459': {'(877) 654-4459'}, '(303) 365-4080': {'(303) 365-4080'}, '(720) 283-2346': {'(720) 283-2346'}, '(303) 690-6293': {'(303) 690-6293'}, '(970) 640-8352': {'(970) 640-8352'}, '(303) 741-3770': {'(303) 741-3770'}, '(720) 943-0940': {'(720) 943-0940'}, '3036230589': {'3036230589'}, '8776370450': {'8776370450'}, '303 248 7208': {'303 248 7208'}, '303 279 8020': {'303 279 8020'}, '+1 720 777 1370': {'+1 720 777 1370'}, '(303) 368-8682': {'(303) 368-8682'}, '(303) 671-2598': {'(303) 671-2598'}, '(303) 752-1050': {'(303) 752-1050'}, '(303) 524-3466': {'(303) 524-3466'}, '+1 303 602 6333': {'+1 303 602 6333'}, '(303) 292-3500': {'(303) 292-3500'}, '+1-303-736-6999': {'+1-303-736-6999'}, '+1 303 318 3434': {'+1 303 318 3434'}, '+1 303-404-3434': {'+1 303-404-3434'}, '+1 303 758 9735': {'+1 303 758 9735'}, '+1 303 757 3367': {'+1 303 757 3367'}, '(720) 390-5046': {'(720) 390-5046'}, '+1 303 602 8100': {'+1 303 602 8100'}, '+1 303 436 6000': {'+1 303 436 6000'}, '+1-303-205-0754': {'+1-303-205-0754'}, '+1-303-277-0550': {'+1-303-277-0550'}, '+1-877-317-1749': {'+1-877-317-1749'}, '(720) 295-7279': {'(720) 295-7279'}, '303.731.3117': {'303.731.3117'}, '(303) 232-2005': {'(303) 232-2005'}, '+1 720-466-1211': {'+1 720-466-1211'}, '+1 800-44-STORE': {'+1 800-44-STORE'}, '+1 800-324-8464': {'+1 800-324-8464'}, '+1 303-745-7373': {'+1 303-745-7373'}, '+1 800-444-9476': {'+1 800-444-9476'}, '+1 800-627-3999': {'+1 800-627-3999'}, '(303) 779-0097': {'(303) 779-0097'}, '+1 303 436 4200': {'+1 303 436 4200'}, '303-300-5249 x3': {'303-300-5249 x3'}, '+1 303 825 8822': {'+1 303 825 8822'}, '+1 720-213-6904': {'+1 720-213-6904'}, '+1 800-688-8057': {'+1 800-688-8057'}, '+1 303 476 6292': {'+1 303 476 6292'}, '303 463-8081': {'303 463-8081'}, '+1 720 550 6136': {'+1 720 550 6136'}, '+1 303 770 8870': {'+1 303 770 8870'}, '+1 720 981 2512': {'+1 720 981 2512'}, '+1-888-420-2941': {'+1-888-420-2941'}, '+1-303-222-4455': {'+1-303-222-4455'}, '+1 303 412 1128': {'+1 303 412 1128'}, '(303) 233-6666': {'(303) 233-6666'}, '(303) 548-2436': {'(303) 548-2436'}, '(303) 232-4558': {'(303) 232-4558'}, '+1 303 333 5588': {'+1 303 333 5588'}, '+1 303 985 8761': {'+1 303 985 8761'}, '+1 303 279 5077': {'+1 303 279 5077'}, '+1 303 421 1656': {'+1 303 421 1656'}, '+1 303 422 8463': {'+1 303 422 8463'}, '+1 303 893 4355': {'+1 303 893 4355'}, '+1 303 278 1981': {'+1 303 278 1981'}, '+1 720 876 2100': {'+1 720 876 2100'}, '+1 303 933 9515': {'+1 303 933 9515'}, '+1 303 254 4036': {'+1 303 254 4036'}, '+1 720 287 5340': {'+1 720 287 5340'}, '+1 303 650 5892': {'+1 303 650 5892'}, '+1 303 428 5118': {'+1 303 428 5118'}, '+1 303 430 8545': {'+1 303 430 8545'}, '+1 303 429 8888': {'+1 303 429 8888'}, '+1-303-218-6237': {'+1-303-218-6237'}, '+1 303 639 9717': {'+1 303 639 9717'}, '(303) 699-6200': {'(303) 699-6200'}, '(303) 340-3330': {'(303) 340-3330'}, '+1-303-762-8096': {'+1-303-762-8096'}, '+1-303-761-4002': {'+1-303-761-4002'}, '+1-303-761-9231': {'+1-303-761-9231'}, '(303) 248-7224': {'(303) 248-7224'}, '+1 303 892 8850': {'+1 303 892 8850'}, '+1 303 466 0025': {'+1 303 466 0025'}, '+1 303 832 3154': {'+1 303 832 3154'}, '+1 303 744 1052': {'+1 303 744 1052'}, '+1 303 237 1002': {'+1 303 237 1002'}, '303) 433-0080': {'303) 433-0080'}, '+1 (303) 427-1166': {'+1 (303) 427-1166'}, '+1 (303) 452-2717': {'+1 (303) 452-2717'}, '+1 (303) 450-7953': {'+1 (303) 450-7953'}, '+1 (303) 255-3000': {'+1 (303) 255-3000'}, '+1 303 573 9424': {'+1 303 573 9424'}, '303 927-6247': {'303 927-6247'}, '303 572 8000': {'303 572 8000'}, '+1 303 843 7222': {'+1 303 843 7222'}, '(303) 388-1805': {'(303) 388-1805'}, '(303) 578-1160': {'(303) 578-1160'}, '+1 303 365 1234': {'+1 303 365 1234'}, '(303) 388-4261': {'(303) 388-4261'}, '+1 303-567-4258': {'+1 303-567-4258'}, '+1 303 757 3333': {'+1 303 757 3333'}, '+1 303 386 3185': {'+1 303 386 3185'}, '(720) 639-4937': {'(720) 639-4937'}, '(303) 333-4003': {'(303) 333-4003'}, '3032023040': {'3032023040'}, '+1 303 3412500': {'+1 303 3412500'}, '+1-303-451-8085': {'+1-303-451-8085'}, '3034260277': {'3034260277'}, '3033441615': {'3033441615'}, '7204795266': {'7204795266'}, '13034294000': {'13034294000'}, '+1-303-482-2207': {'+1-303-482-2207'}, '3035750044': {'3035750044'}, '3038614710': {'3038614710'}, '+1 303 388 2337': {'+1 303 388 2337'}, '+1 303 2924525': {'+1 303 2924525'}, '888-7433-972': {'888-7433-972'}, '+1-303-200-1043': {'+1-303-200-1043'}, '(303) 839-5669': {'(303) 839-5669'}, '+1 303 8930940': {'+1 303 8930940'}, '(720) 583-6733': {'(720) 583-6733'}, '(303) 757-7905': {'(303) 757-7905'}, '+1 877 9762566': {'+1 877 9762566'}, '(720) 668-9915': {'(720) 668-9915'}, '306 469 1970': {'306 469 1970'}, '(303) 439-0028': {'(303) 439-0028'}, '(720) 638-1153': {'(720) 638-1153'}, '+1 303 474 4131': {'+1 303 474 4131'}, '+1 303 433 3422': {'+1 303 433 3422'}, '+1 303 751-2441': {'+1 303 751-2441'}, '+1 303-233-4010': {'+1 303-233-4010'}, '(303) 757-2000': {'(303) 757-2000'}, '+1 303 757 2183': {'+1 303 757 2183'}, '+1 303 639 8550': {'+1 303 639 8550'}, '+1 303 759 3252': {'+1 303 759 3252'}, '+1 303 323 4578': {'+1 303 323 4578'}, '+1 303 7442121': {'+1 303 7442121'}, '+1-303-792-5000': {'+1-303-792-5000'}, '(720) 213-7080': {'(720) 213-7080'}, '(303) 779-0093': {'(303) 779-0093'}, '(720) 469-7810': {'(720) 469-7810'}, '+1 303 954 0962': {'+1 303 954 0962'}, '+1 303 295 7700': {'+1 303 295 7700'}, '+1-303-690-0082': {'+1-303-690-0082'}, '+1-303-572-7769': {'+1-303-572-7769'}, '+1-720-457-7057': {'+1-720-457-7057'}, '+1-303-781-1870': {'+1-303-781-1870'}, '+1-303-617-8400': {'+1-303-617-8400'}, '+1-855-841-7551': {'+1-855-841-7551'}, '+1-303-777-1853': {'+1-303-777-1853'}, '+1-720-542-9921': {'+1-720-542-9921'}, '+1-303-480-1306': {'+1-303-480-1306'}, '(720) 493-1996': {'(720) 493-1996'}, '+1-303-981-6763': {'+1-303-981-6763'}, '+1 303 974-5813': {'+1 303 974-5813'}, '1-800-413-0363': {'1-800-413-0363'}, '+1-303-295-0293': {'+1-303-295-0293'}, '+1-303-375-8920': {'+1-303-375-8920'}, '(720) 389-8068': {'(720) 389-8068'}, '3037611559': {'3037611559'}, '3034597878': {'3034597878'}, '+1-702-458-1497': {'+1-702-458-1497'}, '1-720-381-6126': {'1-720-381-6126'}, '+1-303-871-9434': {'+1-303-871-9434'}, '(303) 778-7579': {'(303) 778-7579'}, '(303) 236-3333': {'(303) 236-3333'}, '(303) 233-6648': {'(303) 233-6648'}, '(303) 233-1585': {'(303) 233-1585'}, '(303) 832-4816': {'(303) 832-4816'}, '(303) 238-1579': {'(303) 238-1579'}, '(303) 996-4635': {'(303) 996-4635'}, '(303) 238-0303': {'(303) 238-0303'}, '(303) 238-8651': {'(303) 238-8651'}, '(303) 232-2190': {'(303) 232-2190'}, '(303) 238-7999': {'(303) 238-7999'}, '+1 (303) 275-0840': {'+1 (303) 275-0840'}, '(303) 237-2014': {'(303) 237-2014'}, '+1-303-342-6862': {'+1-303-342-6862'}, '(303) 952-0168': {'(303) 952-0168'}, '(303) 236-1700': {'(303) 236-1700'}, '(303) 236-9400': {'(303) 236-9400'}, '+1-303-604-5000': {'+1-303-604-5000'}, '+1-303-469-3435': {'+1-303-469-3435'}, '(303) 236-6911': {'(303) 236-6911'}, '+1 303-214-6393': {'+1 303-214-6393'}, '+1-303-344-0600': {'+1-303-344-0600'}, '+1-303-239-1416': {'+1-303-239-1416'}, '(303) 355-0160': {'(303) 355-0160'}, '+1-800-440-1904': {'+1-800-440-1904'}, '+1 303-915-5057': {'+1 303-915-5057'}, '(720) 515-5411': {'(720) 515-5411'}, '(303) 333-7960': {'(303) 333-7960'}, '303 333 1149': {'303 333 1149'}, '303 377 9922': {'303 377 9922'}, '720 371 7161': {'720 371 7161'}, '303 322 8000': {'303 322 8000'}, '(720) 241-0355': {'(720) 241-0355'}, '(303) 355-0080': {'(303) 355-0080'}, '(303) 333-2611': {'(303) 333-2611'}, '(303) 355-0066': {'(303) 355-0066'}, '(303) 479-3441': {'(303) 479-3441'}, '(303) 320-6810': {'(303) 320-6810'}, '(303) 322-9545': {'(303) 322-9545'}, '(303) 893-0805': {'(303) 893-0805'}, '(303) 333-9154': {'(303) 333-9154'}, '(303) 329-8150': {'(303) 329-8150'}, '(303) 377-0755': {'(303) 377-0755'}, '(303) 393-7777': {'(303) 393-7777'}, '(720) 465-9883': {'(720) 465-9883'}, '(720) 508-4485': {'(720) 508-4485'}, '+1-303-502-9565': {'+1-303-502-9565'}, '(303) 360-9933': {'(303) 360-9933'}, '+1-720-261-0847': {'+1-720-261-0847'}, '+1-303-542-7177': {'+1-303-542-7177'}, '+1 (303) 426-0117': {'+1 (303) 426-0117'}, '+1 (303) 280-9337': {'+1 (303) 280-9337'}, '+1 (303) 280-7232': {'+1 (303) 280-7232'}, '+1 (303) 758-6200': {'+1 (303) 758-6200'}, '+1 (303) 754-9800': {'+1 (303) 754-9800'}, '+1 (303) 758-9061': {'+1 (303) 758-9061'}, '+1 (720) 389-7660': {'+1 (720) 389-7660'}, '+1 (303) 757-0506': {'+1 (303) 757-0506'}, '+1 (303) 756-6449': {'+1 (303) 756-6449'}, '+1 (303) 656-4800': {'+1 (303) 656-4800'}, '+1 (303) 757-0878': {'+1 (303) 757-0878'}, '+1 (303) 758-3440': {'+1 (303) 758-3440'}, '+1 (303) 757-5900': {'+1 (303) 757-5900'}, '+1 (303) 756-1464': {'+1 (303) 756-1464'}, '+1 (303) 758-1167': {'+1 (303) 758-1167'}, '+1 (303) 758-1559': {'+1 (303) 758-1559'}, '+1 (303) 756-3145': {'+1 (303) 756-3145'}, '+1-303-885-9551': {'+1-303-885-9551'}, '(303) 751-2222': {'(303) 751-2222'}, '+1 (720) 707-6280': {'+1 (720) 707-6280'}, '(720) 597-6361': {'(720) 597-6361'}, '(303) 755-2211': {'(303) 755-2211'}, '+1 800 622 8731': {'+1 800 622 8731'}, '(720) 638-9245': {'(720) 638-9245'}, '(800) 622-8731': {'(800) 622-8731'}, '+1-213-700-2664': {'+1-213-700-2664'}, '(303) 426-4122': {'(303) 426-4122'}, '(303) 321-3139': {'(303) 321-3139'}, '(720) 644-9977': {'(720) 644-9977'}, '(720) 588-2500': {'(720) 588-2500'}, '(303) 377-7900': {'(303) 377-7900'}, '(720) 484-5927': {'(720) 484-5927'}, '(720) 990-6743': {'(720) 990-6743'}, '(303) 797-3048': {'(303) 797-3048'}, '(303) 775-5626': {'(303) 775-5626'}, '(303) 484-1632': {'(303) 484-1632'}, '(303) 484-1573': {'(303) 484-1573'}, '(720) 722-0566': {'(720) 722-0566'}, '(720) 440-9880': {'(720) 440-9880'}, '(303) 524-9637': {'(303) 524-9637'}, '(720) 515-7752': {'(720) 515-7752'}, '(303) 394-1991': {'(303) 394-1991'}, '(720) 279-3008': {'(720) 279-3008'}, '(303) 756-9164': {'(303) 756-9164'}, '(303) 722-8888': {'(303) 722-8888'}, '(303) 733-2895': {'(303) 733-2895'}, '(303) 691-6883': {'(303) 691-6883'}, '(303) 756-2522': {'(303) 756-2522'}, '(303) 759-1870': {'(303) 759-1870'}, '(303) 759-0980': {'(303) 759-0980'}, '(303) 756-9916': {'(303) 756-9916'}, '(303) 782-0800': {'(303) 782-0800'}, '(303) 759-0250': {'(303) 759-0250'}, '(303) 757-5723': {'(303) 757-5723'}, '+1-303-375-1733': {'+1-303-375-1733'}, '+1-303-495-1115': {'+1-303-495-1115'}, '(303) 299-6000': {'(303) 299-6000'}, '(303) 299-6700': {'(303) 299-6700'}, '(303) 937-9148': {'(303) 937-9148'}, '(303) 625-3190': {'(303) 625-3190'}, '+1 (303) 238-0471': {'+1 (303) 238-0471'}, '+1 (800) 584-4157': {'+1 (800) 584-4157'}, '(303) 232-8772': {'(303) 232-8772'}, '(720) 402-3888': {'(720) 402-3888'}, '(303) 758-9113': {'(303) 758-9113'}, '+1-303-670-0137': {'+1-303-670-0137'}, '(720) 200-4555': {'(720) 200-4555'}, '(303) 755-6800': {'(303) 755-6800'}, '(720) 394-1599': {'(720) 394-1599'}, '+1-303-993-2935': {'+1-303-993-2935'}, '+1-720-988-5659': {'+1-720-988-5659'}, '+1 (720) 466-1221': {'+1 (720) 466-1221'}, '+1 (800) 688-8057': {'+1 (800) 688-8057'}, '(303) 586-5540': {'(303) 586-5540'}, '(303) 804-0700': {'(303) 804-0700'}, '+1-720-688-5110': {'+1-720-688-5110'}, '(303) 733-1212': {'(303) 733-1212'}, '3032799609': {'3032799609'}, '(303) 329-0222': {'(303) 329-0222'}, '(303) 399-5353': {'(303) 399-5353'}, '+1-720-222-0550': {'+1-720-222-0550'}, '(720) 887-5970': {'(720) 887-5970'}, '(303) 694-2585': {'(303) 694-2585'}, '(303) 713-1083': {'(303) 713-1083'}, '(303) 713-9568': {'(303) 713-9568'}, '(720) 200-0700': {'(720) 200-0700'}, '(303) 770-5951': {'(303) 770-5951'}, '(720) 541-7742': {'(720) 541-7742'}, '(303) 221-1182': {'(303) 221-1182'}, '(303) 779-0805': {'(303) 779-0805'}, '(720) 838-3114': {'(720) 838-3114'}, '(303) 220-1177': {'(303) 220-1177'}, '(303) 396-0508': {'(303) 396-0508'}, '(303) 320-5155': {'(303) 320-5155'}, '(303) 336-0909': {'(303) 336-0909'}, '(303) 394-3333': {'(303) 394-3333'}, '(303) 847-4123': {'(303) 847-4123'}, '(720) 974-1300': {'(720) 974-1300'}, '(303) 331-1938': {'(303) 331-1938'}, '(303) 695-6060': {'(303) 695-6060'}, '(303) 740-9100': {'(303) 740-9100'}, '(303) 796-0611': {'(303) 796-0611'}, '(303) 220-7200': {'(303) 220-7200'}, '(303) 773-2390': {'(303) 773-2390'}, '(303) 771-7277': {'(303) 771-7277'}, '(303) 489-4013': {'(303) 489-4013'}, '(303) 796-7003': {'(303) 796-7003'}, '(303) 771-0250': {'(303) 771-0250'}, '(303) 502-9366': {'(303) 502-9366'}, '(303) 221-2539': {'(303) 221-2539'}, '(303) 770-5788': {'(303) 770-5788'}, '(303) 850-0605': {'(303) 850-0605'}, '(303) 220-9790': {'(303) 220-9790'}, '(303) 770-0765': {'(303) 770-0765'}, '(720) 837-1332': {'(720) 837-1332'}, '(720) 787-3924': {'(720) 787-3924'}, '(303) 755-5511': {'(303) 755-5511'}, '(720) 529-8155': {'(720) 529-8155'}, '(303) 773-3315': {'(303) 773-3315'}, '(720) 329-7821': {'(720) 329-7821'}, '+1 800-669-3900': {'+1 800-669-3900'}, '+1 303-488-7020': {'+1 303-488-7020'}, '(303) 221-8880': {'(303) 221-8880'}, '(303) 224-9933': {'(303) 224-9933'}, '(720) 482-4013': {'(720) 482-4013'}, '(303) 770-7512': {'(303) 770-7512'}, '(303) 850-5754': {'(303) 850-5754'}, '(720) 630-5551': {'(720) 630-5551'}, '(720) 501-4995': {'(720) 501-4995'}, '(303) 770-1000': {'(303) 770-1000'}, '(303) 740-9140': {'(303) 740-9140'}, '(303) 221-9013': {'(303) 221-9013'}, '(303) 770-1200': {'(303) 770-1200'}, '(303) 220-5100': {'(303) 220-5100'}, '(303) 771-5400': {'(303) 771-5400'}, '(720) 295-4674': {'(720) 295-4674'}, '(303) 504-0101': {'(303) 504-0101'}, '(303) 300-3332': {'(303) 300-3332'}, '(303) 277-0962': {'(303) 277-0962'}, '(303) 756-5500': {'(303) 756-5500'}, '(303) 753-1600': {'(303) 753-1600'}, '(303) 691-0123': {'(303) 691-0123'}, '(303) 800-0011': {'(303) 800-0011'}, '(720) 449-1067': {'(720) 449-1067'}, '(303) 290-6246': {'(303) 290-6246'}, '(720) 489-0275': {'(720) 489-0275'}, '(303) 721-8881': {'(303) 721-8881'}, '(303) 741-1537': {'(303) 741-1537'}, '(303) 796-9383': {'(303) 796-9383'}, '(303) 741-4100': {'(303) 741-4100'}, '(303) 770-3229': {'(303) 770-3229'}, '(303) 770-7666': {'(303) 770-7666'}, '(303) 220-5787': {'(303) 220-5787'}, '(303) 850-9151': {'(303) 850-9151'}, '(720) 409-2333': {'(720) 409-2333'}, '(303) 740-8000': {'(303) 740-8000'}, '(303) 290-8843': {'(303) 290-8843'}, '(303) 796-7000': {'(303) 796-7000'}, '(303) 770-1379': {'(303) 770-1379'}, '(303) 689-2222': {'(303) 689-2222'}, '(720) 488-8888': {'(720) 488-8888'}, '(303) 773-9424': {'(303) 773-9424'}, '(844) 895-9424': {'(844) 895-9424'}, '(303) 993-4580': {'(303) 993-4580'}, '(303) 221-7000': {'(303) 221-7000'}, '(303) 284-4531': {'(303) 284-4531'}, '(303) 773-2655': {'(303) 773-2655'}, '(303) 759-5505': {'(303) 759-5505'}, '(303) 694-0692': {'(303) 694-0692'}, '(303) 835-7029': {'(303) 835-7029'}, '(303) 770-6772': {'(303) 770-6772'}, '(303) 770-3100': {'(303) 770-3100'}, '(303) 840-5787': {'(303) 840-5787'}, '(303) 221-4040': {'(303) 221-4040'}, '(800) 266-7277': {'(800) 266-7277'}, '(303) 862-9941': {'(303) 862-9941'}, '(303) 220-0577': {'(303) 220-0577'}, '(303) 220-0578': {'(303) 220-0578'}, '+1-303-234-1112': {'+1-303-234-1112'}, '(303) 713-0090': {'(303) 713-0090'}, '(303) 993-3665': {'(303) 993-3665'}, '(720) 974-5252': {'(720) 974-5252'}, '(303) 488-0822': {'(303) 488-0822'}, '(303) 770-1209': {'(303) 770-1209'}, '(303) 790-9349': {'(303) 790-9349'}, '(720) 489-0487': {'(720) 489-0487'}, '+1-866-4-TOASTED': {'+1-866-4-TOASTED'}, '+1 (303) 694-0012': {'+1 (303) 694-0012'}, '+1 (800) 475-3422': {'+1 (800) 475-3422'}, '+1 (303) 792-0101': {'+1 (303) 792-0101'}, '+1 (800) 979-3267': {'+1 (800) 979-3267'}, '(303) 771-6304': {'(303) 771-6304'}, '(888) 300-6786': {'(888) 300-6786'}, '(720) 344-7400': {'(720) 344-7400'}, '(303) 570-2222': {'(303) 570-2222'}, '(303) 750-0922': {'(303) 750-0922'}, '(303) 755-7785': {'(303) 755-7785'}, '+1-720-524-3215': {'+1-720-524-3215'}, '(303) 317-8956': {'(303) 317-8956'}, '(303) 306-6000': {'(303) 306-6000'}, '(720) 422-4403': {'(720) 422-4403'}, '(720) 936-2568': {'(720) 936-2568'}, '(303) 758-1078': {'(303) 758-1078'}, '(303) 752-1782': {'(303) 752-1782'}, '(303) 306-6100': {'(303) 306-6100'}, '(303) 755-7568': {'(303) 755-7568'}, '(303) 369-2823': {'(303) 369-2823'}, '(720) 300-1005': {'(720) 300-1005'}, '(303) 337-7409': {'(303) 337-7409'}, '(720) 296-1017': {'(720) 296-1017'}, '(720) 252-6236': {'(720) 252-6236'}, '(303) 369-8485': {'(303) 369-8485'}, '(720) 646-7784': {'(720) 646-7784'}, '(303) 757-7157': {'(303) 757-7157'}, '+1-303-537-9808': {'+1-303-537-9808'}, '+1-303-222-7043': {'+1-303-222-7043'}, '+1-720-624-0346': {'+1-720-624-0346'}, '+1-303-248-4048': {'+1-303-248-4048'}, '+1-303-971-0321': {'+1-303-971-0321'}, '(720) 489-3013': {'(720) 489-3013'}, '+1-720-598-0506': {'+1-720-598-0506'}, '(303) 347-8767': {'(303) 347-8767'}, '(303) 730-1280': {'(303) 730-1280'}, '(303) 333-1553': {'(303) 333-1553'}, '(303) 730-4801': {'(303) 730-4801'}, '(303) 797-0446': {'(303) 797-0446'}, '(303) 730-7166': {'(303) 730-7166'}, '(303) 798-4145': {'(303) 798-4145'}, '+1-303-733-1299': {'+1-303-733-1299'}, '(303) 770-6280': {'(303) 770-6280'}, '(303) 955-7592': {'(303) 955-7592'}, '(303) 481-7557': {'(303) 481-7557'}, '(720) 530-3254': {'(720) 530-3254'}, '(303) 759-8502': {'(303) 759-8502'}, '+1 800 458 5872': {'+1 800 458 5872'}, '(303) 214-5499': {'(303) 214-5499'}, '(303) 694-6464': {'(303) 694-6464'}, '(303) 694-1000': {'(303) 694-1000'}, '(303) 993-2529': {'(303) 993-2529'}, '+1-720-261-4458': {'+1-720-261-4458'}, '(303) 758-5858': {'(303) 758-5858'}, '(303) 951-4234': {'(303) 951-4234'}, '(303) 770-0477': {'(303) 770-0477'}, '(303) 694-6245': {'(303) 694-6245'}, '+1 303 779 1234': {'+1 303 779 1234'}, '+1-720-501-4664': {'+1-720-501-4664'}, '(303) 953-6723': {'(303) 953-6723'}, '(720) 214-0550': {'(720) 214-0550'}, '(303) 741-3689': {'(303) 741-3689'}, '(303) 331-6430': {'(303) 331-6430'}, '(303) 357-3854': {'(303) 357-3854'}, '(303) 730-0400': {'(303) 730-0400'}, '(720) 328-7195': {'(720) 328-7195'}, '+1-303-733-3667': {'+1-303-733-3667'}, '(303) 986-2274': {'(303) 986-2274'}, '3039745400': {'3039745400'}, '(303) 973-3435': {'(303) 973-3435'}, '(720) 630-7864': {'(720) 630-7864'}, '(303) 627-5730': {'(303) 627-5730'}, '+1-303-974-4916': {'+1-303-974-4916'}, '7203742100': {'7203742100'}, '3036327576': {'3036327576'}, '(888) 227-4268': {'(888) 227-4268'}, '+1-303-831-9636': {'+1-303-831-9636'}, '+1 303 696 9226': {'+1 303 696 9226'}, '+1 877 552 7332': {'+1 877 552 7332'}, '+1 303 288 2600': {'+1 303 288 2600'}, '+1 303 288 3294': {'+1 303 288 3294'}, '(303) 416-8400': {'(303) 416-8400'}, '+1-303-397-7830': {'+1-303-397-7830'}, '+1-720-381-0813': {'+1-720-381-0813'}, '+1-303-871-8828': {'+1-303-871-8828'}, '+1-303-320-6363': {'+1-303-320-6363'}, '+1-303-984-0851': {'+1-303-984-0851'}, '+1-303-953-4447': {'+1-303-953-4447'}, '+1-303-885-4514': {'+1-303-885-4514'}, '(303) 307-4395': {'(303) 307-4395'}, '(303) 307-1688': {'(303) 307-1688'}, '(303) 856-5533': {'(303) 856-5533'}, '(303) 337-7163': {'(303) 337-7163'}, '(866) 916-4648': {'(866) 916-4648'}, '(303) 337-0776': {'(303) 337-0776'}, '(303) 750-0660': {'(303) 750-0660'}, '(303) 720-7259': {'(303) 720-7259'}, '(303) 756-3560': {'(303) 756-3560'}, '(303) 744-1961': {'(303) 744-1961'}, '(720) 897-7160': {'(720) 897-7160'}, '(303) 778-8922': {'(303) 778-8922'}, '(214) 532-3761': {'(214) 532-3761'}, '(303) 722-2226': {'(303) 722-2226'}, '(720) 250-8626': {'(720) 250-8626'}, '(303) 777-2770': {'(303) 777-2770'}, '(720) 379-3816': {'(720) 379-3816'}, '(720) 216-0573': {'(720) 216-0573'}, '(720) 475-1302': {'(720) 475-1302'}, '+1-303-377-8483': {'+1-303-377-8483'}, '(303) 812-2000': {'(303) 812-2000'}, '(303) 825-3818': {'(303) 825-3818'}, '(303) 366-1353': {'(303) 366-1353'}, '(800) 275-8777': {'(800) 275-8777'}, '(303) 344-1897': {'(303) 344-1897'}, '+1 303-466-4209': {'+1 303-466-4209'}, '303364544': {'303364544'}, '3033078888': {'3033078888'}, '(303) 368-1520': {'(303) 368-1520'}, '(844) 847-9517': {'(844) 847-9517'}, '(303) 337-3400': {'(303) 337-3400'}, '(844) 453-5058': {'(844) 453-5058'}, '(303) 731-1115': {'(303) 731-1115'}, '(844) 792-5355': {'(844) 792-5355'}, '(720) 213-0012': {'(720) 213-0012'}, '(303) 745-0291': {'(303) 745-0291'}, '(303) 750-2102': {'(303) 750-2102'}, '(303) 755-6205': {'(303) 755-6205'}, '+1-303-813-1000': {'+1-303-813-1000'}, '(702) 324-2858': {'(702) 324-2858'}, '(303) 525-0200': {'(303) 525-0200'}, '(303) 246-1589': {'(303) 246-1589'}})\n"
     ]
    }
   ],
   "source": [
    "phone_re = re.compile(r'^([0-9]{3}-)[0-9]{3}-[0-9]{4}$')\n",
    "pleasecheckthenumber = defaultdict(set)\n",
    "phonelist = ['phone', 'phone:attendance', 'phone:emergency', 'telephone', 'phone:guest_support', 'phone:catering', 'contact:phone', \n",
    "             'phone:mobile', 'phone:tollfree', 'alt_phone', 'phone:alternate', 'phone:english', 'phone:espanol', 'phone:KatieDid', \n",
    "             'phone:appointments', 'phone:customer_service', 'phone:operator:mobile', 'phone:toll-free', 'phone:reservations', \n",
    "             'phone:parts', 'phone:sales', 'phone:service', 'source:contact:phone', 'phone:pharmacy', 'note:phone', 'phone:school', \n",
    "             'phone_UCHTC', 'phone:leasing', 'phone:maintenance', 'phone:howell', 'phone:nurse', 'old_phone', 'phone:pro-desk', \n",
    "             'phone:toll_and_truck_rental', 'phone:ProServices_Desk']\n",
    "\n",
    "\n",
    "def audit_phone(pleasecheckthenumber, number):\n",
    "    m = phone_re.search(number)\n",
    "    if not m:\n",
    "        pleasecheckthenumber[number].add(number)\n",
    "def is_number(elem):\n",
    "    return (elem.attrib['k'] in phonelist)\n",
    "\n",
    "def phoneaudit():\n",
    "    for event, elem in ET.iterparse(Denver, events=('start',)):\n",
    "        if elem.tag == 'node':\n",
    "            for tag in elem.iter('tag'):\n",
    "                if is_number(tag):\n",
    "                    audit_phone(pleasecheckthenumber, tag.attrib['v'])\n",
    "    print(pleasecheckthenumber)\n",
    "\n",
    "phoneaudit()"
   ]
  },
  {
   "cell_type": "markdown",
   "metadata": {},
   "source": [
    "#### Phone Errors\n",
    "Phone errors that need correcting: Missing hyphens, superfluos country code, spaces in phone number, parenthesis around area code "
   ]
  },
  {
   "cell_type": "code",
   "execution_count": 18,
   "metadata": {},
   "outputs": [
    {
     "name": "stdout",
     "output_type": "stream",
     "text": [
      "303-867-5309x1981\n"
     ]
    }
   ],
   "source": [
    "def phone_format(phone_number):\n",
    "    if '+1' in phone_number:\n",
    "            phone_number = re.sub('\\+1','', phone_number)\n",
    "    clean_phone_number = re.sub('[^0-9]+', '', phone_number)\n",
    "    if len(clean_phone_number) == 10:\n",
    "        formatted_phone_number = re.sub(\"(\\d)(?=(\\d{3})+(?!\\d))\", r\"\\1-\", \"%d\" % int(clean_phone_number[:-1])) + clean_phone_number[-1]\n",
    "    else:\n",
    "        formatted_phone_number = phone_ext(clean_phone_number)\n",
    "    return formatted_phone_number\n",
    "\n",
    "def phone_ext(tel):\n",
    "    phonex = f\"{tel[:3]}-{tel[3:6]}-{tel[6:10]}x{tel[10:]}\"\n",
    "    return phonex\n",
    "\n",
    "def fixphone(phone_num):\n",
    "    m = phone_re.search(phone_num)\n",
    "    if not m:\n",
    "        #format phone number\n",
    "        if len(phone_num)>= 10:\n",
    "            phone_num = phone_format(phone_num)\n",
    "    return phone_num\n",
    "\n",
    "print(fixphone('+1(303) 867-5309.x1981'))"
   ]
  },
  {
   "cell_type": "markdown",
   "metadata": {},
   "source": [
    "## Data Extraction\n",
    "I will now extract the data to csv files so that I may easily import it into a sql database. I will do so by following the steps as follows:\n",
    "\n",
    "- Step through each top level element in the XML using iterparse. \n",
    "- Use a custom function to shape each elemebnt inot data structures\n",
    "- Ensure the data is in the correct format with a schema and validation library\n",
    "- Finally write the data to the appropriate .csv file\n",
    "\n",
    "## Shape Element Function\n",
    "The function should take as input an iterparse Element object and return a dictionary.\n"
   ]
  },
  {
   "cell_type": "markdown",
   "metadata": {},
   "source": [
    "\n",
    "\n",
    "### If the element top level tag is \"node\":\n",
    "The dictionary returned should have the format {\"node\": .., \"node_tags\": ...}\n",
    "\n",
    "The \"node\" field should hold a dictionary of the following top level node attributes:\n",
    "- id\n",
    "- user\n",
    "- uid\n",
    "- version\n",
    "- lat\n",
    "- lon\n",
    "- timestamp\n",
    "- changeset\n",
    "All other attributes can be ignored\n",
    "\n",
    "The \"node_tags\" field should hold a list of dictionaries, one per secondary tag. Secondary tags are\n",
    "child tags of node which have the tag name/type: \"tag\". Each dictionary should have the following\n",
    "fields from the secondary tag attributes:\n",
    "- id: the top level node id attribute value\n",
    "- key: the full tag \"k\" attribute value if no colon is present or the characters after the colon if one is.\n",
    "- value: the tag \"v\" attribute value\n",
    "- type: either the characters before the colon in the tag \"k\" value or \"regular\" if a colon\n",
    "        is not present.\n",
    "\n",
    "Additionally,\n",
    "\n",
    "- if the tag \"k\" value contains problematic characters, the tag should be ignored\n",
    "- if the tag \"k\" value contains a \":\" the characters before the \":\" should be set as the tag type\n",
    "  and characters after the \":\" should be set as the tag key\n",
    "- if there are additional \":\" in the \"k\" value they and they should be ignored and kept as part of\n",
    "  the tag key. For example:\n",
    "\n",
    "  <tag k=\"addr:street:name\" v=\"Lincoln\"/>\n",
    "  should be turned into\n",
    "  {'id': 12345, 'key': 'street:name', 'value': 'Lincoln', 'type': 'addr'}\n",
    "\n",
    "- If a node has no secondary tags then the \"node_tags\" field should just contain an empty list.\n",
    "\n",
    "The final return value for a \"node\" element should look something like:\n",
    "\n",
    "{'node': {'id': 757860928,\n",
    "          'user': 'uboot',\n",
    "          'uid': 26299,\n",
    "       'version': '2',\n",
    "          'lat': 41.9747374,\n",
    "          'lon': -87.6920102,\n",
    "          'timestamp': '2010-07-22T16:16:51Z',\n",
    "      'changeset': 5288876},\n",
    " 'node_tags': [{'id': 757860928,\n",
    "                'key': 'amenity',\n",
    "                'value': 'fast_food',\n",
    "                'type': 'regular'},\n",
    "               {'id': 757860928,\n",
    "                'key': 'cuisine',\n",
    "                'value': 'sausage',\n",
    "                'type': 'regular'},\n",
    "               {'id': 757860928,\n",
    "                'key': 'name',\n",
    "                'value': \"Shelly's Tasty Freeze\",\n",
    "                'type': 'regular'}]}"
   ]
  },
  {
   "cell_type": "markdown",
   "metadata": {},
   "source": [
    "### If the element top level tag is \"way\":\n",
    "The dictionary should have the format {\"way\": ..., \"way_tags\": ..., \"way_nodes\": ...}\n",
    "\n",
    "The \"way\" field should hold a dictionary of the following top level way attributes:\n",
    "- id\n",
    "-  user\n",
    "- uid\n",
    "- version\n",
    "- timestamp\n",
    "- changeset\n",
    "\n",
    "All other attributes can be ignored\n",
    "\n",
    "The \"way_tags\" field should again hold a list of dictionaries, following the exact same rules as\n",
    "for \"node_tags\".\n",
    "\n",
    "Additionally, the dictionary should have a field \"way_nodes\". \"way_nodes\" should hold a list of\n",
    "dictionaries, one for each nd child tag.  Each dictionary should have the fields:\n",
    "- id: the top level element (way) id\n",
    "- node_id: the ref attribute value of the nd tag\n",
    "- position: the index starting at 0 of the nd tag i.e. what order the nd tag appears within the way element\n",
    "\n",
    "The final return value for a \"way\" element should look something like:\n",
    "\n",
    "{'way': {'id': 209809850,\n",
    "         'user': 'chicago-buildings',\n",
    "         'uid': 674454,\n",
    "         'version': '1',\n",
    "         'timestamp': '2013-03-13T15:58:04Z',\n",
    "         'changeset': 15353317},\n",
    " 'way_nodes': [{'id': 209809850, 'node_id': 2199822281, 'position': 0},\n",
    "               {'id': 209809850, 'node_id': 2199822390, 'position': 1},\n",
    "               {'id': 209809850, 'node_id': 2199822392, 'position': 2},\n",
    "               {'id': 209809850, 'node_id': 2199822369, 'position': 3},\n",
    "               {'id': 209809850, 'node_id': 2199822370, 'position': 4},\n",
    "               {'id': 209809850, 'node_id': 2199822284, 'position': 5},\n",
    "               {'id': 209809850, 'node_id': 2199822281, 'position': 6}],\n",
    " 'way_tags': [{'id': 209809850,\n",
    "               'key': 'housenumber',\n",
    "               'type': 'addr',\n",
    "               'value': '1412'},\n",
    "              {'id': 209809850,\n",
    "               'key': 'street',\n",
    "               'type': 'addr',\n",
    "               'value': 'West Lexington St.'},\n",
    "              {'id': 209809850,\n",
    "               'key': 'street:name',\n",
    "               'type': 'addr',\n",
    "               'value': 'Lexington'},\n",
    "              {'id': '209809850',\n",
    "               'key': 'street:prefix',\n",
    "               'type': 'addr',\n",
    "               'value': 'West'},\n",
    "              {'id': 209809850,\n",
    "               'key': 'street:type',\n",
    "               'type': 'addr',\n",
    "               'value': 'Street'},\n",
    "              {'id': 209809850,\n",
    "               'key': 'building',\n",
    "               'type': 'regular',\n",
    "               'value': 'yes'},\n",
    "              {'id': 209809850,\n",
    "               'key': 'levels',\n",
    "               'type': 'building',\n",
    "               'value': '1'},\n",
    "              {'id': 209809850,\n",
    "               'key': 'building_id',\n",
    "               'type': 'chicago',\n",
    "               'value': '366409'}]}"
   ]
  },
  {
   "cell_type": "code",
   "execution_count": 8,
   "metadata": {},
   "outputs": [],
   "source": [
    "OSM_PATH = \"denver_colorado_osm.xml\"\n",
    "NODES_PATH = \"nodes.csv\"\n",
    "NODE_TAGS_PATH = \"nodes_tags.csv\"\n",
    "WAYS_PATH = \"ways.csv\"\n",
    "WAY_NODES_PATH = \"ways_nodes.csv\"\n",
    "WAY_TAGS_PATH = \"ways_tags.csv\"\n",
    "\n",
    "LOWER_COLON = re.compile(r'^([a-z]|_)+:([a-z]|_)+')\n",
    "PROBLEMCHARS = re.compile(r'[=\\+/&<>;\\'\"\\?%#$@\\,\\. \\t\\r\\n]')\n",
    "\n",
    "SCHEMA = schema.schema\n",
    "\n",
    "# Make sure the fields order in the csvs matches the column order in the sql table schema\n",
    "NODE_FIELDS = ['id', 'lat', 'lon', 'user', 'uid', 'version', 'changeset', 'timestamp']\n",
    "NODE_TAGS_FIELDS = ['id', 'key', 'value', 'type']\n",
    "WAY_FIELDS = ['id', 'user', 'uid', 'version', 'changeset', 'timestamp']\n",
    "WAY_TAGS_FIELDS = ['id', 'key', 'value', 'type']\n",
    "WAY_NODES_FIELDS = ['id', 'node_id', 'position']\n",
    "\n",
    "\n",
    "def shape_element(element, node_attr_fields=NODE_FIELDS, way_attr_fields=WAY_FIELDS,\n",
    "                  problem_chars=PROBLEMCHARS, default_tag_type='regular'):\n",
    "    \"\"\"Clean and shape node or way XML element to Python dict\"\"\"\n",
    "\n",
    "    node_attribs = {}\n",
    "    way_attribs = {}\n",
    "    way_nodes = []\n",
    "    tags = []  # Handle secondary tags the same way for both node and way elements\n",
    "\n",
    "    if element.tag == 'node':\n",
    "        # create dictionary for node\n",
    "        for i in node_attr_fields:\n",
    "            node_attribs[i] = element.attrib[i]\n",
    "        # create list of dictionaries for node_tags\n",
    "        for t in element.findall('tag'):\n",
    "            nt = {}\n",
    "            nt['id'] = node_attribs['id']\n",
    "            if (t.attrib['k'] in phonelist):\n",
    "                result = fixphone(t.attrib['v'])\n",
    "                if result:\n",
    "                    nt['value'] = result\n",
    "                else:\n",
    "                    continue\n",
    "            else:\n",
    "                nt['value'] = t.attrib['v']\n",
    "            m = problem_chars.search(t.attrib['k'])\n",
    "            l = LOWER_COLON.search(t.attrib['k'])\n",
    "            if m:\n",
    "                return\n",
    "            elif t:\n",
    "                nt['key'] = t.attrib['k'].split(':',1)[1]\n",
    "                nt['type'] = t.attrib['k'].split(':',1)[0]\n",
    "            else:\n",
    "                nt['key'] = t.attrib['k']\n",
    "                nt['type'] = default_tag_type\n",
    "            tags.append(nt)\n",
    "        return {'node': node_attribs, 'node_tags': tags}\n",
    "    elif element.tag == 'way':\n",
    "        # create dictionary for way\n",
    "        for i in way_attr_fields:\n",
    "            way_attribs[i] = element.attrib[i]\n",
    "        # create list of dictionaries for way_nodes\n",
    "            count = 0\n",
    "            for n in element.findall('nd'):\n",
    "                nd = {}\n",
    "                nd['id'] = way_attribs['id']\n",
    "                nd['node_id'] = n.attrib['ref']\n",
    "                nd['position'] = count\n",
    "                count += 1\n",
    "                \n",
    "                way_nodes.append(nd)\n",
    "        # create list of dictionaries for way_tags\n",
    "        for t in element.findall('tag'):\n",
    "            wt = {}\n",
    "            wt['id'] = way_attribs['id']\n",
    "            if t.attrib['k'] in phonelist:\n",
    "                result = fixphone(t.attrib['v'])\n",
    "                if result:\n",
    "                    wt['value'] = result\n",
    "                else:\n",
    "                    continue\n",
    "            elif t.attrib['k'] == 'addr:street':\n",
    "                bettername = update_name(t.attrib['v'], street_mapping)\n",
    "                if bettername:\n",
    "                    wt['value'] = bettername\n",
    "                else:\n",
    "                    continue\n",
    "            else:\n",
    "                wt['value'] = t.attrib['v']\n",
    "            m = problem_chars.search(t.attrib['k'])\n",
    "            l = LOWER_COLON.search(t.attrib['k'])\n",
    "            if m:\n",
    "                return\n",
    "            elif l:\n",
    "                wt['key'] = t.attrib['k'].split(':',1)[1]\n",
    "                wt['type'] = t.attrib['k'].split(':',1)[0]\n",
    "            else:\n",
    "                wt['key'] = t.attrib['k']\n",
    "                wt['type'] = default_tag_type\n",
    "            tags.append(wt)\n",
    "            \n",
    "        return {'way': way_attribs, 'way_nodes': way_nodes, 'way_tags': tags}\n",
    "\n",
    "\n",
    "\n",
    "# ================================================== #\n",
    "#               Helper Functions                     #\n",
    "# ================================================== #\n",
    "\n",
    "def get_element(osm_file, tags=('node', 'way', 'relation')):\n",
    "    \"\"\"Yield element if it is the right type of tag\"\"\"\n",
    "\n",
    "    context = ET.iterparse(osm_file, events=('start', 'end'))\n",
    "    _, root = next(context)\n",
    "    for event, elem in context:\n",
    "        if event == 'end' and elem.tag in tags:\n",
    "            yield elem\n",
    "            root.clear()\n",
    "\n",
    "\n",
    "def validate_element(element, validator, schema=SCHEMA):\n",
    "    \"\"\"Raise ValidationError if element does not match schema\"\"\"\n",
    "    if validator.validate(element, schema) is not True:\n",
    "        field, errors = next(validator.errors.items())\n",
    "        message_string = \"\\nElement of type '{0}' has the following errors:\\n{1}\"\n",
    "        error_string = pprint.pformat(errors)\n",
    "        \n",
    "        raise Exception(message_string.format(field, error_string))\n",
    "\n",
    "\n",
    "class UnicodeDictWriter(csv.DictWriter, object):\n",
    "    \"\"\"Extend csv.DictWriter to handle Unicode input\"\"\"\n",
    "\n",
    "    def writerow(self, row):\n",
    "        super(UnicodeDictWriter, self).writerow({\n",
    "            k: v for k, v in row.items()\n",
    "            # k: (repr(v).encode('utf-8') if not isinstance(v, bytes) else v) for k, v in row.items()\n",
    "        })\n",
    "\n",
    "    def writerows(self, rows):\n",
    "        for row in rows:\n",
    "            self.writerow(row)\n",
    "\n",
    "\n",
    "# ================================================== #\n",
    "#               Main Function                        #\n",
    "# ================================================== #\n",
    "def process_map(file_in, validate):\n",
    "    \"\"\"Iteratively process each XML element and write to csv(s)\"\"\"\n",
    "\n",
    "    with codecs.open(NODES_PATH, 'w', \"utf-8\") as nodes_file, \\\n",
    "         codecs.open(NODE_TAGS_PATH, 'w', \"utf-8\") as nodes_tags_file, \\\n",
    "         codecs.open(WAYS_PATH, 'w', \"utf-8\") as ways_file, \\\n",
    "         codecs.open(WAY_NODES_PATH, 'w', \"utf-8\") as way_nodes_file, \\\n",
    "         codecs.open(WAY_TAGS_PATH, 'w', \"utf-8\") as way_tags_file:\n",
    "\n",
    "        nodes_writer = UnicodeDictWriter(nodes_file, NODE_FIELDS)\n",
    "        node_tags_writer = UnicodeDictWriter(nodes_tags_file, NODE_TAGS_FIELDS)\n",
    "        ways_writer = UnicodeDictWriter(ways_file, WAY_FIELDS)\n",
    "        way_nodes_writer = UnicodeDictWriter(way_nodes_file, WAY_NODES_FIELDS)\n",
    "        way_tags_writer = UnicodeDictWriter(way_tags_file, WAY_TAGS_FIELDS)\n",
    "\n",
    "        nodes_writer.writeheader()\n",
    "        node_tags_writer.writeheader()\n",
    "        ways_writer.writeheader()\n",
    "        way_nodes_writer.writeheader()\n",
    "        way_tags_writer.writeheader()\n",
    "\n",
    "        validator = cerberus.Validator()\n",
    "\n",
    "        for element in get_element(file_in, tags=('node', 'way')):\n",
    "            el = shape_element(element)\n",
    "            if el:\n",
    "                if validate is True:\n",
    "                    validate_element(el, validator)\n",
    "\n",
    "                if element.tag == 'node':\n",
    "                    nodes_writer.writerow(el['node'])\n",
    "                    node_tags_writer.writerows(el['node_tags'])\n",
    "                elif element.tag == 'way':\n",
    "                    ways_writer.writerow(el['way'])\n",
    "                    way_nodes_writer.writerows(el['way_nodes'])\n",
    "                    way_tags_writer.writerows(el['way_tags'])\n",
    "\n",
    "\n",
    "if __name__ == '__main__':\n",
    "    # Note: Validation is ~ 10X slower. For the project consider using a small\n",
    "    # sample of the map when validating.\n",
    "    process_map(OSM_PATH, validate=True)\n"
   ]
  },
  {
   "cell_type": "markdown",
   "metadata": {
    "collapsed": true
   },
   "source": [
    "## Data Import and Analysis <a id='SQL'></a>\n",
    "With the data now converted to tabular form in CSVs I will begin to analyze it with the following steps:\n",
    "1. Create appropriate tables in my database and upload the data from my CSVs\n",
    "2. Querry the data to answer questions. "
   ]
  },
  {
   "cell_type": "markdown",
   "metadata": {},
   "source": [
    "I will use the following to create my tables:\n",
    "\n",
    "CREATE TABLE nodes (\n",
    "\n",
    "    id INTEGER PRIMARY KEY NOT NULL,\n",
    "    lat REAL,\n",
    "    lon REAL,\n",
    "    user TEXT,\n",
    "    uid INTEGER,\n",
    "    version INTEGER,\n",
    "    changeset INTEGER,\n",
    "    timestamp TEXT\n",
    ");\n",
    "\n",
    "CREATE TABLE nodes_tags (\n",
    "\n",
    "    id INTEGER,\n",
    "    key TEXT,\n",
    "    value TEXT,\n",
    "    type TEXT,\n",
    "    FOREIGN KEY (id) REFERENCES nodes(id)\n",
    ");\n",
    "\n",
    "CREATE TABLE ways (\n",
    "\n",
    "    id INTEGER PRIMARY KEY NOT NULL,\n",
    "    user TEXT,\n",
    "    uid INTEGER,\n",
    "    version TEXT,\n",
    "    changeset INTEGER,\n",
    "    timestamp TEXT\n",
    ");\n",
    "\n",
    "CREATE TABLE ways_tags (\n",
    "\n",
    "    id INTEGER NOT NULL,\n",
    "    key TEXT NOT NULL,\n",
    "    value TEXT NOT NULL,\n",
    "    type TEXT,\n",
    "    FOREIGN KEY (id) REFERENCES ways(id)\n",
    ");\n",
    "\n",
    "CREATE TABLE ways_nodes (\n",
    "\n",
    "    id INTEGER NOT NULL,\n",
    "    node_id INTEGER NOT NULL,\n",
    "    position INTEGER NOT NULL,\n",
    "    FOREIGN KEY (id) REFERENCES ways(id),\n",
    "    FOREIGN KEY (node_id) REFERENCES nodes(id)\n",
    ");"
   ]
  },
  {
   "cell_type": "markdown",
   "metadata": {},
   "source": [
    "### Analyze Data\n",
    "Now that my schema is created and my data is imported I will answer the following questions:\n",
    "1. What is the number of unique users?\n",
    "2. How many nodes?\n",
    "3. How many ways?\n",
    "4. What is the number of doctors?\n"
   ]
  },
  {
   "cell_type": "markdown",
   "metadata": {},
   "source": [
    "#### What is the number of unique users?\n",
    "Using the following querry I was able to identify the number of unique users:\n",
    "\n",
    "Select count(DISTINCT users.uid) as 'usercount'\n",
    "From (Select uid from nodes UNION ALL Select uid from ways) users;\n",
    "\n",
    "- There are 1,294 unique users."
   ]
  },
  {
   "cell_type": "markdown",
   "metadata": {},
   "source": [
    "#### What is the number of nodes?\n",
    "Using the following querry I was able to identify the number of nodes:\n",
    "\n",
    "Select count(*) from nodes;\n",
    "\n",
    "- There are 3,132,214 nodes."
   ]
  },
  {
   "cell_type": "markdown",
   "metadata": {},
   "source": [
    "#### What is the number of ways?\n",
    "Using the following querry I was able to identify the number of ways:\n",
    "\n",
    "Select count(*) from ways;\n",
    "\n",
    "- There are 396,041 ways."
   ]
  },
  {
   "cell_type": "markdown",
   "metadata": {},
   "source": [
    "#### How many doctors are there?\n",
    "Using the following querry I was able to identify the number of doctors:\n",
    "\n",
    "Select value, count(id) as 'number' from nodes_tags \n",
    "where key in ('amenity', 'amenity_1', 'amenity_2', 'amenity_3') and value = 'doctors' \n",
    "group by value\n",
    "\n",
    "- There are 80 doctors"
   ]
  },
  {
   "cell_type": "markdown",
   "metadata": {},
   "source": [
    "### Ideas for Improvement\n",
    "It is difficult to maintain consitency in a database when it is rigidly structured and includes input from only approved users. These problems compound when the database is open source and fluid. If the database were too rigid we would no doubt lose a great deal of the information that has been included. \n",
    "\n",
    "However, when we look at the vast range of fields that contain phone numbers:\n",
    "\n",
    "'phone', 'phone:attendance', 'phone:emergency', 'telephone', 'phone:guest_support', 'phone:catering', 'contact:phone',       'phone:mobile', 'phone:tollfree', 'alt_phone', 'phone:alternate', 'phone:english', 'phone:espanol', 'phone:KatieDid', \n",
    "'phone:appointments', 'phone:customer_service', 'phone:operator:mobile', 'phone:toll-free', 'phone:reservations', \n",
    "'phone:parts', 'phone:sales', 'phone:service', 'source:contact:phone', 'phone:pharmacy', 'note:phone', 'phone:school', \n",
    "'phone_UCHTC', 'phone:leasing', 'phone:maintenance', 'phone:howell', 'phone:nurse', 'old_phone', 'phone:pro-desk', \n",
    "'phone:toll_and_truck_rental', 'phone:ProServices_Desk'\n",
    "\n",
    "We can immediately see the benefit of some standardization. For example:\n",
    "\n",
    "What is the differance between 'phone', 'telephone', 'contact:phone', or 'source:contact:phone'?\n",
    "\n",
    "Isn't 'alt_phone' astonishingly similar to 'phone:alternate'?\n",
    "\n",
    "Do we expect to see many entries in the 'phone:howell', 'phone:ProServices_Desk', or 'phone:toll_and_truck_rental'?\n",
    "\n",
    "As a matter of fact if we run the following querry:\n",
    "\n",
    "Select value from ways_tags where type = 'phone' and key = 'toll_and_truck_rental';\n",
    "\n",
    "We return only one value:\n",
    "- 303-698-7082\n",
    "\n",
    "It would be much simpler if phone were a special sort of tag that held phone numbers associated with a node or way. If this were the case we could apply data validation to make certain the number was valid and formatted correctly. These two changes would save a great deal of trouble to anyone trying to make use of the data. "
   ]
  },
  {
   "cell_type": "code",
   "execution_count": null,
   "metadata": {},
   "outputs": [],
   "source": []
  }
 ],
 "metadata": {
  "kernelspec": {
   "display_name": "Python 3",
   "language": "python",
   "name": "python3"
  },
  "language_info": {
   "codemirror_mode": {
    "name": "ipython",
    "version": 3
   },
   "file_extension": ".py",
   "mimetype": "text/x-python",
   "name": "python",
   "nbconvert_exporter": "python",
   "pygments_lexer": "ipython3",
   "version": "3.8.8"
  }
 },
 "nbformat": 4,
 "nbformat_minor": 2
}
